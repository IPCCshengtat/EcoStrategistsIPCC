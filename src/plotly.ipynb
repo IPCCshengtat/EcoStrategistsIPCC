{
 "cells": [
  {
   "cell_type": "code",
   "execution_count": 1,
   "metadata": {},
   "outputs": [],
   "source": [
    "# For Data Analysis\n",
    "import pandas as pd\n",
    "import numpy as np\n",
    "import matplotlib.pyplot as plt\n",
    "pd.set_option('display.max_columns', 500)\n",
    "\n",
    "# For Data Visualization\n",
    "import plotly as py\n",
    "import plotly.graph_objs as go\n",
    "import plotly.express as px\n",
    "import plotly.figure_factory as ff\n",
    "import plotly.io as pio\n",
    "import plotly.offline as pyo\n",
    "\n",
    "from plotly.subplots import make_subplots\n",
    "from plotly.offline import plot\n",
    "\n",
    "# Template\n",
    "pio.templates.default = \"plotly_dark\"\n",
    "\n",
    "# Ignore Warnings\n",
    "import warnings\n",
    "warnings.filterwarnings(\"ignore\")"
   ]
  },
  {
   "cell_type": "code",
   "execution_count": 28,
   "metadata": {},
   "outputs": [],
   "source": [
    "data = pd.read_csv(r'energy.csv')\n",
    "my = ['Malaysia']\n",
    "asia = ['Afghanistan', 'Armenia', 'Azerbaijan', 'Bahrain', 'Bangladesh', 'Bhutan', 'Brunei', 'Cambodia', 'Cyprus', 'Georgia', 'Hong Kong', 'Indonesia', \n",
    "'Iran', 'Iraq', 'Israel', 'Japan', 'Jordan', 'Kazakhstan', 'Kuwait', 'Kyrgyzstan', 'Laos', 'Lebanon', 'Macao', 'Malaysia', 'Maldives', 'Mongolia', 'Myanmar', 'Nepal', \n",
    "'North Korea', 'Oman', 'Pakistan', 'Philippines', 'Qatar', 'Saudi Arabia', 'Singapore', 'South Korea', 'Sri Lanka', 'State of Palestine', 'Syria', 'Taiwan', 'Tajikistan', \n",
    "'Thailand', 'Timor-Leste', 'Turkey', 'Turkmenistan', 'United Arab Emirates', 'Uzbekistan', 'Vietnam', 'Yemen', 'China', 'India']\n",
    "data_my = data[data['Entity'].isin(my)]\n",
    "data_asia = data[data['Entity'].isin(asia)]"
   ]
  },
  {
   "cell_type": "code",
   "execution_count": 29,
   "metadata": {},
   "outputs": [],
   "source": [
    "# Assume new parameters\n",
    "electricity_my = data_my[['Entity','Year','FF (TWh)', 'Nuclear (TWh)','RE (TWh)',]]\n",
    "electricity_my_sum = electricity_my.groupby('Year').sum()"
   ]
  },
  {
   "cell_type": "code",
   "execution_count": 30,
   "metadata": {},
   "outputs": [
    {
     "data": {
      "text/html": [
       "<div>\n",
       "<style scoped>\n",
       "    .dataframe tbody tr th:only-of-type {\n",
       "        vertical-align: middle;\n",
       "    }\n",
       "\n",
       "    .dataframe tbody tr th {\n",
       "        vertical-align: top;\n",
       "    }\n",
       "\n",
       "    .dataframe thead th {\n",
       "        text-align: right;\n",
       "    }\n",
       "</style>\n",
       "<table border=\"1\" class=\"dataframe\">\n",
       "  <thead>\n",
       "    <tr style=\"text-align: right;\">\n",
       "      <th></th>\n",
       "      <th>Entity</th>\n",
       "      <th>FF (TWh)</th>\n",
       "      <th>Nuclear (TWh)</th>\n",
       "      <th>RE (TWh)</th>\n",
       "    </tr>\n",
       "    <tr>\n",
       "      <th>Year</th>\n",
       "      <th></th>\n",
       "      <th></th>\n",
       "      <th></th>\n",
       "      <th></th>\n",
       "    </tr>\n",
       "  </thead>\n",
       "  <tbody>\n",
       "    <tr>\n",
       "      <th>2000</th>\n",
       "      <td>Malaysia</td>\n",
       "      <td>62.91</td>\n",
       "      <td>0.0</td>\n",
       "      <td>7.56</td>\n",
       "    </tr>\n",
       "    <tr>\n",
       "      <th>2001</th>\n",
       "      <td>Malaysia</td>\n",
       "      <td>69.71</td>\n",
       "      <td>0.0</td>\n",
       "      <td>6.64</td>\n",
       "    </tr>\n",
       "    <tr>\n",
       "      <th>2002</th>\n",
       "      <td>Malaysia</td>\n",
       "      <td>74.78</td>\n",
       "      <td>0.0</td>\n",
       "      <td>5.81</td>\n",
       "    </tr>\n",
       "    <tr>\n",
       "      <th>2003</th>\n",
       "      <td>Malaysia</td>\n",
       "      <td>77.25</td>\n",
       "      <td>0.0</td>\n",
       "      <td>5.51</td>\n",
       "    </tr>\n",
       "    <tr>\n",
       "      <th>2004</th>\n",
       "      <td>Malaysia</td>\n",
       "      <td>89.30</td>\n",
       "      <td>0.0</td>\n",
       "      <td>6.15</td>\n",
       "    </tr>\n",
       "    <tr>\n",
       "      <th>2005</th>\n",
       "      <td>Malaysia</td>\n",
       "      <td>91.79</td>\n",
       "      <td>0.0</td>\n",
       "      <td>6.60</td>\n",
       "    </tr>\n",
       "    <tr>\n",
       "      <th>2006</th>\n",
       "      <td>Malaysia</td>\n",
       "      <td>96.31</td>\n",
       "      <td>0.0</td>\n",
       "      <td>6.94</td>\n",
       "    </tr>\n",
       "    <tr>\n",
       "      <th>2007</th>\n",
       "      <td>Malaysia</td>\n",
       "      <td>101.52</td>\n",
       "      <td>0.0</td>\n",
       "      <td>6.72</td>\n",
       "    </tr>\n",
       "    <tr>\n",
       "      <th>2008</th>\n",
       "      <td>Malaysia</td>\n",
       "      <td>105.01</td>\n",
       "      <td>0.0</td>\n",
       "      <td>8.61</td>\n",
       "    </tr>\n",
       "    <tr>\n",
       "      <th>2009</th>\n",
       "      <td>Malaysia</td>\n",
       "      <td>107.66</td>\n",
       "      <td>0.0</td>\n",
       "      <td>8.28</td>\n",
       "    </tr>\n",
       "    <tr>\n",
       "      <th>2010</th>\n",
       "      <td>Malaysia</td>\n",
       "      <td>117.16</td>\n",
       "      <td>0.0</td>\n",
       "      <td>7.62</td>\n",
       "    </tr>\n",
       "    <tr>\n",
       "      <th>2011</th>\n",
       "      <td>Malaysia</td>\n",
       "      <td>117.43</td>\n",
       "      <td>0.0</td>\n",
       "      <td>9.60</td>\n",
       "    </tr>\n",
       "    <tr>\n",
       "      <th>2012</th>\n",
       "      <td>Malaysia</td>\n",
       "      <td>123.23</td>\n",
       "      <td>0.0</td>\n",
       "      <td>10.76</td>\n",
       "    </tr>\n",
       "    <tr>\n",
       "      <th>2013</th>\n",
       "      <td>Malaysia</td>\n",
       "      <td>127.86</td>\n",
       "      <td>0.0</td>\n",
       "      <td>13.04</td>\n",
       "    </tr>\n",
       "    <tr>\n",
       "      <th>2014</th>\n",
       "      <td>Malaysia</td>\n",
       "      <td>133.16</td>\n",
       "      <td>0.0</td>\n",
       "      <td>14.31</td>\n",
       "    </tr>\n",
       "    <tr>\n",
       "      <th>2015</th>\n",
       "      <td>Malaysia</td>\n",
       "      <td>135.17</td>\n",
       "      <td>0.0</td>\n",
       "      <td>14.94</td>\n",
       "    </tr>\n",
       "    <tr>\n",
       "      <th>2016</th>\n",
       "      <td>Malaysia</td>\n",
       "      <td>135.56</td>\n",
       "      <td>0.0</td>\n",
       "      <td>21.09</td>\n",
       "    </tr>\n",
       "    <tr>\n",
       "      <th>2017</th>\n",
       "      <td>Malaysia</td>\n",
       "      <td>132.70</td>\n",
       "      <td>0.0</td>\n",
       "      <td>27.94</td>\n",
       "    </tr>\n",
       "    <tr>\n",
       "      <th>2018</th>\n",
       "      <td>Malaysia</td>\n",
       "      <td>142.27</td>\n",
       "      <td>0.0</td>\n",
       "      <td>28.31</td>\n",
       "    </tr>\n",
       "    <tr>\n",
       "      <th>2019</th>\n",
       "      <td>Malaysia</td>\n",
       "      <td>149.70</td>\n",
       "      <td>0.0</td>\n",
       "      <td>28.76</td>\n",
       "    </tr>\n",
       "    <tr>\n",
       "      <th>2020</th>\n",
       "      <td>Malaysia</td>\n",
       "      <td>138.77</td>\n",
       "      <td>0.0</td>\n",
       "      <td>30.54</td>\n",
       "    </tr>\n",
       "  </tbody>\n",
       "</table>\n",
       "</div>"
      ],
      "text/plain": [
       "        Entity  FF (TWh)  Nuclear (TWh)  RE (TWh)\n",
       "Year                                             \n",
       "2000  Malaysia     62.91            0.0      7.56\n",
       "2001  Malaysia     69.71            0.0      6.64\n",
       "2002  Malaysia     74.78            0.0      5.81\n",
       "2003  Malaysia     77.25            0.0      5.51\n",
       "2004  Malaysia     89.30            0.0      6.15\n",
       "2005  Malaysia     91.79            0.0      6.60\n",
       "2006  Malaysia     96.31            0.0      6.94\n",
       "2007  Malaysia    101.52            0.0      6.72\n",
       "2008  Malaysia    105.01            0.0      8.61\n",
       "2009  Malaysia    107.66            0.0      8.28\n",
       "2010  Malaysia    117.16            0.0      7.62\n",
       "2011  Malaysia    117.43            0.0      9.60\n",
       "2012  Malaysia    123.23            0.0     10.76\n",
       "2013  Malaysia    127.86            0.0     13.04\n",
       "2014  Malaysia    133.16            0.0     14.31\n",
       "2015  Malaysia    135.17            0.0     14.94\n",
       "2016  Malaysia    135.56            0.0     21.09\n",
       "2017  Malaysia    132.70            0.0     27.94\n",
       "2018  Malaysia    142.27            0.0     28.31\n",
       "2019  Malaysia    149.70            0.0     28.76\n",
       "2020  Malaysia    138.77            0.0     30.54"
      ]
     },
     "execution_count": 30,
     "metadata": {},
     "output_type": "execute_result"
    }
   ],
   "source": [
    "electricity_my_sum"
   ]
  },
  {
   "cell_type": "code",
   "execution_count": 31,
   "metadata": {},
   "outputs": [
    {
     "data": {
      "text/plain": [
       "array([ 62.91,  69.71,  74.78,  77.25,  89.3 ,  91.79,  96.31, 101.52,\n",
       "       105.01, 107.66, 117.16, 117.43, 123.23, 127.86, 133.16, 135.17,\n",
       "       135.56, 132.7 , 142.27, 149.7 , 138.77])"
      ]
     },
     "execution_count": 31,
     "metadata": {},
     "output_type": "execute_result"
    }
   ],
   "source": [
    "dfclean = pd.DataFrame()\n",
    "FF = electricity_my_sum['FF (TWh)'].values\n",
    "FF"
   ]
  },
  {
   "cell_type": "code",
   "execution_count": 32,
   "metadata": {},
   "outputs": [],
   "source": [
    "electricity_my_sum['Total Electricity'] = electricity_my_sum['FF (TWh)'] + electricity_my_sum['Nuclear (TWh)'] + electricity_my_sum['RE (TWh)']"
   ]
  },
  {
   "cell_type": "code",
   "execution_count": 33,
   "metadata": {},
   "outputs": [],
   "source": [
    "electricity_my_sum['FF Share'] = (electricity_my_sum['FF (TWh)']/electricity_my_sum['Total Electricity'])*100\n",
    "electricity_my_sum['Nuclear Share'] = (electricity_my_sum['Nuclear (TWh)']/electricity_my_sum['Total Electricity'])*100\n",
    "electricity_my_sum['RE Share'] = (electricity_my_sum['RE (TWh)']/electricity_my_sum['Total Electricity'])*100"
   ]
  },
  {
   "cell_type": "code",
   "execution_count": 34,
   "metadata": {},
   "outputs": [
    {
     "data": {
      "text/html": [
       "<div>\n",
       "<style scoped>\n",
       "    .dataframe tbody tr th:only-of-type {\n",
       "        vertical-align: middle;\n",
       "    }\n",
       "\n",
       "    .dataframe tbody tr th {\n",
       "        vertical-align: top;\n",
       "    }\n",
       "\n",
       "    .dataframe thead th {\n",
       "        text-align: right;\n",
       "    }\n",
       "</style>\n",
       "<table border=\"1\" class=\"dataframe\">\n",
       "  <thead>\n",
       "    <tr style=\"text-align: right;\">\n",
       "      <th></th>\n",
       "      <th>Entity</th>\n",
       "      <th>FF (TWh)</th>\n",
       "      <th>Nuclear (TWh)</th>\n",
       "      <th>RE (TWh)</th>\n",
       "      <th>Total Electricity</th>\n",
       "      <th>FF Share</th>\n",
       "      <th>Nuclear Share</th>\n",
       "      <th>RE Share</th>\n",
       "    </tr>\n",
       "    <tr>\n",
       "      <th>Year</th>\n",
       "      <th></th>\n",
       "      <th></th>\n",
       "      <th></th>\n",
       "      <th></th>\n",
       "      <th></th>\n",
       "      <th></th>\n",
       "      <th></th>\n",
       "      <th></th>\n",
       "    </tr>\n",
       "  </thead>\n",
       "  <tbody>\n",
       "    <tr>\n",
       "      <th>2000</th>\n",
       "      <td>Malaysia</td>\n",
       "      <td>62.91</td>\n",
       "      <td>0.0</td>\n",
       "      <td>7.56</td>\n",
       "      <td>70.47</td>\n",
       "      <td>89.272031</td>\n",
       "      <td>0.0</td>\n",
       "      <td>10.727969</td>\n",
       "    </tr>\n",
       "    <tr>\n",
       "      <th>2001</th>\n",
       "      <td>Malaysia</td>\n",
       "      <td>69.71</td>\n",
       "      <td>0.0</td>\n",
       "      <td>6.64</td>\n",
       "      <td>76.35</td>\n",
       "      <td>91.303209</td>\n",
       "      <td>0.0</td>\n",
       "      <td>8.696791</td>\n",
       "    </tr>\n",
       "    <tr>\n",
       "      <th>2002</th>\n",
       "      <td>Malaysia</td>\n",
       "      <td>74.78</td>\n",
       "      <td>0.0</td>\n",
       "      <td>5.81</td>\n",
       "      <td>80.59</td>\n",
       "      <td>92.790669</td>\n",
       "      <td>0.0</td>\n",
       "      <td>7.209331</td>\n",
       "    </tr>\n",
       "    <tr>\n",
       "      <th>2003</th>\n",
       "      <td>Malaysia</td>\n",
       "      <td>77.25</td>\n",
       "      <td>0.0</td>\n",
       "      <td>5.51</td>\n",
       "      <td>82.76</td>\n",
       "      <td>93.342194</td>\n",
       "      <td>0.0</td>\n",
       "      <td>6.657806</td>\n",
       "    </tr>\n",
       "    <tr>\n",
       "      <th>2004</th>\n",
       "      <td>Malaysia</td>\n",
       "      <td>89.30</td>\n",
       "      <td>0.0</td>\n",
       "      <td>6.15</td>\n",
       "      <td>95.45</td>\n",
       "      <td>93.556836</td>\n",
       "      <td>0.0</td>\n",
       "      <td>6.443164</td>\n",
       "    </tr>\n",
       "    <tr>\n",
       "      <th>2005</th>\n",
       "      <td>Malaysia</td>\n",
       "      <td>91.79</td>\n",
       "      <td>0.0</td>\n",
       "      <td>6.60</td>\n",
       "      <td>98.39</td>\n",
       "      <td>93.292001</td>\n",
       "      <td>0.0</td>\n",
       "      <td>6.707999</td>\n",
       "    </tr>\n",
       "    <tr>\n",
       "      <th>2006</th>\n",
       "      <td>Malaysia</td>\n",
       "      <td>96.31</td>\n",
       "      <td>0.0</td>\n",
       "      <td>6.94</td>\n",
       "      <td>103.25</td>\n",
       "      <td>93.278450</td>\n",
       "      <td>0.0</td>\n",
       "      <td>6.721550</td>\n",
       "    </tr>\n",
       "    <tr>\n",
       "      <th>2007</th>\n",
       "      <td>Malaysia</td>\n",
       "      <td>101.52</td>\n",
       "      <td>0.0</td>\n",
       "      <td>6.72</td>\n",
       "      <td>108.24</td>\n",
       "      <td>93.791574</td>\n",
       "      <td>0.0</td>\n",
       "      <td>6.208426</td>\n",
       "    </tr>\n",
       "    <tr>\n",
       "      <th>2008</th>\n",
       "      <td>Malaysia</td>\n",
       "      <td>105.01</td>\n",
       "      <td>0.0</td>\n",
       "      <td>8.61</td>\n",
       "      <td>113.62</td>\n",
       "      <td>92.422109</td>\n",
       "      <td>0.0</td>\n",
       "      <td>7.577891</td>\n",
       "    </tr>\n",
       "    <tr>\n",
       "      <th>2009</th>\n",
       "      <td>Malaysia</td>\n",
       "      <td>107.66</td>\n",
       "      <td>0.0</td>\n",
       "      <td>8.28</td>\n",
       "      <td>115.94</td>\n",
       "      <td>92.858375</td>\n",
       "      <td>0.0</td>\n",
       "      <td>7.141625</td>\n",
       "    </tr>\n",
       "    <tr>\n",
       "      <th>2010</th>\n",
       "      <td>Malaysia</td>\n",
       "      <td>117.16</td>\n",
       "      <td>0.0</td>\n",
       "      <td>7.62</td>\n",
       "      <td>124.78</td>\n",
       "      <td>93.893252</td>\n",
       "      <td>0.0</td>\n",
       "      <td>6.106748</td>\n",
       "    </tr>\n",
       "    <tr>\n",
       "      <th>2011</th>\n",
       "      <td>Malaysia</td>\n",
       "      <td>117.43</td>\n",
       "      <td>0.0</td>\n",
       "      <td>9.60</td>\n",
       "      <td>127.03</td>\n",
       "      <td>92.442730</td>\n",
       "      <td>0.0</td>\n",
       "      <td>7.557270</td>\n",
       "    </tr>\n",
       "    <tr>\n",
       "      <th>2012</th>\n",
       "      <td>Malaysia</td>\n",
       "      <td>123.23</td>\n",
       "      <td>0.0</td>\n",
       "      <td>10.76</td>\n",
       "      <td>133.99</td>\n",
       "      <td>91.969550</td>\n",
       "      <td>0.0</td>\n",
       "      <td>8.030450</td>\n",
       "    </tr>\n",
       "    <tr>\n",
       "      <th>2013</th>\n",
       "      <td>Malaysia</td>\n",
       "      <td>127.86</td>\n",
       "      <td>0.0</td>\n",
       "      <td>13.04</td>\n",
       "      <td>140.90</td>\n",
       "      <td>90.745209</td>\n",
       "      <td>0.0</td>\n",
       "      <td>9.254791</td>\n",
       "    </tr>\n",
       "    <tr>\n",
       "      <th>2014</th>\n",
       "      <td>Malaysia</td>\n",
       "      <td>133.16</td>\n",
       "      <td>0.0</td>\n",
       "      <td>14.31</td>\n",
       "      <td>147.47</td>\n",
       "      <td>90.296331</td>\n",
       "      <td>0.0</td>\n",
       "      <td>9.703669</td>\n",
       "    </tr>\n",
       "    <tr>\n",
       "      <th>2015</th>\n",
       "      <td>Malaysia</td>\n",
       "      <td>135.17</td>\n",
       "      <td>0.0</td>\n",
       "      <td>14.94</td>\n",
       "      <td>150.11</td>\n",
       "      <td>90.047299</td>\n",
       "      <td>0.0</td>\n",
       "      <td>9.952701</td>\n",
       "    </tr>\n",
       "    <tr>\n",
       "      <th>2016</th>\n",
       "      <td>Malaysia</td>\n",
       "      <td>135.56</td>\n",
       "      <td>0.0</td>\n",
       "      <td>21.09</td>\n",
       "      <td>156.65</td>\n",
       "      <td>86.536866</td>\n",
       "      <td>0.0</td>\n",
       "      <td>13.463134</td>\n",
       "    </tr>\n",
       "    <tr>\n",
       "      <th>2017</th>\n",
       "      <td>Malaysia</td>\n",
       "      <td>132.70</td>\n",
       "      <td>0.0</td>\n",
       "      <td>27.94</td>\n",
       "      <td>160.64</td>\n",
       "      <td>82.607072</td>\n",
       "      <td>0.0</td>\n",
       "      <td>17.392928</td>\n",
       "    </tr>\n",
       "    <tr>\n",
       "      <th>2018</th>\n",
       "      <td>Malaysia</td>\n",
       "      <td>142.27</td>\n",
       "      <td>0.0</td>\n",
       "      <td>28.31</td>\n",
       "      <td>170.58</td>\n",
       "      <td>83.403682</td>\n",
       "      <td>0.0</td>\n",
       "      <td>16.596318</td>\n",
       "    </tr>\n",
       "    <tr>\n",
       "      <th>2019</th>\n",
       "      <td>Malaysia</td>\n",
       "      <td>149.70</td>\n",
       "      <td>0.0</td>\n",
       "      <td>28.76</td>\n",
       "      <td>178.46</td>\n",
       "      <td>83.884344</td>\n",
       "      <td>0.0</td>\n",
       "      <td>16.115656</td>\n",
       "    </tr>\n",
       "    <tr>\n",
       "      <th>2020</th>\n",
       "      <td>Malaysia</td>\n",
       "      <td>138.77</td>\n",
       "      <td>0.0</td>\n",
       "      <td>30.54</td>\n",
       "      <td>169.31</td>\n",
       "      <td>81.962081</td>\n",
       "      <td>0.0</td>\n",
       "      <td>18.037919</td>\n",
       "    </tr>\n",
       "  </tbody>\n",
       "</table>\n",
       "</div>"
      ],
      "text/plain": [
       "        Entity  FF (TWh)  Nuclear (TWh)  RE (TWh)  Total Electricity  \\\n",
       "Year                                                                   \n",
       "2000  Malaysia     62.91            0.0      7.56              70.47   \n",
       "2001  Malaysia     69.71            0.0      6.64              76.35   \n",
       "2002  Malaysia     74.78            0.0      5.81              80.59   \n",
       "2003  Malaysia     77.25            0.0      5.51              82.76   \n",
       "2004  Malaysia     89.30            0.0      6.15              95.45   \n",
       "2005  Malaysia     91.79            0.0      6.60              98.39   \n",
       "2006  Malaysia     96.31            0.0      6.94             103.25   \n",
       "2007  Malaysia    101.52            0.0      6.72             108.24   \n",
       "2008  Malaysia    105.01            0.0      8.61             113.62   \n",
       "2009  Malaysia    107.66            0.0      8.28             115.94   \n",
       "2010  Malaysia    117.16            0.0      7.62             124.78   \n",
       "2011  Malaysia    117.43            0.0      9.60             127.03   \n",
       "2012  Malaysia    123.23            0.0     10.76             133.99   \n",
       "2013  Malaysia    127.86            0.0     13.04             140.90   \n",
       "2014  Malaysia    133.16            0.0     14.31             147.47   \n",
       "2015  Malaysia    135.17            0.0     14.94             150.11   \n",
       "2016  Malaysia    135.56            0.0     21.09             156.65   \n",
       "2017  Malaysia    132.70            0.0     27.94             160.64   \n",
       "2018  Malaysia    142.27            0.0     28.31             170.58   \n",
       "2019  Malaysia    149.70            0.0     28.76             178.46   \n",
       "2020  Malaysia    138.77            0.0     30.54             169.31   \n",
       "\n",
       "       FF Share  Nuclear Share   RE Share  \n",
       "Year                                       \n",
       "2000  89.272031            0.0  10.727969  \n",
       "2001  91.303209            0.0   8.696791  \n",
       "2002  92.790669            0.0   7.209331  \n",
       "2003  93.342194            0.0   6.657806  \n",
       "2004  93.556836            0.0   6.443164  \n",
       "2005  93.292001            0.0   6.707999  \n",
       "2006  93.278450            0.0   6.721550  \n",
       "2007  93.791574            0.0   6.208426  \n",
       "2008  92.422109            0.0   7.577891  \n",
       "2009  92.858375            0.0   7.141625  \n",
       "2010  93.893252            0.0   6.106748  \n",
       "2011  92.442730            0.0   7.557270  \n",
       "2012  91.969550            0.0   8.030450  \n",
       "2013  90.745209            0.0   9.254791  \n",
       "2014  90.296331            0.0   9.703669  \n",
       "2015  90.047299            0.0   9.952701  \n",
       "2016  86.536866            0.0  13.463134  \n",
       "2017  82.607072            0.0  17.392928  \n",
       "2018  83.403682            0.0  16.596318  \n",
       "2019  83.884344            0.0  16.115656  \n",
       "2020  81.962081            0.0  18.037919  "
      ]
     },
     "execution_count": 34,
     "metadata": {},
     "output_type": "execute_result"
    }
   ],
   "source": [
    "electricity_my_sum"
   ]
  },
  {
   "cell_type": "code",
   "execution_count": 35,
   "metadata": {},
   "outputs": [
    {
     "data": {
      "application/vnd.plotly.v1+json": {
       "config": {
        "plotlyServerURL": "https://plot.ly"
       },
       "data": [
        {
         "name": "Fossil Fuel",
         "type": "bar",
         "x": [
          2000,
          2001,
          2002,
          2003,
          2004,
          2005,
          2006,
          2007,
          2008,
          2009,
          2010,
          2011,
          2012,
          2013,
          2014,
          2015,
          2016,
          2017,
          2018,
          2019,
          2020
         ],
         "y": [
          89.272030651341,
          91.30320890635232,
          92.79066881747114,
          93.34219429676172,
          93.55683603981142,
          93.29200121963615,
          93.27845036319613,
          93.79157427937915,
          92.42210878366485,
          92.85837502156288,
          93.89325212373778,
          92.44273006376447,
          91.9695499664154,
          90.74520936834634,
          90.29633145724554,
          90.04729864765838,
          86.53686562400256,
          82.6070717131474,
          83.40368155704068,
          83.88434383055026,
          81.9620813891678
         ]
        },
        {
         "name": "Renewable",
         "type": "bar",
         "x": [
          2000,
          2001,
          2002,
          2003,
          2004,
          2005,
          2006,
          2007,
          2008,
          2009,
          2010,
          2011,
          2012,
          2013,
          2014,
          2015,
          2016,
          2017,
          2018,
          2019,
          2020
         ],
         "y": [
          10.727969348659002,
          8.696791093647676,
          7.209331182528849,
          6.657805703238279,
          6.44316396018858,
          6.707998780363858,
          6.721549636803874,
          6.208425720620843,
          7.577891216335152,
          7.141624978437122,
          6.106747876262221,
          7.557269936235535,
          8.030450033584595,
          9.254790631653655,
          9.703668542754459,
          9.952701352341617,
          13.463134375997447,
          17.39292828685259,
          16.596318442959312,
          16.11565616944974,
          18.0379186108322
         ]
        }
       ],
       "layout": {
        "barmode": "stack",
        "template": {
         "data": {
          "bar": [
           {
            "error_x": {
             "color": "#f2f5fa"
            },
            "error_y": {
             "color": "#f2f5fa"
            },
            "marker": {
             "line": {
              "color": "rgb(17,17,17)",
              "width": 0.5
             },
             "pattern": {
              "fillmode": "overlay",
              "size": 10,
              "solidity": 0.2
             }
            },
            "type": "bar"
           }
          ],
          "barpolar": [
           {
            "marker": {
             "line": {
              "color": "rgb(17,17,17)",
              "width": 0.5
             },
             "pattern": {
              "fillmode": "overlay",
              "size": 10,
              "solidity": 0.2
             }
            },
            "type": "barpolar"
           }
          ],
          "carpet": [
           {
            "aaxis": {
             "endlinecolor": "#A2B1C6",
             "gridcolor": "#506784",
             "linecolor": "#506784",
             "minorgridcolor": "#506784",
             "startlinecolor": "#A2B1C6"
            },
            "baxis": {
             "endlinecolor": "#A2B1C6",
             "gridcolor": "#506784",
             "linecolor": "#506784",
             "minorgridcolor": "#506784",
             "startlinecolor": "#A2B1C6"
            },
            "type": "carpet"
           }
          ],
          "choropleth": [
           {
            "colorbar": {
             "outlinewidth": 0,
             "ticks": ""
            },
            "type": "choropleth"
           }
          ],
          "contour": [
           {
            "colorbar": {
             "outlinewidth": 0,
             "ticks": ""
            },
            "colorscale": [
             [
              0,
              "#0d0887"
             ],
             [
              0.1111111111111111,
              "#46039f"
             ],
             [
              0.2222222222222222,
              "#7201a8"
             ],
             [
              0.3333333333333333,
              "#9c179e"
             ],
             [
              0.4444444444444444,
              "#bd3786"
             ],
             [
              0.5555555555555556,
              "#d8576b"
             ],
             [
              0.6666666666666666,
              "#ed7953"
             ],
             [
              0.7777777777777778,
              "#fb9f3a"
             ],
             [
              0.8888888888888888,
              "#fdca26"
             ],
             [
              1,
              "#f0f921"
             ]
            ],
            "type": "contour"
           }
          ],
          "contourcarpet": [
           {
            "colorbar": {
             "outlinewidth": 0,
             "ticks": ""
            },
            "type": "contourcarpet"
           }
          ],
          "heatmap": [
           {
            "colorbar": {
             "outlinewidth": 0,
             "ticks": ""
            },
            "colorscale": [
             [
              0,
              "#0d0887"
             ],
             [
              0.1111111111111111,
              "#46039f"
             ],
             [
              0.2222222222222222,
              "#7201a8"
             ],
             [
              0.3333333333333333,
              "#9c179e"
             ],
             [
              0.4444444444444444,
              "#bd3786"
             ],
             [
              0.5555555555555556,
              "#d8576b"
             ],
             [
              0.6666666666666666,
              "#ed7953"
             ],
             [
              0.7777777777777778,
              "#fb9f3a"
             ],
             [
              0.8888888888888888,
              "#fdca26"
             ],
             [
              1,
              "#f0f921"
             ]
            ],
            "type": "heatmap"
           }
          ],
          "heatmapgl": [
           {
            "colorbar": {
             "outlinewidth": 0,
             "ticks": ""
            },
            "colorscale": [
             [
              0,
              "#0d0887"
             ],
             [
              0.1111111111111111,
              "#46039f"
             ],
             [
              0.2222222222222222,
              "#7201a8"
             ],
             [
              0.3333333333333333,
              "#9c179e"
             ],
             [
              0.4444444444444444,
              "#bd3786"
             ],
             [
              0.5555555555555556,
              "#d8576b"
             ],
             [
              0.6666666666666666,
              "#ed7953"
             ],
             [
              0.7777777777777778,
              "#fb9f3a"
             ],
             [
              0.8888888888888888,
              "#fdca26"
             ],
             [
              1,
              "#f0f921"
             ]
            ],
            "type": "heatmapgl"
           }
          ],
          "histogram": [
           {
            "marker": {
             "pattern": {
              "fillmode": "overlay",
              "size": 10,
              "solidity": 0.2
             }
            },
            "type": "histogram"
           }
          ],
          "histogram2d": [
           {
            "colorbar": {
             "outlinewidth": 0,
             "ticks": ""
            },
            "colorscale": [
             [
              0,
              "#0d0887"
             ],
             [
              0.1111111111111111,
              "#46039f"
             ],
             [
              0.2222222222222222,
              "#7201a8"
             ],
             [
              0.3333333333333333,
              "#9c179e"
             ],
             [
              0.4444444444444444,
              "#bd3786"
             ],
             [
              0.5555555555555556,
              "#d8576b"
             ],
             [
              0.6666666666666666,
              "#ed7953"
             ],
             [
              0.7777777777777778,
              "#fb9f3a"
             ],
             [
              0.8888888888888888,
              "#fdca26"
             ],
             [
              1,
              "#f0f921"
             ]
            ],
            "type": "histogram2d"
           }
          ],
          "histogram2dcontour": [
           {
            "colorbar": {
             "outlinewidth": 0,
             "ticks": ""
            },
            "colorscale": [
             [
              0,
              "#0d0887"
             ],
             [
              0.1111111111111111,
              "#46039f"
             ],
             [
              0.2222222222222222,
              "#7201a8"
             ],
             [
              0.3333333333333333,
              "#9c179e"
             ],
             [
              0.4444444444444444,
              "#bd3786"
             ],
             [
              0.5555555555555556,
              "#d8576b"
             ],
             [
              0.6666666666666666,
              "#ed7953"
             ],
             [
              0.7777777777777778,
              "#fb9f3a"
             ],
             [
              0.8888888888888888,
              "#fdca26"
             ],
             [
              1,
              "#f0f921"
             ]
            ],
            "type": "histogram2dcontour"
           }
          ],
          "mesh3d": [
           {
            "colorbar": {
             "outlinewidth": 0,
             "ticks": ""
            },
            "type": "mesh3d"
           }
          ],
          "parcoords": [
           {
            "line": {
             "colorbar": {
              "outlinewidth": 0,
              "ticks": ""
             }
            },
            "type": "parcoords"
           }
          ],
          "pie": [
           {
            "automargin": true,
            "type": "pie"
           }
          ],
          "scatter": [
           {
            "marker": {
             "line": {
              "color": "#283442"
             }
            },
            "type": "scatter"
           }
          ],
          "scatter3d": [
           {
            "line": {
             "colorbar": {
              "outlinewidth": 0,
              "ticks": ""
             }
            },
            "marker": {
             "colorbar": {
              "outlinewidth": 0,
              "ticks": ""
             }
            },
            "type": "scatter3d"
           }
          ],
          "scattercarpet": [
           {
            "marker": {
             "colorbar": {
              "outlinewidth": 0,
              "ticks": ""
             }
            },
            "type": "scattercarpet"
           }
          ],
          "scattergeo": [
           {
            "marker": {
             "colorbar": {
              "outlinewidth": 0,
              "ticks": ""
             }
            },
            "type": "scattergeo"
           }
          ],
          "scattergl": [
           {
            "marker": {
             "line": {
              "color": "#283442"
             }
            },
            "type": "scattergl"
           }
          ],
          "scattermapbox": [
           {
            "marker": {
             "colorbar": {
              "outlinewidth": 0,
              "ticks": ""
             }
            },
            "type": "scattermapbox"
           }
          ],
          "scatterpolar": [
           {
            "marker": {
             "colorbar": {
              "outlinewidth": 0,
              "ticks": ""
             }
            },
            "type": "scatterpolar"
           }
          ],
          "scatterpolargl": [
           {
            "marker": {
             "colorbar": {
              "outlinewidth": 0,
              "ticks": ""
             }
            },
            "type": "scatterpolargl"
           }
          ],
          "scatterternary": [
           {
            "marker": {
             "colorbar": {
              "outlinewidth": 0,
              "ticks": ""
             }
            },
            "type": "scatterternary"
           }
          ],
          "surface": [
           {
            "colorbar": {
             "outlinewidth": 0,
             "ticks": ""
            },
            "colorscale": [
             [
              0,
              "#0d0887"
             ],
             [
              0.1111111111111111,
              "#46039f"
             ],
             [
              0.2222222222222222,
              "#7201a8"
             ],
             [
              0.3333333333333333,
              "#9c179e"
             ],
             [
              0.4444444444444444,
              "#bd3786"
             ],
             [
              0.5555555555555556,
              "#d8576b"
             ],
             [
              0.6666666666666666,
              "#ed7953"
             ],
             [
              0.7777777777777778,
              "#fb9f3a"
             ],
             [
              0.8888888888888888,
              "#fdca26"
             ],
             [
              1,
              "#f0f921"
             ]
            ],
            "type": "surface"
           }
          ],
          "table": [
           {
            "cells": {
             "fill": {
              "color": "#506784"
             },
             "line": {
              "color": "rgb(17,17,17)"
             }
            },
            "header": {
             "fill": {
              "color": "#2a3f5f"
             },
             "line": {
              "color": "rgb(17,17,17)"
             }
            },
            "type": "table"
           }
          ]
         },
         "layout": {
          "annotationdefaults": {
           "arrowcolor": "#f2f5fa",
           "arrowhead": 0,
           "arrowwidth": 1
          },
          "autotypenumbers": "strict",
          "coloraxis": {
           "colorbar": {
            "outlinewidth": 0,
            "ticks": ""
           }
          },
          "colorscale": {
           "diverging": [
            [
             0,
             "#8e0152"
            ],
            [
             0.1,
             "#c51b7d"
            ],
            [
             0.2,
             "#de77ae"
            ],
            [
             0.3,
             "#f1b6da"
            ],
            [
             0.4,
             "#fde0ef"
            ],
            [
             0.5,
             "#f7f7f7"
            ],
            [
             0.6,
             "#e6f5d0"
            ],
            [
             0.7,
             "#b8e186"
            ],
            [
             0.8,
             "#7fbc41"
            ],
            [
             0.9,
             "#4d9221"
            ],
            [
             1,
             "#276419"
            ]
           ],
           "sequential": [
            [
             0,
             "#0d0887"
            ],
            [
             0.1111111111111111,
             "#46039f"
            ],
            [
             0.2222222222222222,
             "#7201a8"
            ],
            [
             0.3333333333333333,
             "#9c179e"
            ],
            [
             0.4444444444444444,
             "#bd3786"
            ],
            [
             0.5555555555555556,
             "#d8576b"
            ],
            [
             0.6666666666666666,
             "#ed7953"
            ],
            [
             0.7777777777777778,
             "#fb9f3a"
            ],
            [
             0.8888888888888888,
             "#fdca26"
            ],
            [
             1,
             "#f0f921"
            ]
           ],
           "sequentialminus": [
            [
             0,
             "#0d0887"
            ],
            [
             0.1111111111111111,
             "#46039f"
            ],
            [
             0.2222222222222222,
             "#7201a8"
            ],
            [
             0.3333333333333333,
             "#9c179e"
            ],
            [
             0.4444444444444444,
             "#bd3786"
            ],
            [
             0.5555555555555556,
             "#d8576b"
            ],
            [
             0.6666666666666666,
             "#ed7953"
            ],
            [
             0.7777777777777778,
             "#fb9f3a"
            ],
            [
             0.8888888888888888,
             "#fdca26"
            ],
            [
             1,
             "#f0f921"
            ]
           ]
          },
          "colorway": [
           "#636efa",
           "#EF553B",
           "#00cc96",
           "#ab63fa",
           "#FFA15A",
           "#19d3f3",
           "#FF6692",
           "#B6E880",
           "#FF97FF",
           "#FECB52"
          ],
          "font": {
           "color": "#f2f5fa"
          },
          "geo": {
           "bgcolor": "rgb(17,17,17)",
           "lakecolor": "rgb(17,17,17)",
           "landcolor": "rgb(17,17,17)",
           "showlakes": true,
           "showland": true,
           "subunitcolor": "#506784"
          },
          "hoverlabel": {
           "align": "left"
          },
          "hovermode": "closest",
          "mapbox": {
           "style": "dark"
          },
          "paper_bgcolor": "rgb(17,17,17)",
          "plot_bgcolor": "rgb(17,17,17)",
          "polar": {
           "angularaxis": {
            "gridcolor": "#506784",
            "linecolor": "#506784",
            "ticks": ""
           },
           "bgcolor": "rgb(17,17,17)",
           "radialaxis": {
            "gridcolor": "#506784",
            "linecolor": "#506784",
            "ticks": ""
           }
          },
          "scene": {
           "xaxis": {
            "backgroundcolor": "rgb(17,17,17)",
            "gridcolor": "#506784",
            "gridwidth": 2,
            "linecolor": "#506784",
            "showbackground": true,
            "ticks": "",
            "zerolinecolor": "#C8D4E3"
           },
           "yaxis": {
            "backgroundcolor": "rgb(17,17,17)",
            "gridcolor": "#506784",
            "gridwidth": 2,
            "linecolor": "#506784",
            "showbackground": true,
            "ticks": "",
            "zerolinecolor": "#C8D4E3"
           },
           "zaxis": {
            "backgroundcolor": "rgb(17,17,17)",
            "gridcolor": "#506784",
            "gridwidth": 2,
            "linecolor": "#506784",
            "showbackground": true,
            "ticks": "",
            "zerolinecolor": "#C8D4E3"
           }
          },
          "shapedefaults": {
           "line": {
            "color": "#f2f5fa"
           }
          },
          "sliderdefaults": {
           "bgcolor": "#C8D4E3",
           "bordercolor": "rgb(17,17,17)",
           "borderwidth": 1,
           "tickwidth": 0
          },
          "ternary": {
           "aaxis": {
            "gridcolor": "#506784",
            "linecolor": "#506784",
            "ticks": ""
           },
           "baxis": {
            "gridcolor": "#506784",
            "linecolor": "#506784",
            "ticks": ""
           },
           "bgcolor": "rgb(17,17,17)",
           "caxis": {
            "gridcolor": "#506784",
            "linecolor": "#506784",
            "ticks": ""
           }
          },
          "title": {
           "x": 0.05
          },
          "updatemenudefaults": {
           "bgcolor": "#506784",
           "borderwidth": 0
          },
          "xaxis": {
           "automargin": true,
           "gridcolor": "#283442",
           "linecolor": "#506784",
           "ticks": "",
           "title": {
            "standoff": 15
           },
           "zerolinecolor": "#283442",
           "zerolinewidth": 2
          },
          "yaxis": {
           "automargin": true,
           "gridcolor": "#283442",
           "linecolor": "#506784",
           "ticks": "",
           "title": {
            "standoff": 15
           },
           "zerolinecolor": "#283442",
           "zerolinewidth": 2
          }
         }
        },
        "title": {
         "text": "Electricity Consumption in Malaysia"
        },
        "xaxis": {
         "tickfont": {
          "size": 12
         },
         "title": {
          "text": "Years"
         }
        },
        "yaxis": {
         "title": {
          "text": "Electricity Comsumption (%)"
         }
        }
       }
      }
     },
     "metadata": {},
     "output_type": "display_data"
    }
   ],
   "source": [
    "fig = go.Figure()\n",
    "fig = fig.add_trace(go.Bar(x = electricity_my_sum.index, y = electricity_my_sum['FF Share'], name = 'Fossil Fuel'))\n",
    "fig = fig.add_trace(go.Bar(x = electricity_my_sum.index, y = electricity_my_sum['RE Share'], name = 'Renewable'))\n",
    "fig = fig.update_layout(\n",
    "    title = 'Electricity Consumption in Malaysia', \n",
    "    xaxis_tickfont_size = 12, \n",
    "    xaxis_title=\"Years\",\n",
    "    yaxis_title=\"Electricity Comsumption (%)\",\n",
    "    template = 'plotly_dark', \n",
    "    barmode = 'stack')\n",
    "fig.show()"
   ]
  },
  {
   "cell_type": "code",
   "execution_count": 41,
   "metadata": {},
   "outputs": [
    {
     "data": {
      "text/plain": [
       "Index(['Entity', 'Year', 'Access to electricity (% of population)',\n",
       "       'Access to clean fuels for cooking',\n",
       "       'Renewable-electricity-generating-capacity-per-capita',\n",
       "       'Financial flows to developing countries (US $)',\n",
       "       'Renewable energy share in the total final energy consumption (%)',\n",
       "       'FF (TWh)', 'Nuclear (TWh)', 'RE (TWh)',\n",
       "       'Low-carbon electricity (% electricity)',\n",
       "       'Primary energy consumption per capita (kWh/person)',\n",
       "       'Energy intensity level of primary energy (MJ/$2017 PPP GDP)',\n",
       "       'CO2 Emissions (kt) by Country',\n",
       "       'Renewables (% equivalent primary energy)', 'gdp_growth',\n",
       "       'gdp_per_capita', 'Density\\n(P/Km2)', 'Land Area(Km2)', 'Latitude',\n",
       "       'Longitude'],\n",
       "      dtype='object')"
      ]
     },
     "execution_count": 41,
     "metadata": {},
     "output_type": "execute_result"
    }
   ],
   "source": [
    "data_asia.columns"
   ]
  },
  {
   "cell_type": "code",
   "execution_count": 55,
   "metadata": {},
   "outputs": [
    {
     "data": {
      "application/vnd.plotly.v1+json": {
       "config": {
        "plotlyServerURL": "https://plot.ly"
       },
       "data": [
        {
         "colorbar": {
          "title": {
           "text": "Renewable energy share in the total final energy consumption (%)"
          }
         },
         "colorscale": [
          [
           0,
           "rgb(0,0,0)"
          ],
          [
           0.2,
           "rgb(30,0,100)"
          ],
          [
           0.4,
           "rgb(120,0,100)"
          ],
          [
           0.6,
           "rgb(160,90,0)"
          ],
          [
           0.8,
           "rgb(230,200,0)"
          ],
          [
           1,
           "rgb(255,250,220)"
          ]
         ],
         "locationmode": "country names",
         "locations": [
          "Afghanistan",
          "Armenia",
          "Azerbaijan",
          "Bahrain",
          "Bangladesh",
          "Bhutan",
          "Cambodia",
          "China",
          "Cyprus",
          "Georgia",
          "India",
          "Indonesia",
          "Iraq",
          "Israel",
          "Japan",
          "Jordan",
          "Kazakhstan",
          "Kuwait",
          "Kyrgyzstan",
          "Lebanon",
          "Malaysia",
          "Maldives",
          "Mongolia",
          "Myanmar",
          "Nepal",
          "Oman",
          "Pakistan",
          "Philippines",
          "Qatar",
          "Saudi Arabia",
          "Singapore",
          "Sri Lanka",
          "Tajikistan",
          "Thailand",
          "Turkey",
          "Turkmenistan",
          "United Arab Emirates",
          "Uzbekistan",
          "Yemen"
         ],
         "type": "choropleth",
         "visible": true,
         "z": [
          44.99,
          7.16,
          2.07,
          0,
          59.06,
          91.4,
          81.58,
          29.63,
          3.08,
          47.25,
          46.88,
          45.62,
          0.36,
          5.96,
          3.7,
          2.09,
          2.5,
          0,
          35.16,
          4.89,
          4.44,
          2.34,
          5.73,
          80.17,
          88.29,
          0,
          51.05,
          33.42,
          0.08,
          0.01,
          0.33,
          64.16,
          62.41,
          21.82,
          17.29,
          0.09,
          0.08,
          0.72,
          0.95
         ],
         "zmax": 93.46,
         "zmin": 0
        },
        {
         "colorbar": {
          "title": {
           "text": "Renewable energy share in the total final energy consumption (%)"
          }
         },
         "colorscale": [
          [
           0,
           "rgb(0,0,0)"
          ],
          [
           0.2,
           "rgb(30,0,100)"
          ],
          [
           0.4,
           "rgb(120,0,100)"
          ],
          [
           0.6,
           "rgb(160,90,0)"
          ],
          [
           0.8,
           "rgb(230,200,0)"
          ],
          [
           1,
           "rgb(255,250,220)"
          ]
         ],
         "locationmode": "country names",
         "locations": [
          "Afghanistan",
          "Armenia",
          "Azerbaijan",
          "Bahrain",
          "Bangladesh",
          "Bhutan",
          "Cambodia",
          "China",
          "Cyprus",
          "Georgia",
          "India",
          "Indonesia",
          "Iraq",
          "Israel",
          "Japan",
          "Jordan",
          "Kazakhstan",
          "Kuwait",
          "Kyrgyzstan",
          "Lebanon",
          "Malaysia",
          "Maldives",
          "Mongolia",
          "Myanmar",
          "Nepal",
          "Oman",
          "Pakistan",
          "Philippines",
          "Qatar",
          "Saudi Arabia",
          "Singapore",
          "Sri Lanka",
          "Tajikistan",
          "Thailand",
          "Turkey",
          "Turkmenistan",
          "United Arab Emirates",
          "Uzbekistan",
          "Yemen"
         ],
         "type": "choropleth",
         "visible": false,
         "z": [
          45.6,
          5.42,
          1.75,
          0,
          55.82,
          91.75,
          80.51,
          28.36,
          3.03,
          53.15,
          47.11,
          44.33,
          0.35,
          6.3,
          3.5,
          2.12,
          2.41,
          0,
          36,
          4.66,
          4.26,
          2.26,
          6.09,
          82.48,
          87.76,
          0,
          51.54,
          32.12,
          0.14,
          0.01,
          0.6,
          62.93,
          64.07,
          19.89,
          18.12,
          0.09,
          0.06,
          0.78,
          0.89
         ],
         "zmax": 93.46,
         "zmin": 0
        },
        {
         "colorbar": {
          "title": {
           "text": "Renewable energy share in the total final energy consumption (%)"
          }
         },
         "colorscale": [
          [
           0,
           "rgb(0,0,0)"
          ],
          [
           0.2,
           "rgb(30,0,100)"
          ],
          [
           0.4,
           "rgb(120,0,100)"
          ],
          [
           0.6,
           "rgb(160,90,0)"
          ],
          [
           0.8,
           "rgb(230,200,0)"
          ],
          [
           1,
           "rgb(255,250,220)"
          ]
         ],
         "locationmode": "country names",
         "locations": [
          "Afghanistan",
          "Armenia",
          "Azerbaijan",
          "Bahrain",
          "Bangladesh",
          "Bhutan",
          "Cambodia",
          "China",
          "Cyprus",
          "Georgia",
          "India",
          "Indonesia",
          "Iraq",
          "Israel",
          "Japan",
          "Jordan",
          "Kazakhstan",
          "Kuwait",
          "Kyrgyzstan",
          "Lebanon",
          "Malaysia",
          "Maldives",
          "Mongolia",
          "Myanmar",
          "Nepal",
          "Oman",
          "Pakistan",
          "Philippines",
          "Qatar",
          "Saudi Arabia",
          "Singapore",
          "Sri Lanka",
          "Tajikistan",
          "Thailand",
          "Turkey",
          "Turkmenistan",
          "United Arab Emirates",
          "Uzbekistan",
          "Yemen"
         ],
         "type": "choropleth",
         "visible": false,
         "z": [
          37.83,
          8.9,
          2.35,
          0,
          54.33,
          91.2,
          80.97,
          27,
          3.16,
          56.76,
          45.75,
          44.66,
          0.31,
          6.5,
          3.71,
          2.09,
          2.77,
          0,
          28.3,
          5.97,
          3.57,
          1.78,
          6.51,
          83.12,
          89.95,
          0,
          51.39,
          31.42,
          0.07,
          0.01,
          0.58,
          62.1,
          64.15,
          19.91,
          17.49,
          0.09,
          0.07,
          1.02,
          0.9
         ],
         "zmax": 93.46,
         "zmin": 0
        },
        {
         "colorbar": {
          "title": {
           "text": "Renewable energy share in the total final energy consumption (%)"
          }
         },
         "colorscale": [
          [
           0,
           "rgb(0,0,0)"
          ],
          [
           0.2,
           "rgb(30,0,100)"
          ],
          [
           0.4,
           "rgb(120,0,100)"
          ],
          [
           0.6,
           "rgb(160,90,0)"
          ],
          [
           0.8,
           "rgb(230,200,0)"
          ],
          [
           1,
           "rgb(255,250,220)"
          ]
         ],
         "locationmode": "country names",
         "locations": [
          "Afghanistan",
          "Armenia",
          "Azerbaijan",
          "Bahrain",
          "Bangladesh",
          "Bhutan",
          "Cambodia",
          "China",
          "Cyprus",
          "Georgia",
          "India",
          "Indonesia",
          "Iraq",
          "Israel",
          "Japan",
          "Jordan",
          "Kazakhstan",
          "Kuwait",
          "Kyrgyzstan",
          "Lebanon",
          "Malaysia",
          "Maldives",
          "Mongolia",
          "Myanmar",
          "Nepal",
          "Oman",
          "Pakistan",
          "Philippines",
          "Qatar",
          "Saudi Arabia",
          "Singapore",
          "Sri Lanka",
          "Tajikistan",
          "Thailand",
          "Turkey",
          "Turkmenistan",
          "United Arab Emirates",
          "Uzbekistan",
          "Yemen"
         ],
         "type": "choropleth",
         "visible": false,
         "z": [
          36.66,
          9.81,
          2.94,
          0,
          52.62,
          91.92,
          79.92,
          23.86,
          3.24,
          55.33,
          45.63,
          43,
          0.35,
          6.52,
          4.19,
          1.98,
          2.28,
          0,
          30.51,
          7.38,
          3.33,
          2.22,
          6.09,
          79.86,
          89.44,
          0,
          50.09,
          30.67,
          0.05,
          0.01,
          0.58,
          61.31,
          64.58,
          20.21,
          16.29,
          0.08,
          0.07,
          1.42,
          0.78
         ],
         "zmax": 93.46,
         "zmin": 0
        },
        {
         "colorbar": {
          "title": {
           "text": "Renewable energy share in the total final energy consumption (%)"
          }
         },
         "colorscale": [
          [
           0,
           "rgb(0,0,0)"
          ],
          [
           0.2,
           "rgb(30,0,100)"
          ],
          [
           0.4,
           "rgb(120,0,100)"
          ],
          [
           0.6,
           "rgb(160,90,0)"
          ],
          [
           0.8,
           "rgb(230,200,0)"
          ],
          [
           1,
           "rgb(255,250,220)"
          ]
         ],
         "locationmode": "country names",
         "locations": [
          "Afghanistan",
          "Armenia",
          "Azerbaijan",
          "Bahrain",
          "Bangladesh",
          "Bhutan",
          "Cambodia",
          "China",
          "Cyprus",
          "Georgia",
          "India",
          "Indonesia",
          "Iraq",
          "Israel",
          "Japan",
          "Jordan",
          "Kazakhstan",
          "Kuwait",
          "Kyrgyzstan",
          "Lebanon",
          "Malaysia",
          "Maldives",
          "Mongolia",
          "Myanmar",
          "Nepal",
          "Oman",
          "Pakistan",
          "Philippines",
          "Qatar",
          "Saudi Arabia",
          "Singapore",
          "Sri Lanka",
          "Tajikistan",
          "Thailand",
          "Turkey",
          "Turkmenistan",
          "United Arab Emirates",
          "Uzbekistan",
          "Yemen"
         ],
         "type": "choropleth",
         "visible": false,
         "z": [
          44.24,
          8.71,
          3.07,
          0,
          52.05,
          93.46,
          80.69,
          20.17,
          3.29,
          54.53,
          44.92,
          41.46,
          0.36,
          6.73,
          4.26,
          1.83,
          1.89,
          0,
          27.71,
          6.56,
          3.22,
          1.67,
          5.76,
          80.47,
          90.3,
          0,
          47.93,
          29.96,
          0.03,
          0.01,
          0.53,
          61.61,
          61.41,
          19.89,
          16.78,
          0.07,
          0.1,
          1.05,
          0.75
         ],
         "zmax": 93.46,
         "zmin": 0
        },
        {
         "colorbar": {
          "title": {
           "text": "Renewable energy share in the total final energy consumption (%)"
          }
         },
         "colorscale": [
          [
           0,
           "rgb(0,0,0)"
          ],
          [
           0.2,
           "rgb(30,0,100)"
          ],
          [
           0.4,
           "rgb(120,0,100)"
          ],
          [
           0.6,
           "rgb(160,90,0)"
          ],
          [
           0.8,
           "rgb(230,200,0)"
          ],
          [
           1,
           "rgb(255,250,220)"
          ]
         ],
         "locationmode": "country names",
         "locations": [
          "Afghanistan",
          "Armenia",
          "Azerbaijan",
          "Bahrain",
          "Bangladesh",
          "Bhutan",
          "Cambodia",
          "China",
          "Cyprus",
          "Georgia",
          "India",
          "Indonesia",
          "Iraq",
          "Israel",
          "Japan",
          "Jordan",
          "Kazakhstan",
          "Kuwait",
          "Kyrgyzstan",
          "Lebanon",
          "Malaysia",
          "Maldives",
          "Mongolia",
          "Myanmar",
          "Nepal",
          "Oman",
          "Pakistan",
          "Philippines",
          "Qatar",
          "Saudi Arabia",
          "Singapore",
          "Sri Lanka",
          "Tajikistan",
          "Thailand",
          "Turkey",
          "Turkmenistan",
          "United Arab Emirates",
          "Uzbekistan",
          "Yemen"
         ],
         "type": "choropleth",
         "visible": false,
         "z": [
          33.88,
          6.49,
          3.36,
          0,
          50.66,
          91.67,
          79.24,
          17.44,
          3.34,
          41.48,
          44.16,
          41.57,
          2.43,
          7.03,
          4.02,
          1.69,
          2.09,
          0,
          28.03,
          6.97,
          3.01,
          1.95,
          5.34,
          79.82,
          89.52,
          0,
          47.96,
          31.17,
          0.03,
          0.01,
          0.54,
          60.08,
          63.73,
          20.11,
          15.34,
          0.07,
          0.11,
          1.62,
          0.74
         ],
         "zmax": 93.46,
         "zmin": 0
        },
        {
         "colorbar": {
          "title": {
           "text": "Renewable energy share in the total final energy consumption (%)"
          }
         },
         "colorscale": [
          [
           0,
           "rgb(0,0,0)"
          ],
          [
           0.2,
           "rgb(30,0,100)"
          ],
          [
           0.4,
           "rgb(120,0,100)"
          ],
          [
           0.6,
           "rgb(160,90,0)"
          ],
          [
           0.8,
           "rgb(230,200,0)"
          ],
          [
           1,
           "rgb(255,250,220)"
          ]
         ],
         "locationmode": "country names",
         "locations": [
          "Afghanistan",
          "Armenia",
          "Azerbaijan",
          "Bahrain",
          "Bangladesh",
          "Bhutan",
          "Cambodia",
          "China",
          "Cyprus",
          "Georgia",
          "India",
          "Indonesia",
          "Iraq",
          "Israel",
          "Japan",
          "Jordan",
          "Kazakhstan",
          "Kuwait",
          "Kyrgyzstan",
          "Lebanon",
          "Malaysia",
          "Maldives",
          "Mongolia",
          "Myanmar",
          "Nepal",
          "Oman",
          "Pakistan",
          "Philippines",
          "Qatar",
          "Saudi Arabia",
          "Singapore",
          "Sri Lanka",
          "Tajikistan",
          "Thailand",
          "Turkey",
          "Turkmenistan",
          "United Arab Emirates",
          "Uzbekistan",
          "Yemen"
         ],
         "type": "choropleth",
         "visible": false,
         "z": [
          31.89,
          7.65,
          2.86,
          0,
          48.69,
          91.92,
          78.01,
          16.39,
          3.5,
          37.22,
          43.16,
          40.07,
          2.56,
          6.86,
          4.43,
          2.28,
          2.13,
          0,
          27.76,
          7.04,
          3.13,
          1.59,
          4.48,
          81.46,
          91.25,
          0,
          47.04,
          33.24,
          0.1,
          0.01,
          0.52,
          62.18,
          61.57,
          20.53,
          14.23,
          0.08,
          0.12,
          0.85,
          0.76
         ],
         "zmax": 93.46,
         "zmin": 0
        },
        {
         "colorbar": {
          "title": {
           "text": "Renewable energy share in the total final energy consumption (%)"
          }
         },
         "colorscale": [
          [
           0,
           "rgb(0,0,0)"
          ],
          [
           0.2,
           "rgb(30,0,100)"
          ],
          [
           0.4,
           "rgb(120,0,100)"
          ],
          [
           0.6,
           "rgb(160,90,0)"
          ],
          [
           0.8,
           "rgb(230,200,0)"
          ],
          [
           1,
           "rgb(255,250,220)"
          ]
         ],
         "locationmode": "country names",
         "locations": [
          "Afghanistan",
          "Armenia",
          "Azerbaijan",
          "Bahrain",
          "Bangladesh",
          "Bhutan",
          "Cambodia",
          "China",
          "Cyprus",
          "Georgia",
          "India",
          "Indonesia",
          "Iraq",
          "Israel",
          "Japan",
          "Jordan",
          "Kazakhstan",
          "Kuwait",
          "Kyrgyzstan",
          "Lebanon",
          "Malaysia",
          "Maldives",
          "Mongolia",
          "Myanmar",
          "Nepal",
          "Oman",
          "Pakistan",
          "Philippines",
          "Qatar",
          "Saudi Arabia",
          "Singapore",
          "Sri Lanka",
          "Tajikistan",
          "Thailand",
          "Turkey",
          "Turkmenistan",
          "United Arab Emirates",
          "Uzbekistan",
          "Yemen"
         ],
         "type": "choropleth",
         "visible": false,
         "z": [
          28.78,
          7.02,
          3.78,
          0,
          47.19,
          92.07,
          74.79,
          14.88,
          4.33,
          36.22,
          41.53,
          40.01,
          2,
          6.72,
          4.29,
          2.32,
          1.83,
          0,
          24.49,
          7.94,
          2.85,
          1.52,
          4.7,
          80.7,
          91.31,
          0,
          44.85,
          32.57,
          0.07,
          0.01,
          0.5,
          60.2,
          53.79,
          21.61,
          12.48,
          0.07,
          0.11,
          0.9,
          0.76
         ],
         "zmax": 93.46,
         "zmin": 0
        },
        {
         "colorbar": {
          "title": {
           "text": "Renewable energy share in the total final energy consumption (%)"
          }
         },
         "colorscale": [
          [
           0,
           "rgb(0,0,0)"
          ],
          [
           0.2,
           "rgb(30,0,100)"
          ],
          [
           0.4,
           "rgb(120,0,100)"
          ],
          [
           0.6,
           "rgb(160,90,0)"
          ],
          [
           0.8,
           "rgb(230,200,0)"
          ],
          [
           1,
           "rgb(255,250,220)"
          ]
         ],
         "locationmode": "country names",
         "locations": [
          "Afghanistan",
          "Armenia",
          "Azerbaijan",
          "Bahrain",
          "Bangladesh",
          "Bhutan",
          "Cambodia",
          "China",
          "Cyprus",
          "Georgia",
          "India",
          "Indonesia",
          "Iraq",
          "Israel",
          "Japan",
          "Jordan",
          "Kazakhstan",
          "Kuwait",
          "Kyrgyzstan",
          "Lebanon",
          "Malaysia",
          "Maldives",
          "Mongolia",
          "Myanmar",
          "Nepal",
          "Oman",
          "Pakistan",
          "Philippines",
          "Qatar",
          "Saudi Arabia",
          "Singapore",
          "Sri Lanka",
          "Tajikistan",
          "Thailand",
          "Turkey",
          "Turkmenistan",
          "United Arab Emirates",
          "Uzbekistan",
          "Yemen"
         ],
         "type": "choropleth",
         "visible": false,
         "z": [
          21.17,
          6.4,
          3.08,
          0,
          45.2,
          91.81,
          74.13,
          14.14,
          5.47,
          36.3,
          39.37,
          41.12,
          1.15,
          8.9,
          4.44,
          2.74,
          1.15,
          0,
          22.04,
          5.4,
          3.04,
          1.53,
          4.66,
          85.71,
          90.47,
          0,
          46.63,
          33.91,
          0.11,
          0.01,
          0.53,
          61.58,
          54.61,
          22.63,
          12.53,
          0.07,
          0.11,
          0.8,
          0.74
         ],
         "zmax": 93.46,
         "zmin": 0
        },
        {
         "colorbar": {
          "title": {
           "text": "Renewable energy share in the total final energy consumption (%)"
          }
         },
         "colorscale": [
          [
           0,
           "rgb(0,0,0)"
          ],
          [
           0.2,
           "rgb(30,0,100)"
          ],
          [
           0.4,
           "rgb(120,0,100)"
          ],
          [
           0.6,
           "rgb(160,90,0)"
          ],
          [
           0.8,
           "rgb(230,200,0)"
          ],
          [
           1,
           "rgb(255,250,220)"
          ]
         ],
         "locationmode": "country names",
         "locations": [
          "Afghanistan",
          "Armenia",
          "Azerbaijan",
          "Bahrain",
          "Bangladesh",
          "Bhutan",
          "Cambodia",
          "China",
          "Cyprus",
          "Georgia",
          "India",
          "Indonesia",
          "Iraq",
          "Israel",
          "Japan",
          "Jordan",
          "Kazakhstan",
          "Kuwait",
          "Kyrgyzstan",
          "Lebanon",
          "Malaysia",
          "Maldives",
          "Mongolia",
          "Myanmar",
          "Nepal",
          "Oman",
          "Pakistan",
          "Philippines",
          "Qatar",
          "Saudi Arabia",
          "Singapore",
          "Sri Lanka",
          "Tajikistan",
          "Thailand",
          "Turkey",
          "Turkmenistan",
          "United Arab Emirates",
          "Uzbekistan",
          "Yemen"
         ],
         "type": "choropleth",
         "visible": false,
         "z": [
          16.53,
          7.8,
          3.27,
          0,
          43.1,
          92.38,
          68.04,
          13.43,
          6.31,
          36.72,
          37.41,
          38.18,
          1.21,
          8.46,
          4.51,
          2.78,
          1.31,
          0,
          24.73,
          4.31,
          2.27,
          1.49,
          4.43,
          85.48,
          88.93,
          0,
          46.43,
          33.98,
          0.08,
          0.01,
          0.48,
          63.51,
          60.58,
          22.83,
          13.12,
          0.08,
          0.11,
          1.25,
          0.7
         ],
         "zmax": 93.46,
         "zmin": 0
        },
        {
         "colorbar": {
          "title": {
           "text": "Renewable energy share in the total final energy consumption (%)"
          }
         },
         "colorscale": [
          [
           0,
           "rgb(0,0,0)"
          ],
          [
           0.2,
           "rgb(30,0,100)"
          ],
          [
           0.4,
           "rgb(120,0,100)"
          ],
          [
           0.6,
           "rgb(160,90,0)"
          ],
          [
           0.8,
           "rgb(230,200,0)"
          ],
          [
           1,
           "rgb(255,250,220)"
          ]
         ],
         "locationmode": "country names",
         "locations": [
          "Afghanistan",
          "Armenia",
          "Azerbaijan",
          "Bahrain",
          "Bangladesh",
          "Bhutan",
          "Cambodia",
          "China",
          "Cyprus",
          "Georgia",
          "India",
          "Indonesia",
          "Iraq",
          "Israel",
          "Japan",
          "Jordan",
          "Kazakhstan",
          "Kuwait",
          "Kyrgyzstan",
          "Lebanon",
          "Malaysia",
          "Maldives",
          "Mongolia",
          "Myanmar",
          "Nepal",
          "Oman",
          "Pakistan",
          "Philippines",
          "Qatar",
          "Saudi Arabia",
          "Singapore",
          "Sri Lanka",
          "Tajikistan",
          "Thailand",
          "Turkey",
          "Turkmenistan",
          "United Arab Emirates",
          "Uzbekistan",
          "Yemen"
         ],
         "type": "choropleth",
         "visible": false,
         "z": [
          15.15,
          9.36,
          4.45,
          0,
          40.28,
          90.8,
          64.82,
          12.26,
          6.55,
          39.15,
          36.16,
          34.81,
          1.67,
          8.55,
          4.66,
          2.95,
          1.38,
          0,
          25.59,
          5.7,
          1.96,
          1.36,
          4.46,
          84.93,
          87.29,
          0,
          47.4,
          32.59,
          0.13,
          0.01,
          0.47,
          61.85,
          61.83,
          22.83,
          14.21,
          0.07,
          0.11,
          1.35,
          0.78
         ],
         "zmax": 93.46,
         "zmin": 0
        },
        {
         "colorbar": {
          "title": {
           "text": "Renewable energy share in the total final energy consumption (%)"
          }
         },
         "colorscale": [
          [
           0,
           "rgb(0,0,0)"
          ],
          [
           0.2,
           "rgb(30,0,100)"
          ],
          [
           0.4,
           "rgb(120,0,100)"
          ],
          [
           0.6,
           "rgb(160,90,0)"
          ],
          [
           0.8,
           "rgb(230,200,0)"
          ],
          [
           1,
           "rgb(255,250,220)"
          ]
         ],
         "locationmode": "country names",
         "locations": [
          "Afghanistan",
          "Armenia",
          "Azerbaijan",
          "Bahrain",
          "Bangladesh",
          "Bhutan",
          "Cambodia",
          "China",
          "Cyprus",
          "Georgia",
          "India",
          "Indonesia",
          "Iraq",
          "Israel",
          "Japan",
          "Jordan",
          "Kazakhstan",
          "Kuwait",
          "Kyrgyzstan",
          "Lebanon",
          "Malaysia",
          "Maldives",
          "Mongolia",
          "Myanmar",
          "Nepal",
          "Oman",
          "Pakistan",
          "Philippines",
          "Qatar",
          "Saudi Arabia",
          "Singapore",
          "Sri Lanka",
          "Tajikistan",
          "Thailand",
          "Turkey",
          "Turkmenistan",
          "United Arab Emirates",
          "Uzbekistan",
          "Yemen"
         ],
         "type": "choropleth",
         "visible": false,
         "z": [
          12.61,
          8.01,
          3.55,
          0,
          38.41,
          89.01,
          63.99,
          11.34,
          7.66,
          31.53,
          35.01,
          30.92,
          1.14,
          9.08,
          4.82,
          3,
          1.38,
          0,
          25.95,
          6.18,
          2.16,
          1.34,
          4.04,
          84.08,
          86.95,
          0,
          46.76,
          33.69,
          0.15,
          0.01,
          0.48,
          59.25,
          59.98,
          22.96,
          12.68,
          0.06,
          0.11,
          0.95,
          0.93
         ],
         "zmax": 93.46,
         "zmin": 0
        },
        {
         "colorbar": {
          "title": {
           "text": "Renewable energy share in the total final energy consumption (%)"
          }
         },
         "colorscale": [
          [
           0,
           "rgb(0,0,0)"
          ],
          [
           0.2,
           "rgb(30,0,100)"
          ],
          [
           0.4,
           "rgb(120,0,100)"
          ],
          [
           0.6,
           "rgb(160,90,0)"
          ],
          [
           0.8,
           "rgb(230,200,0)"
          ],
          [
           1,
           "rgb(255,250,220)"
          ]
         ],
         "locationmode": "country names",
         "locations": [
          "Afghanistan",
          "Armenia",
          "Azerbaijan",
          "Bahrain",
          "Bangladesh",
          "Bhutan",
          "Cambodia",
          "China",
          "Cyprus",
          "Georgia",
          "India",
          "Indonesia",
          "Iraq",
          "Israel",
          "Japan",
          "Jordan",
          "Kazakhstan",
          "Kuwait",
          "Kyrgyzstan",
          "Lebanon",
          "Malaysia",
          "Maldives",
          "Mongolia",
          "Myanmar",
          "Nepal",
          "Oman",
          "Pakistan",
          "Philippines",
          "Qatar",
          "Saudi Arabia",
          "Singapore",
          "Sri Lanka",
          "Tajikistan",
          "Thailand",
          "Turkey",
          "Turkmenistan",
          "United Arab Emirates",
          "Uzbekistan",
          "Yemen"
         ],
         "type": "choropleth",
         "visible": false,
         "z": [
          15.36,
          6.56,
          2.84,
          0,
          37.31,
          87.32,
          64.36,
          11.53,
          8.69,
          28.69,
          34.75,
          28.78,
          1.3,
          2.88,
          4.68,
          2.91,
          1.33,
          0,
          22.45,
          5.56,
          2.52,
          1.2,
          2.97,
          78.46,
          84.7,
          0,
          47.2,
          34.06,
          0.04,
          0.01,
          0.51,
          60.7,
          55.8,
          23.56,
          13.03,
          0.05,
          0.1,
          1.34,
          1.08
         ],
         "zmax": 93.46,
         "zmin": 0
        },
        {
         "colorbar": {
          "title": {
           "text": "Renewable energy share in the total final energy consumption (%)"
          }
         },
         "colorscale": [
          [
           0,
           "rgb(0,0,0)"
          ],
          [
           0.2,
           "rgb(30,0,100)"
          ],
          [
           0.4,
           "rgb(120,0,100)"
          ],
          [
           0.6,
           "rgb(160,90,0)"
          ],
          [
           0.8,
           "rgb(230,200,0)"
          ],
          [
           1,
           "rgb(255,250,220)"
          ]
         ],
         "locationmode": "country names",
         "locations": [
          "Afghanistan",
          "Armenia",
          "Azerbaijan",
          "Bahrain",
          "Bangladesh",
          "Bhutan",
          "Cambodia",
          "China",
          "Cyprus",
          "Georgia",
          "India",
          "Indonesia",
          "Iraq",
          "Israel",
          "Japan",
          "Jordan",
          "Kazakhstan",
          "Kuwait",
          "Kyrgyzstan",
          "Lebanon",
          "Malaysia",
          "Maldives",
          "Mongolia",
          "Myanmar",
          "Nepal",
          "Oman",
          "Pakistan",
          "Philippines",
          "Qatar",
          "Saudi Arabia",
          "Singapore",
          "Sri Lanka",
          "Tajikistan",
          "Thailand",
          "Turkey",
          "Turkmenistan",
          "United Arab Emirates",
          "Uzbekistan",
          "Yemen"
         ],
         "type": "choropleth",
         "visible": false,
         "z": [
          16.86,
          6.77,
          2.52,
          0,
          37.08,
          86.7,
          64.97,
          11.45,
          9.83,
          33.16,
          34.85,
          29.7,
          1.46,
          3.27,
          5.05,
          3.12,
          1.16,
          0,
          24.81,
          5.92,
          2.75,
          1.26,
          3.01,
          75.96,
          86.05,
          0,
          48.13,
          33.05,
          0.04,
          0.01,
          0.56,
          59.88,
          55.12,
          23.21,
          13.8,
          0.06,
          0.1,
          1.19,
          0.76
         ],
         "zmax": 93.46,
         "zmin": 0
        },
        {
         "colorbar": {
          "title": {
           "text": "Renewable energy share in the total final energy consumption (%)"
          }
         },
         "colorscale": [
          [
           0,
           "rgb(0,0,0)"
          ],
          [
           0.2,
           "rgb(30,0,100)"
          ],
          [
           0.4,
           "rgb(120,0,100)"
          ],
          [
           0.6,
           "rgb(160,90,0)"
          ],
          [
           0.8,
           "rgb(230,200,0)"
          ],
          [
           1,
           "rgb(255,250,220)"
          ]
         ],
         "locationmode": "country names",
         "locations": [
          "Afghanistan",
          "Armenia",
          "Azerbaijan",
          "Bahrain",
          "Bangladesh",
          "Bhutan",
          "Cambodia",
          "China",
          "Cyprus",
          "Georgia",
          "India",
          "Indonesia",
          "Iraq",
          "Israel",
          "Japan",
          "Jordan",
          "Kazakhstan",
          "Kuwait",
          "Kyrgyzstan",
          "Lebanon",
          "Malaysia",
          "Maldives",
          "Mongolia",
          "Myanmar",
          "Nepal",
          "Oman",
          "Pakistan",
          "Philippines",
          "Qatar",
          "Saudi Arabia",
          "Singapore",
          "Sri Lanka",
          "Tajikistan",
          "Thailand",
          "Turkey",
          "Turkmenistan",
          "United Arab Emirates",
          "Uzbekistan",
          "Yemen"
         ],
         "type": "choropleth",
         "visible": false,
         "z": [
          18.93,
          7.08,
          2.12,
          0,
          35.32,
          86.54,
          63.7,
          11.94,
          9.59,
          31.34,
          33.85,
          28.32,
          1,
          3.7,
          5.58,
          3.1,
          1.34,
          0,
          26.6,
          4.24,
          3.03,
          1.2,
          3.34,
          72.43,
          84.06,
          0,
          47.22,
          32.33,
          0.05,
          0.01,
          0.59,
          57.31,
          45.89,
          24.41,
          11.51,
          0.05,
          0.14,
          1.4,
          0.76
         ],
         "zmax": 93.46,
         "zmin": 0
        },
        {
         "colorbar": {
          "title": {
           "text": "Renewable energy share in the total final energy consumption (%)"
          }
         },
         "colorscale": [
          [
           0,
           "rgb(0,0,0)"
          ],
          [
           0.2,
           "rgb(30,0,100)"
          ],
          [
           0.4,
           "rgb(120,0,100)"
          ],
          [
           0.6,
           "rgb(160,90,0)"
          ],
          [
           0.8,
           "rgb(230,200,0)"
          ],
          [
           1,
           "rgb(255,250,220)"
          ]
         ],
         "locationmode": "country names",
         "locations": [
          "Afghanistan",
          "Armenia",
          "Azerbaijan",
          "Bahrain",
          "Bangladesh",
          "Bhutan",
          "Cambodia",
          "China",
          "Cyprus",
          "Georgia",
          "India",
          "Indonesia",
          "Iraq",
          "Israel",
          "Japan",
          "Jordan",
          "Kazakhstan",
          "Kuwait",
          "Kyrgyzstan",
          "Lebanon",
          "Malaysia",
          "Maldives",
          "Mongolia",
          "Myanmar",
          "Nepal",
          "Oman",
          "Pakistan",
          "Philippines",
          "Qatar",
          "Saudi Arabia",
          "Singapore",
          "Sri Lanka",
          "Tajikistan",
          "Thailand",
          "Turkey",
          "Turkmenistan",
          "United Arab Emirates",
          "Uzbekistan",
          "Yemen"
         ],
         "type": "choropleth",
         "visible": false,
         "z": [
          17.53,
          10.74,
          2.33,
          0,
          31.93,
          86.68,
          60.63,
          12.18,
          10.51,
          28.15,
          33.4,
          26.69,
          0.82,
          3.74,
          6.16,
          3.19,
          1.72,
          0.01,
          23.3,
          4.17,
          3.41,
          1.38,
          3.55,
          70.43,
          85.04,
          0,
          45.88,
          30.75,
          0.05,
          0.01,
          0.65,
          52.89,
          48.11,
          22.65,
          13.34,
          0.05,
          0.13,
          1.71,
          1.96
         ],
         "zmax": 93.46,
         "zmin": 0
        },
        {
         "colorbar": {
          "title": {
           "text": "Renewable energy share in the total final energy consumption (%)"
          }
         },
         "colorscale": [
          [
           0,
           "rgb(0,0,0)"
          ],
          [
           0.2,
           "rgb(30,0,100)"
          ],
          [
           0.4,
           "rgb(120,0,100)"
          ],
          [
           0.6,
           "rgb(160,90,0)"
          ],
          [
           0.8,
           "rgb(230,200,0)"
          ],
          [
           1,
           "rgb(255,250,220)"
          ]
         ],
         "locationmode": "country names",
         "locations": [
          "Afghanistan",
          "Armenia",
          "Azerbaijan",
          "Bahrain",
          "Bangladesh",
          "Bhutan",
          "Cambodia",
          "China",
          "Cyprus",
          "Georgia",
          "India",
          "Indonesia",
          "Iraq",
          "Israel",
          "Japan",
          "Jordan",
          "Kazakhstan",
          "Kuwait",
          "Kyrgyzstan",
          "Lebanon",
          "Malaysia",
          "Maldives",
          "Mongolia",
          "Myanmar",
          "Nepal",
          "Oman",
          "Pakistan",
          "Philippines",
          "Qatar",
          "Saudi Arabia",
          "Singapore",
          "Sri Lanka",
          "Tajikistan",
          "Thailand",
          "Turkey",
          "Turkmenistan",
          "United Arab Emirates",
          "Uzbekistan",
          "Yemen"
         ],
         "type": "choropleth",
         "visible": false,
         "z": [
          19.92,
          13.15,
          1.94,
          0,
          30.49,
          85.02,
          58.01,
          12.56,
          10.36,
          27.64,
          33.02,
          28.24,
          0.94,
          3.98,
          6.39,
          4.67,
          2.07,
          0.01,
          21.92,
          3.96,
          4.43,
          1.21,
          3.39,
          69.25,
          79.2,
          0,
          43.69,
          28.45,
          0.06,
          0.01,
          0.68,
          50.92,
          41.16,
          22.43,
          13.23,
          0.05,
          0.12,
          1.61,
          2.48
         ],
         "zmax": 93.46,
         "zmin": 0
        },
        {
         "colorbar": {
          "title": {
           "text": "Renewable energy share in the total final energy consumption (%)"
          }
         },
         "colorscale": [
          [
           0,
           "rgb(0,0,0)"
          ],
          [
           0.2,
           "rgb(30,0,100)"
          ],
          [
           0.4,
           "rgb(120,0,100)"
          ],
          [
           0.6,
           "rgb(160,90,0)"
          ],
          [
           0.8,
           "rgb(230,200,0)"
          ],
          [
           1,
           "rgb(255,250,220)"
          ]
         ],
         "locationmode": "country names",
         "locations": [
          "Afghanistan",
          "Armenia",
          "Azerbaijan",
          "Bahrain",
          "Bangladesh",
          "Bhutan",
          "Cambodia",
          "China",
          "Cyprus",
          "Georgia",
          "India",
          "Indonesia",
          "Iraq",
          "Israel",
          "Japan",
          "Jordan",
          "Kazakhstan",
          "Kuwait",
          "Kyrgyzstan",
          "Lebanon",
          "Malaysia",
          "Maldives",
          "Mongolia",
          "Myanmar",
          "Nepal",
          "Oman",
          "Pakistan",
          "Philippines",
          "Qatar",
          "Saudi Arabia",
          "Singapore",
          "Sri Lanka",
          "Tajikistan",
          "Thailand",
          "Turkey",
          "Turkmenistan",
          "United Arab Emirates",
          "Uzbekistan",
          "Yemen"
         ],
         "type": "choropleth",
         "visible": false,
         "z": [
          19.21,
          12.56,
          1.91,
          0,
          28.36,
          83.63,
          56.25,
          13.13,
          11.03,
          28.03,
          32.41,
          26.15,
          0.57,
          3.86,
          6.92,
          5.26,
          2.02,
          0.02,
          24.55,
          3.97,
          5.22,
          1.25,
          3.19,
          59.92,
          76.41,
          0,
          42.09,
          27.68,
          0.07,
          0.02,
          0.67,
          49.33,
          41.69,
          22.25,
          11.4,
          0.06,
          0.19,
          1.75,
          2.8
         ],
         "zmax": 93.46,
         "zmin": 0
        },
        {
         "colorbar": {
          "title": {
           "text": "Renewable energy share in the total final energy consumption (%)"
          }
         },
         "colorscale": [
          [
           0,
           "rgb(0,0,0)"
          ],
          [
           0.2,
           "rgb(30,0,100)"
          ],
          [
           0.4,
           "rgb(120,0,100)"
          ],
          [
           0.6,
           "rgb(160,90,0)"
          ],
          [
           0.8,
           "rgb(230,200,0)"
          ],
          [
           1,
           "rgb(255,250,220)"
          ]
         ],
         "locationmode": "country names",
         "locations": [
          "Afghanistan",
          "Armenia",
          "Azerbaijan",
          "Bahrain",
          "Bangladesh",
          "Bhutan",
          "Cambodia",
          "China",
          "Cyprus",
          "Georgia",
          "India",
          "Indonesia",
          "Iraq",
          "Israel",
          "Japan",
          "Jordan",
          "Kazakhstan",
          "Kuwait",
          "Kyrgyzstan",
          "Lebanon",
          "Malaysia",
          "Maldives",
          "Mongolia",
          "Myanmar",
          "Nepal",
          "Oman",
          "Pakistan",
          "Philippines",
          "Qatar",
          "Saudi Arabia",
          "Singapore",
          "Sri Lanka",
          "Tajikistan",
          "Thailand",
          "Turkey",
          "Turkmenistan",
          "United Arab Emirates",
          "Uzbekistan",
          "Yemen"
         ],
         "type": "choropleth",
         "visible": false,
         "z": [
          17.96,
          11.13,
          1.93,
          0,
          26.88,
          82.22,
          56.38,
          13.71,
          12.11,
          27.94,
          32.82,
          21.05,
          0.49,
          3.75,
          7.22,
          7.2,
          1.88,
          0.03,
          23.21,
          4.75,
          5.31,
          1.12,
          3.26,
          59.55,
          74.27,
          0,
          43.3,
          27.51,
          0.05,
          0.02,
          0.73,
          51.4,
          39.47,
          23.7,
          11.83,
          0.06,
          0.32,
          1.49,
          3.6
         ],
         "zmax": 93.46,
         "zmin": 0
        },
        {
         "colorbar": {
          "title": {
           "text": "Renewable energy share in the total final energy consumption (%)"
          }
         },
         "colorscale": [
          [
           0,
           "rgb(0,0,0)"
          ],
          [
           0.2,
           "rgb(30,0,100)"
          ],
          [
           0.4,
           "rgb(120,0,100)"
          ],
          [
           0.6,
           "rgb(160,90,0)"
          ],
          [
           0.8,
           "rgb(230,200,0)"
          ],
          [
           1,
           "rgb(255,250,220)"
          ]
         ],
         "locationmode": "country names",
         "locations": [
          "Afghanistan",
          "Armenia",
          "Azerbaijan",
          "Bahrain",
          "Bangladesh",
          "Bhutan",
          "Cambodia",
          "China",
          "Cyprus",
          "Georgia",
          "India",
          "Indonesia",
          "Iraq",
          "Israel",
          "Japan",
          "Jordan",
          "Kazakhstan",
          "Kuwait",
          "Kyrgyzstan",
          "Lebanon",
          "Malaysia",
          "Maldives",
          "Mongolia",
          "Myanmar",
          "Nepal",
          "Oman",
          "Pakistan",
          "Philippines",
          "Qatar",
          "Saudi Arabia",
          "Singapore",
          "Sri Lanka",
          "Tajikistan",
          "Thailand",
          "Turkey",
          "Turkmenistan",
          "United Arab Emirates",
          "Uzbekistan",
          "Yemen"
         ],
         "type": "choropleth",
         "visible": false,
         "z": [
          18.51,
          10.34,
          1.62,
          0,
          24.75,
          82.27,
          53.36,
          14.45,
          12.05,
          25.22,
          32.93,
          19.09,
          0.43,
          4.47,
          7.69,
          8.17,
          1.7,
          0.06,
          27.88,
          5.46,
          5.11,
          1.11,
          3.32,
          57.85,
          77.39,
          0,
          43.36,
          26.73,
          0.04,
          0.03,
          0.84,
          49.91,
          38.56,
          23.96,
          14.12,
          0.06,
          0.67,
          1.57,
          3.11
         ],
         "zmax": 93.46,
         "zmin": 0
        }
       ],
       "layout": {
        "font": {
         "family": "Arial",
         "size": 12
        },
        "geo": {
         "projection": {
          "type": "equirectangular"
         },
         "scope": "asia",
         "showcoastlines": false,
         "showframe": true
        },
        "height": 500,
        "margin": {
         "b": 50,
         "l": 50,
         "r": 50,
         "t": 80
        },
        "sliders": [
         {
          "active": 0,
          "currentvalue": {
           "font": {
            "size": 14
           },
           "prefix": "Year: "
          },
          "steps": [
           {
            "args": [
             {
              "visible": [
               true,
               false,
               false,
               false,
               false,
               false,
               false,
               false,
               false,
               false,
               false,
               false,
               false,
               false,
               false,
               false,
               false,
               false,
               false,
               false
              ]
             },
             {
              "frame": {
               "duration": 1000,
               "redraw": true
              },
              "title_text": "Renewable energy share in the total final energy consumption (%) Map - 2000"
             }
            ],
            "label": "2000",
            "method": "update"
           },
           {
            "args": [
             {
              "visible": [
               false,
               true,
               false,
               false,
               false,
               false,
               false,
               false,
               false,
               false,
               false,
               false,
               false,
               false,
               false,
               false,
               false,
               false,
               false,
               false
              ]
             },
             {
              "frame": {
               "duration": 1000,
               "redraw": true
              },
              "title_text": "Renewable energy share in the total final energy consumption (%) Map - 2001"
             }
            ],
            "label": "2001",
            "method": "update"
           },
           {
            "args": [
             {
              "visible": [
               false,
               false,
               true,
               false,
               false,
               false,
               false,
               false,
               false,
               false,
               false,
               false,
               false,
               false,
               false,
               false,
               false,
               false,
               false,
               false
              ]
             },
             {
              "frame": {
               "duration": 1000,
               "redraw": true
              },
              "title_text": "Renewable energy share in the total final energy consumption (%) Map - 2002"
             }
            ],
            "label": "2002",
            "method": "update"
           },
           {
            "args": [
             {
              "visible": [
               false,
               false,
               false,
               true,
               false,
               false,
               false,
               false,
               false,
               false,
               false,
               false,
               false,
               false,
               false,
               false,
               false,
               false,
               false,
               false
              ]
             },
             {
              "frame": {
               "duration": 1000,
               "redraw": true
              },
              "title_text": "Renewable energy share in the total final energy consumption (%) Map - 2003"
             }
            ],
            "label": "2003",
            "method": "update"
           },
           {
            "args": [
             {
              "visible": [
               false,
               false,
               false,
               false,
               true,
               false,
               false,
               false,
               false,
               false,
               false,
               false,
               false,
               false,
               false,
               false,
               false,
               false,
               false,
               false
              ]
             },
             {
              "frame": {
               "duration": 1000,
               "redraw": true
              },
              "title_text": "Renewable energy share in the total final energy consumption (%) Map - 2004"
             }
            ],
            "label": "2004",
            "method": "update"
           },
           {
            "args": [
             {
              "visible": [
               false,
               false,
               false,
               false,
               false,
               true,
               false,
               false,
               false,
               false,
               false,
               false,
               false,
               false,
               false,
               false,
               false,
               false,
               false,
               false
              ]
             },
             {
              "frame": {
               "duration": 1000,
               "redraw": true
              },
              "title_text": "Renewable energy share in the total final energy consumption (%) Map - 2005"
             }
            ],
            "label": "2005",
            "method": "update"
           },
           {
            "args": [
             {
              "visible": [
               false,
               false,
               false,
               false,
               false,
               false,
               true,
               false,
               false,
               false,
               false,
               false,
               false,
               false,
               false,
               false,
               false,
               false,
               false,
               false
              ]
             },
             {
              "frame": {
               "duration": 1000,
               "redraw": true
              },
              "title_text": "Renewable energy share in the total final energy consumption (%) Map - 2006"
             }
            ],
            "label": "2006",
            "method": "update"
           },
           {
            "args": [
             {
              "visible": [
               false,
               false,
               false,
               false,
               false,
               false,
               false,
               true,
               false,
               false,
               false,
               false,
               false,
               false,
               false,
               false,
               false,
               false,
               false,
               false
              ]
             },
             {
              "frame": {
               "duration": 1000,
               "redraw": true
              },
              "title_text": "Renewable energy share in the total final energy consumption (%) Map - 2007"
             }
            ],
            "label": "2007",
            "method": "update"
           },
           {
            "args": [
             {
              "visible": [
               false,
               false,
               false,
               false,
               false,
               false,
               false,
               false,
               true,
               false,
               false,
               false,
               false,
               false,
               false,
               false,
               false,
               false,
               false,
               false
              ]
             },
             {
              "frame": {
               "duration": 1000,
               "redraw": true
              },
              "title_text": "Renewable energy share in the total final energy consumption (%) Map - 2008"
             }
            ],
            "label": "2008",
            "method": "update"
           },
           {
            "args": [
             {
              "visible": [
               false,
               false,
               false,
               false,
               false,
               false,
               false,
               false,
               false,
               true,
               false,
               false,
               false,
               false,
               false,
               false,
               false,
               false,
               false,
               false
              ]
             },
             {
              "frame": {
               "duration": 1000,
               "redraw": true
              },
              "title_text": "Renewable energy share in the total final energy consumption (%) Map - 2009"
             }
            ],
            "label": "2009",
            "method": "update"
           },
           {
            "args": [
             {
              "visible": [
               false,
               false,
               false,
               false,
               false,
               false,
               false,
               false,
               false,
               false,
               true,
               false,
               false,
               false,
               false,
               false,
               false,
               false,
               false,
               false
              ]
             },
             {
              "frame": {
               "duration": 1000,
               "redraw": true
              },
              "title_text": "Renewable energy share in the total final energy consumption (%) Map - 2010"
             }
            ],
            "label": "2010",
            "method": "update"
           },
           {
            "args": [
             {
              "visible": [
               false,
               false,
               false,
               false,
               false,
               false,
               false,
               false,
               false,
               false,
               false,
               true,
               false,
               false,
               false,
               false,
               false,
               false,
               false,
               false
              ]
             },
             {
              "frame": {
               "duration": 1000,
               "redraw": true
              },
              "title_text": "Renewable energy share in the total final energy consumption (%) Map - 2011"
             }
            ],
            "label": "2011",
            "method": "update"
           },
           {
            "args": [
             {
              "visible": [
               false,
               false,
               false,
               false,
               false,
               false,
               false,
               false,
               false,
               false,
               false,
               false,
               true,
               false,
               false,
               false,
               false,
               false,
               false,
               false
              ]
             },
             {
              "frame": {
               "duration": 1000,
               "redraw": true
              },
              "title_text": "Renewable energy share in the total final energy consumption (%) Map - 2012"
             }
            ],
            "label": "2012",
            "method": "update"
           },
           {
            "args": [
             {
              "visible": [
               false,
               false,
               false,
               false,
               false,
               false,
               false,
               false,
               false,
               false,
               false,
               false,
               false,
               true,
               false,
               false,
               false,
               false,
               false,
               false
              ]
             },
             {
              "frame": {
               "duration": 1000,
               "redraw": true
              },
              "title_text": "Renewable energy share in the total final energy consumption (%) Map - 2013"
             }
            ],
            "label": "2013",
            "method": "update"
           },
           {
            "args": [
             {
              "visible": [
               false,
               false,
               false,
               false,
               false,
               false,
               false,
               false,
               false,
               false,
               false,
               false,
               false,
               false,
               true,
               false,
               false,
               false,
               false,
               false
              ]
             },
             {
              "frame": {
               "duration": 1000,
               "redraw": true
              },
              "title_text": "Renewable energy share in the total final energy consumption (%) Map - 2014"
             }
            ],
            "label": "2014",
            "method": "update"
           },
           {
            "args": [
             {
              "visible": [
               false,
               false,
               false,
               false,
               false,
               false,
               false,
               false,
               false,
               false,
               false,
               false,
               false,
               false,
               false,
               true,
               false,
               false,
               false,
               false
              ]
             },
             {
              "frame": {
               "duration": 1000,
               "redraw": true
              },
              "title_text": "Renewable energy share in the total final energy consumption (%) Map - 2015"
             }
            ],
            "label": "2015",
            "method": "update"
           },
           {
            "args": [
             {
              "visible": [
               false,
               false,
               false,
               false,
               false,
               false,
               false,
               false,
               false,
               false,
               false,
               false,
               false,
               false,
               false,
               false,
               true,
               false,
               false,
               false
              ]
             },
             {
              "frame": {
               "duration": 1000,
               "redraw": true
              },
              "title_text": "Renewable energy share in the total final energy consumption (%) Map - 2016"
             }
            ],
            "label": "2016",
            "method": "update"
           },
           {
            "args": [
             {
              "visible": [
               false,
               false,
               false,
               false,
               false,
               false,
               false,
               false,
               false,
               false,
               false,
               false,
               false,
               false,
               false,
               false,
               false,
               true,
               false,
               false
              ]
             },
             {
              "frame": {
               "duration": 1000,
               "redraw": true
              },
              "title_text": "Renewable energy share in the total final energy consumption (%) Map - 2017"
             }
            ],
            "label": "2017",
            "method": "update"
           },
           {
            "args": [
             {
              "visible": [
               false,
               false,
               false,
               false,
               false,
               false,
               false,
               false,
               false,
               false,
               false,
               false,
               false,
               false,
               false,
               false,
               false,
               false,
               true,
               false
              ]
             },
             {
              "frame": {
               "duration": 1000,
               "redraw": true
              },
              "title_text": "Renewable energy share in the total final energy consumption (%) Map - 2018"
             }
            ],
            "label": "2018",
            "method": "update"
           },
           {
            "args": [
             {
              "visible": [
               false,
               false,
               false,
               false,
               false,
               false,
               false,
               false,
               false,
               false,
               false,
               false,
               false,
               false,
               false,
               false,
               false,
               false,
               false,
               true
              ]
             },
             {
              "frame": {
               "duration": 1000,
               "redraw": true
              },
              "title_text": "Renewable energy share in the total final energy consumption (%) Map - 2019"
             }
            ],
            "label": "2019",
            "method": "update"
           }
          ]
         }
        ],
        "template": {
         "data": {
          "bar": [
           {
            "error_x": {
             "color": "#2a3f5f"
            },
            "error_y": {
             "color": "#2a3f5f"
            },
            "marker": {
             "line": {
              "color": "white",
              "width": 0.5
             },
             "pattern": {
              "fillmode": "overlay",
              "size": 10,
              "solidity": 0.2
             }
            },
            "type": "bar"
           }
          ],
          "barpolar": [
           {
            "marker": {
             "line": {
              "color": "white",
              "width": 0.5
             },
             "pattern": {
              "fillmode": "overlay",
              "size": 10,
              "solidity": 0.2
             }
            },
            "type": "barpolar"
           }
          ],
          "carpet": [
           {
            "aaxis": {
             "endlinecolor": "#2a3f5f",
             "gridcolor": "#C8D4E3",
             "linecolor": "#C8D4E3",
             "minorgridcolor": "#C8D4E3",
             "startlinecolor": "#2a3f5f"
            },
            "baxis": {
             "endlinecolor": "#2a3f5f",
             "gridcolor": "#C8D4E3",
             "linecolor": "#C8D4E3",
             "minorgridcolor": "#C8D4E3",
             "startlinecolor": "#2a3f5f"
            },
            "type": "carpet"
           }
          ],
          "choropleth": [
           {
            "colorbar": {
             "outlinewidth": 0,
             "ticks": ""
            },
            "type": "choropleth"
           }
          ],
          "contour": [
           {
            "colorbar": {
             "outlinewidth": 0,
             "ticks": ""
            },
            "colorscale": [
             [
              0,
              "#0d0887"
             ],
             [
              0.1111111111111111,
              "#46039f"
             ],
             [
              0.2222222222222222,
              "#7201a8"
             ],
             [
              0.3333333333333333,
              "#9c179e"
             ],
             [
              0.4444444444444444,
              "#bd3786"
             ],
             [
              0.5555555555555556,
              "#d8576b"
             ],
             [
              0.6666666666666666,
              "#ed7953"
             ],
             [
              0.7777777777777778,
              "#fb9f3a"
             ],
             [
              0.8888888888888888,
              "#fdca26"
             ],
             [
              1,
              "#f0f921"
             ]
            ],
            "type": "contour"
           }
          ],
          "contourcarpet": [
           {
            "colorbar": {
             "outlinewidth": 0,
             "ticks": ""
            },
            "type": "contourcarpet"
           }
          ],
          "heatmap": [
           {
            "colorbar": {
             "outlinewidth": 0,
             "ticks": ""
            },
            "colorscale": [
             [
              0,
              "#0d0887"
             ],
             [
              0.1111111111111111,
              "#46039f"
             ],
             [
              0.2222222222222222,
              "#7201a8"
             ],
             [
              0.3333333333333333,
              "#9c179e"
             ],
             [
              0.4444444444444444,
              "#bd3786"
             ],
             [
              0.5555555555555556,
              "#d8576b"
             ],
             [
              0.6666666666666666,
              "#ed7953"
             ],
             [
              0.7777777777777778,
              "#fb9f3a"
             ],
             [
              0.8888888888888888,
              "#fdca26"
             ],
             [
              1,
              "#f0f921"
             ]
            ],
            "type": "heatmap"
           }
          ],
          "heatmapgl": [
           {
            "colorbar": {
             "outlinewidth": 0,
             "ticks": ""
            },
            "colorscale": [
             [
              0,
              "#0d0887"
             ],
             [
              0.1111111111111111,
              "#46039f"
             ],
             [
              0.2222222222222222,
              "#7201a8"
             ],
             [
              0.3333333333333333,
              "#9c179e"
             ],
             [
              0.4444444444444444,
              "#bd3786"
             ],
             [
              0.5555555555555556,
              "#d8576b"
             ],
             [
              0.6666666666666666,
              "#ed7953"
             ],
             [
              0.7777777777777778,
              "#fb9f3a"
             ],
             [
              0.8888888888888888,
              "#fdca26"
             ],
             [
              1,
              "#f0f921"
             ]
            ],
            "type": "heatmapgl"
           }
          ],
          "histogram": [
           {
            "marker": {
             "pattern": {
              "fillmode": "overlay",
              "size": 10,
              "solidity": 0.2
             }
            },
            "type": "histogram"
           }
          ],
          "histogram2d": [
           {
            "colorbar": {
             "outlinewidth": 0,
             "ticks": ""
            },
            "colorscale": [
             [
              0,
              "#0d0887"
             ],
             [
              0.1111111111111111,
              "#46039f"
             ],
             [
              0.2222222222222222,
              "#7201a8"
             ],
             [
              0.3333333333333333,
              "#9c179e"
             ],
             [
              0.4444444444444444,
              "#bd3786"
             ],
             [
              0.5555555555555556,
              "#d8576b"
             ],
             [
              0.6666666666666666,
              "#ed7953"
             ],
             [
              0.7777777777777778,
              "#fb9f3a"
             ],
             [
              0.8888888888888888,
              "#fdca26"
             ],
             [
              1,
              "#f0f921"
             ]
            ],
            "type": "histogram2d"
           }
          ],
          "histogram2dcontour": [
           {
            "colorbar": {
             "outlinewidth": 0,
             "ticks": ""
            },
            "colorscale": [
             [
              0,
              "#0d0887"
             ],
             [
              0.1111111111111111,
              "#46039f"
             ],
             [
              0.2222222222222222,
              "#7201a8"
             ],
             [
              0.3333333333333333,
              "#9c179e"
             ],
             [
              0.4444444444444444,
              "#bd3786"
             ],
             [
              0.5555555555555556,
              "#d8576b"
             ],
             [
              0.6666666666666666,
              "#ed7953"
             ],
             [
              0.7777777777777778,
              "#fb9f3a"
             ],
             [
              0.8888888888888888,
              "#fdca26"
             ],
             [
              1,
              "#f0f921"
             ]
            ],
            "type": "histogram2dcontour"
           }
          ],
          "mesh3d": [
           {
            "colorbar": {
             "outlinewidth": 0,
             "ticks": ""
            },
            "type": "mesh3d"
           }
          ],
          "parcoords": [
           {
            "line": {
             "colorbar": {
              "outlinewidth": 0,
              "ticks": ""
             }
            },
            "type": "parcoords"
           }
          ],
          "pie": [
           {
            "automargin": true,
            "type": "pie"
           }
          ],
          "scatter": [
           {
            "fillpattern": {
             "fillmode": "overlay",
             "size": 10,
             "solidity": 0.2
            },
            "type": "scatter"
           }
          ],
          "scatter3d": [
           {
            "line": {
             "colorbar": {
              "outlinewidth": 0,
              "ticks": ""
             }
            },
            "marker": {
             "colorbar": {
              "outlinewidth": 0,
              "ticks": ""
             }
            },
            "type": "scatter3d"
           }
          ],
          "scattercarpet": [
           {
            "marker": {
             "colorbar": {
              "outlinewidth": 0,
              "ticks": ""
             }
            },
            "type": "scattercarpet"
           }
          ],
          "scattergeo": [
           {
            "marker": {
             "colorbar": {
              "outlinewidth": 0,
              "ticks": ""
             }
            },
            "type": "scattergeo"
           }
          ],
          "scattergl": [
           {
            "marker": {
             "colorbar": {
              "outlinewidth": 0,
              "ticks": ""
             }
            },
            "type": "scattergl"
           }
          ],
          "scattermapbox": [
           {
            "marker": {
             "colorbar": {
              "outlinewidth": 0,
              "ticks": ""
             }
            },
            "type": "scattermapbox"
           }
          ],
          "scatterpolar": [
           {
            "marker": {
             "colorbar": {
              "outlinewidth": 0,
              "ticks": ""
             }
            },
            "type": "scatterpolar"
           }
          ],
          "scatterpolargl": [
           {
            "marker": {
             "colorbar": {
              "outlinewidth": 0,
              "ticks": ""
             }
            },
            "type": "scatterpolargl"
           }
          ],
          "scatterternary": [
           {
            "marker": {
             "colorbar": {
              "outlinewidth": 0,
              "ticks": ""
             }
            },
            "type": "scatterternary"
           }
          ],
          "surface": [
           {
            "colorbar": {
             "outlinewidth": 0,
             "ticks": ""
            },
            "colorscale": [
             [
              0,
              "#0d0887"
             ],
             [
              0.1111111111111111,
              "#46039f"
             ],
             [
              0.2222222222222222,
              "#7201a8"
             ],
             [
              0.3333333333333333,
              "#9c179e"
             ],
             [
              0.4444444444444444,
              "#bd3786"
             ],
             [
              0.5555555555555556,
              "#d8576b"
             ],
             [
              0.6666666666666666,
              "#ed7953"
             ],
             [
              0.7777777777777778,
              "#fb9f3a"
             ],
             [
              0.8888888888888888,
              "#fdca26"
             ],
             [
              1,
              "#f0f921"
             ]
            ],
            "type": "surface"
           }
          ],
          "table": [
           {
            "cells": {
             "fill": {
              "color": "#EBF0F8"
             },
             "line": {
              "color": "white"
             }
            },
            "header": {
             "fill": {
              "color": "#C8D4E3"
             },
             "line": {
              "color": "white"
             }
            },
            "type": "table"
           }
          ]
         },
         "layout": {
          "annotationdefaults": {
           "arrowcolor": "#2a3f5f",
           "arrowhead": 0,
           "arrowwidth": 1
          },
          "autotypenumbers": "strict",
          "coloraxis": {
           "colorbar": {
            "outlinewidth": 0,
            "ticks": ""
           }
          },
          "colorscale": {
           "diverging": [
            [
             0,
             "#8e0152"
            ],
            [
             0.1,
             "#c51b7d"
            ],
            [
             0.2,
             "#de77ae"
            ],
            [
             0.3,
             "#f1b6da"
            ],
            [
             0.4,
             "#fde0ef"
            ],
            [
             0.5,
             "#f7f7f7"
            ],
            [
             0.6,
             "#e6f5d0"
            ],
            [
             0.7,
             "#b8e186"
            ],
            [
             0.8,
             "#7fbc41"
            ],
            [
             0.9,
             "#4d9221"
            ],
            [
             1,
             "#276419"
            ]
           ],
           "sequential": [
            [
             0,
             "#0d0887"
            ],
            [
             0.1111111111111111,
             "#46039f"
            ],
            [
             0.2222222222222222,
             "#7201a8"
            ],
            [
             0.3333333333333333,
             "#9c179e"
            ],
            [
             0.4444444444444444,
             "#bd3786"
            ],
            [
             0.5555555555555556,
             "#d8576b"
            ],
            [
             0.6666666666666666,
             "#ed7953"
            ],
            [
             0.7777777777777778,
             "#fb9f3a"
            ],
            [
             0.8888888888888888,
             "#fdca26"
            ],
            [
             1,
             "#f0f921"
            ]
           ],
           "sequentialminus": [
            [
             0,
             "#0d0887"
            ],
            [
             0.1111111111111111,
             "#46039f"
            ],
            [
             0.2222222222222222,
             "#7201a8"
            ],
            [
             0.3333333333333333,
             "#9c179e"
            ],
            [
             0.4444444444444444,
             "#bd3786"
            ],
            [
             0.5555555555555556,
             "#d8576b"
            ],
            [
             0.6666666666666666,
             "#ed7953"
            ],
            [
             0.7777777777777778,
             "#fb9f3a"
            ],
            [
             0.8888888888888888,
             "#fdca26"
            ],
            [
             1,
             "#f0f921"
            ]
           ]
          },
          "colorway": [
           "#636efa",
           "#EF553B",
           "#00cc96",
           "#ab63fa",
           "#FFA15A",
           "#19d3f3",
           "#FF6692",
           "#B6E880",
           "#FF97FF",
           "#FECB52"
          ],
          "font": {
           "color": "#2a3f5f"
          },
          "geo": {
           "bgcolor": "white",
           "lakecolor": "white",
           "landcolor": "white",
           "showlakes": true,
           "showland": true,
           "subunitcolor": "#C8D4E3"
          },
          "hoverlabel": {
           "align": "left"
          },
          "hovermode": "closest",
          "mapbox": {
           "style": "light"
          },
          "paper_bgcolor": "white",
          "plot_bgcolor": "white",
          "polar": {
           "angularaxis": {
            "gridcolor": "#EBF0F8",
            "linecolor": "#EBF0F8",
            "ticks": ""
           },
           "bgcolor": "white",
           "radialaxis": {
            "gridcolor": "#EBF0F8",
            "linecolor": "#EBF0F8",
            "ticks": ""
           }
          },
          "scene": {
           "xaxis": {
            "backgroundcolor": "white",
            "gridcolor": "#DFE8F3",
            "gridwidth": 2,
            "linecolor": "#EBF0F8",
            "showbackground": true,
            "ticks": "",
            "zerolinecolor": "#EBF0F8"
           },
           "yaxis": {
            "backgroundcolor": "white",
            "gridcolor": "#DFE8F3",
            "gridwidth": 2,
            "linecolor": "#EBF0F8",
            "showbackground": true,
            "ticks": "",
            "zerolinecolor": "#EBF0F8"
           },
           "zaxis": {
            "backgroundcolor": "white",
            "gridcolor": "#DFE8F3",
            "gridwidth": 2,
            "linecolor": "#EBF0F8",
            "showbackground": true,
            "ticks": "",
            "zerolinecolor": "#EBF0F8"
           }
          },
          "shapedefaults": {
           "line": {
            "color": "#2a3f5f"
           }
          },
          "ternary": {
           "aaxis": {
            "gridcolor": "#DFE8F3",
            "linecolor": "#A2B1C6",
            "ticks": ""
           },
           "baxis": {
            "gridcolor": "#DFE8F3",
            "linecolor": "#A2B1C6",
            "ticks": ""
           },
           "bgcolor": "white",
           "caxis": {
            "gridcolor": "#DFE8F3",
            "linecolor": "#A2B1C6",
            "ticks": ""
           }
          },
          "title": {
           "x": 0.05
          },
          "xaxis": {
           "automargin": true,
           "gridcolor": "#EBF0F8",
           "linecolor": "#EBF0F8",
           "ticks": "",
           "title": {
            "standoff": 15
           },
           "zerolinecolor": "#EBF0F8",
           "zerolinewidth": 2
          },
          "yaxis": {
           "automargin": true,
           "gridcolor": "#EBF0F8",
           "linecolor": "#EBF0F8",
           "ticks": "",
           "title": {
            "standoff": 15
           },
           "zerolinecolor": "#EBF0F8",
           "zerolinewidth": 2
          }
         }
        },
        "title": {
         "font": {
          "size": 24
         },
         "text": "Renewable energy share in the total final energy consumption (%)",
         "x": 0.5
        },
        "width": 1000
       }
      }
     },
     "metadata": {},
     "output_type": "display_data"
    }
   ],
   "source": [
    "# Function to plot features on world map\n",
    "fig = go.Figure()\n",
    "\n",
    "\n",
    "# Show the figure\n",
    "fig.show()"
   ]
  },
  {
   "cell_type": "code",
   "execution_count": 51,
   "metadata": {},
   "outputs": [],
   "source": [
    "#select_col=df.columns# لو استخدمت دي بيطلع ايرور \n",
    "select_col = [\n",
    "# 'Access to electricity (% of population)',\n",
    "#  'Access to clean fuels for cooking',\n",
    " 'Renewable energy share in the total final energy consumption (%)',\n",
    " 'CO2 Emissions (kt) by Country']"
   ]
  },
  {
   "cell_type": "code",
   "execution_count": 56,
   "metadata": {},
   "outputs": [
    {
     "data": {
      "application/vnd.plotly.v1+json": {
       "config": {
        "plotlyServerURL": "https://plot.ly"
       },
       "data": [
        {
         "colorbar": {
          "title": {
           "text": "CO2 Emissions (kt) by Country"
          }
         },
         "colorscale": [
          [
           0,
           "rgb(0,0,0)"
          ],
          [
           0.2,
           "rgb(30,0,100)"
          ],
          [
           0.4,
           "rgb(120,0,100)"
          ],
          [
           0.6,
           "rgb(160,90,0)"
          ],
          [
           0.8,
           "rgb(230,200,0)"
          ],
          [
           1,
           "rgb(255,250,220)"
          ]
         ],
         "locationmode": "country names",
         "locations": [
          "Afghanistan",
          "Armenia",
          "Azerbaijan",
          "Bahrain",
          "Bangladesh",
          "Bhutan",
          "Cambodia",
          "China",
          "Cyprus",
          "Georgia",
          "India",
          "Indonesia",
          "Iraq",
          "Israel",
          "Japan",
          "Jordan",
          "Kazakhstan",
          "Kuwait",
          "Kyrgyzstan",
          "Lebanon",
          "Malaysia",
          "Maldives",
          "Mongolia",
          "Myanmar",
          "Nepal",
          "Oman",
          "Pakistan",
          "Philippines",
          "Qatar",
          "Saudi Arabia",
          "Singapore",
          "Sri Lanka",
          "Tajikistan",
          "Thailand",
          "Turkey",
          "Turkmenistan",
          "United Arab Emirates",
          "Uzbekistan",
          "Yemen"
         ],
         "type": "choropleth",
         "visible": true,
         "z": [
          760,
          3560,
          27690,
          15880,
          21650,
          210,
          1960,
          3346530,
          7130,
          4770,
          937860,
          280650,
          87630,
          57000,
          1182610,
          16270,
          120150,
          49840,
          null,
          15670,
          124360,
          460,
          9000,
          9440,
          3220,
          25110,
          98370,
          72100,
          28660,
          249660,
          42120,
          10930,
          2200,
          164490,
          null,
          38510,
          84730,
          123810,
          null
         ],
         "zmax": 10707219.73,
         "zmin": 210
        },
        {
         "colorbar": {
          "title": {
           "text": "CO2 Emissions (kt) by Country"
          }
         },
         "colorscale": [
          [
           0,
           "rgb(0,0,0)"
          ],
          [
           0.2,
           "rgb(30,0,100)"
          ],
          [
           0.4,
           "rgb(120,0,100)"
          ],
          [
           0.6,
           "rgb(160,90,0)"
          ],
          [
           0.8,
           "rgb(230,200,0)"
          ],
          [
           1,
           "rgb(255,250,220)"
          ]
         ],
         "locationmode": "country names",
         "locations": [
          "Afghanistan",
          "Armenia",
          "Azerbaijan",
          "Bahrain",
          "Bangladesh",
          "Bhutan",
          "Cambodia",
          "China",
          "Cyprus",
          "Georgia",
          "India",
          "Indonesia",
          "Iraq",
          "Israel",
          "Japan",
          "Jordan",
          "Kazakhstan",
          "Kuwait",
          "Kyrgyzstan",
          "Lebanon",
          "Malaysia",
          "Maldives",
          "Mongolia",
          "Myanmar",
          "Nepal",
          "Oman",
          "Pakistan",
          "Philippines",
          "Qatar",
          "Saudi Arabia",
          "Singapore",
          "Sri Lanka",
          "Tajikistan",
          "Thailand",
          "Turkey",
          "Turkmenistan",
          "United Arab Emirates",
          "Uzbekistan",
          "Yemen"
         ],
         "type": "choropleth",
         "visible": false,
         "z": [
          730,
          3600,
          26400,
          16390,
          25780,
          230,
          2150,
          3529080,
          6990,
          3520,
          953540,
          302060,
          97550,
          57950,
          1170380,
          16250,
          117440,
          53190,
          null,
          16890,
          129460,
          480,
          8970,
          8350,
          3460,
          28030,
          99840,
          70480,
          28650,
          254090,
          42030,
          10850,
          2150,
          173160,
          null,
          39120,
          97200,
          125700,
          null
         ],
         "zmax": 10707219.73,
         "zmin": 210
        },
        {
         "colorbar": {
          "title": {
           "text": "CO2 Emissions (kt) by Country"
          }
         },
         "colorscale": [
          [
           0,
           "rgb(0,0,0)"
          ],
          [
           0.2,
           "rgb(30,0,100)"
          ],
          [
           0.4,
           "rgb(120,0,100)"
          ],
          [
           0.6,
           "rgb(160,90,0)"
          ],
          [
           0.8,
           "rgb(230,200,0)"
          ],
          [
           1,
           "rgb(255,250,220)"
          ]
         ],
         "locationmode": "country names",
         "locations": [
          "Afghanistan",
          "Armenia",
          "Azerbaijan",
          "Bahrain",
          "Bangladesh",
          "Bhutan",
          "Cambodia",
          "China",
          "Cyprus",
          "Georgia",
          "India",
          "Indonesia",
          "Iraq",
          "Israel",
          "Japan",
          "Jordan",
          "Kazakhstan",
          "Kuwait",
          "Kyrgyzstan",
          "Lebanon",
          "Malaysia",
          "Maldives",
          "Mongolia",
          "Myanmar",
          "Nepal",
          "Oman",
          "Pakistan",
          "Philippines",
          "Qatar",
          "Saudi Arabia",
          "Singapore",
          "Sri Lanka",
          "Tajikistan",
          "Thailand",
          "Turkey",
          "Turkmenistan",
          "United Arab Emirates",
          "Uzbekistan",
          "Yemen"
         ],
         "type": "choropleth",
         "visible": false,
         "z": [
          1029.999971,
          3119.999886,
          26180.00031,
          17219.99931,
          27430.00031,
          239.9999946,
          2210.000038,
          3810060.059,
          7170.000076,
          2960.000038,
          985450.0122,
          305640.0146,
          91160.00366,
          61080.00183,
          1206599.976,
          16870.00084,
          131059.9976,
          55590.00015,
          null,
          16840.00015,
          136380.0049,
          620.0000048,
          9600.000381,
          8300.000191,
          2789.999962,
          29969.99931,
          102330.0018,
          71569.99969,
          32500,
          272250,
          41290.00092,
          11390.00034,
          2130.000114,
          184240.0055,
          null,
          41409.99985,
          99150.00153,
          129889.9994,
          null
         ],
         "zmax": 10707219.73,
         "zmin": 210
        },
        {
         "colorbar": {
          "title": {
           "text": "CO2 Emissions (kt) by Country"
          }
         },
         "colorscale": [
          [
           0,
           "rgb(0,0,0)"
          ],
          [
           0.2,
           "rgb(30,0,100)"
          ],
          [
           0.4,
           "rgb(120,0,100)"
          ],
          [
           0.6,
           "rgb(160,90,0)"
          ],
          [
           0.8,
           "rgb(230,200,0)"
          ],
          [
           1,
           "rgb(255,250,220)"
          ]
         ],
         "locationmode": "country names",
         "locations": [
          "Afghanistan",
          "Armenia",
          "Azerbaijan",
          "Bahrain",
          "Bangladesh",
          "Bhutan",
          "Cambodia",
          "China",
          "Cyprus",
          "Georgia",
          "India",
          "Indonesia",
          "Iraq",
          "Israel",
          "Japan",
          "Jordan",
          "Kazakhstan",
          "Kuwait",
          "Kyrgyzstan",
          "Lebanon",
          "Malaysia",
          "Maldives",
          "Mongolia",
          "Myanmar",
          "Nepal",
          "Oman",
          "Pakistan",
          "Philippines",
          "Qatar",
          "Saudi Arabia",
          "Singapore",
          "Sri Lanka",
          "Tajikistan",
          "Thailand",
          "Turkey",
          "Turkmenistan",
          "United Arab Emirates",
          "Uzbekistan",
          "Yemen"
         ],
         "type": "choropleth",
         "visible": false,
         "z": [
          1220.000029,
          3500,
          28569.99969,
          17940.00053,
          28629.99916,
          259.9999905,
          2380.000114,
          4415910.156,
          7829.999924,
          3160.000086,
          1011770.02,
          333890.0146,
          81279.99878,
          62930.00031,
          1214949.951,
          17309.99947,
          146139.9994,
          58119.99893,
          null,
          17409.99985,
          144490.0055,
          529.9999714,
          9310.00042,
          10489.99977,
          3019.999981,
          31700.00076,
          105660.0037,
          73629.99725,
          34740.00168,
          284829.9866,
          38159.99985,
          12409.99985,
          2180.000067,
          191929.9927,
          null,
          46349.99847,
          103819.9997,
          121910.0037,
          null
         ],
         "zmax": 10707219.73,
         "zmin": 210
        },
        {
         "colorbar": {
          "title": {
           "text": "CO2 Emissions (kt) by Country"
          }
         },
         "colorscale": [
          [
           0,
           "rgb(0,0,0)"
          ],
          [
           0.2,
           "rgb(30,0,100)"
          ],
          [
           0.4,
           "rgb(120,0,100)"
          ],
          [
           0.6,
           "rgb(160,90,0)"
          ],
          [
           0.8,
           "rgb(230,200,0)"
          ],
          [
           1,
           "rgb(255,250,220)"
          ]
         ],
         "locationmode": "country names",
         "locations": [
          "Afghanistan",
          "Armenia",
          "Azerbaijan",
          "Bahrain",
          "Bangladesh",
          "Bhutan",
          "Cambodia",
          "China",
          "Cyprus",
          "Georgia",
          "India",
          "Indonesia",
          "Iraq",
          "Israel",
          "Japan",
          "Jordan",
          "Kazakhstan",
          "Kuwait",
          "Kyrgyzstan",
          "Lebanon",
          "Malaysia",
          "Maldives",
          "Mongolia",
          "Myanmar",
          "Nepal",
          "Oman",
          "Pakistan",
          "Philippines",
          "Qatar",
          "Saudi Arabia",
          "Singapore",
          "Sri Lanka",
          "Tajikistan",
          "Thailand",
          "Turkey",
          "Turkmenistan",
          "United Arab Emirates",
          "Uzbekistan",
          "Yemen"
         ],
         "type": "choropleth",
         "visible": false,
         "z": [
          1029.999971,
          3759.99999,
          28309.99947,
          17930.00031,
          30530.00069,
          289.9999917,
          2380.000114,
          5124819.824,
          7780.00021,
          3369.999886,
          1085670.044,
          341239.9902,
          88110.00061,
          63159.99985,
          1209849.976,
          18579.99992,
          158029.9988,
          61909.99985,
          null,
          17879.99916,
          158270.0043,
          750,
          9560.00042,
          10149.99962,
          2809.999943,
          31260.00023,
          118650.0015,
          75139.99939,
          37069.99969,
          299890.0146,
          39619.99893,
          12869.99989,
          2599.999905,
          210190.0024,
          null,
          49369.99893,
          110010.0021,
          124839.9963,
          null
         ],
         "zmax": 10707219.73,
         "zmin": 210
        },
        {
         "colorbar": {
          "title": {
           "text": "CO2 Emissions (kt) by Country"
          }
         },
         "colorscale": [
          [
           0,
           "rgb(0,0,0)"
          ],
          [
           0.2,
           "rgb(30,0,100)"
          ],
          [
           0.4,
           "rgb(120,0,100)"
          ],
          [
           0.6,
           "rgb(160,90,0)"
          ],
          [
           0.8,
           "rgb(230,200,0)"
          ],
          [
           1,
           "rgb(255,250,220)"
          ]
         ],
         "locationmode": "country names",
         "locations": [
          "Afghanistan",
          "Armenia",
          "Azerbaijan",
          "Bahrain",
          "Bangladesh",
          "Bhutan",
          "Cambodia",
          "China",
          "Cyprus",
          "Georgia",
          "India",
          "Indonesia",
          "Iraq",
          "Israel",
          "Japan",
          "Jordan",
          "Kazakhstan",
          "Kuwait",
          "Kyrgyzstan",
          "Lebanon",
          "Malaysia",
          "Maldives",
          "Mongolia",
          "Myanmar",
          "Nepal",
          "Oman",
          "Pakistan",
          "Philippines",
          "Qatar",
          "Saudi Arabia",
          "Singapore",
          "Sri Lanka",
          "Tajikistan",
          "Thailand",
          "Turkey",
          "Turkmenistan",
          "United Arab Emirates",
          "Uzbekistan",
          "Yemen"
         ],
         "type": "choropleth",
         "visible": false,
         "z": [
          1549.999952,
          4460.000038,
          30040.00092,
          20690.00053,
          32709.99908,
          319.9999928,
          2660.000086,
          5824629.883,
          7900.000095,
          4239.999771,
          1136469.971,
          342149.9939,
          85129.99725,
          61009.99832,
          1212819.946,
          19870.00084,
          169210.0067,
          69910.00366,
          null,
          17280.00069,
          167419.9982,
          720.0000286,
          11060.00042,
          10720.00027,
          3190.000057,
          31010.00023,
          121669.9982,
          76669.99817,
          38540.00092,
          315290.0085,
          36900.00153,
          13979.99954,
          2470.000029,
          217770.0043,
          null,
          50590.00015,
          116459.9991,
          119190.0024,
          null
         ],
         "zmax": 10707219.73,
         "zmin": 210
        },
        {
         "colorbar": {
          "title": {
           "text": "CO2 Emissions (kt) by Country"
          }
         },
         "colorscale": [
          [
           0,
           "rgb(0,0,0)"
          ],
          [
           0.2,
           "rgb(30,0,100)"
          ],
          [
           0.4,
           "rgb(120,0,100)"
          ],
          [
           0.6,
           "rgb(160,90,0)"
          ],
          [
           0.8,
           "rgb(230,200,0)"
          ],
          [
           1,
           "rgb(255,250,220)"
          ]
         ],
         "locationmode": "country names",
         "locations": [
          "Afghanistan",
          "Armenia",
          "Azerbaijan",
          "Bahrain",
          "Bangladesh",
          "Bhutan",
          "Cambodia",
          "China",
          "Cyprus",
          "Georgia",
          "India",
          "Indonesia",
          "Iraq",
          "Israel",
          "Japan",
          "Jordan",
          "Kazakhstan",
          "Kuwait",
          "Kyrgyzstan",
          "Lebanon",
          "Malaysia",
          "Maldives",
          "Mongolia",
          "Myanmar",
          "Nepal",
          "Oman",
          "Pakistan",
          "Philippines",
          "Qatar",
          "Saudi Arabia",
          "Singapore",
          "Sri Lanka",
          "Tajikistan",
          "Thailand",
          "Turkey",
          "Turkmenistan",
          "United Arab Emirates",
          "Uzbekistan",
          "Yemen"
         ],
         "type": "choropleth",
         "visible": false,
         "z": [
          1759.99999,
          4489.999771,
          30489.99977,
          22489.99977,
          35900.00153,
          319.9999928,
          2960.000038,
          6437470.215,
          8000,
          4699.999809,
          1215209.961,
          364470.0012,
          82959.99908,
          64330.00183,
          1189520.02,
          20170.00008,
          185300.0031,
          72430.00031,
          null,
          16229.99954,
          174100.0061,
          870.0000048,
          12420.00008,
          9970.000267,
          2619.999886,
          39189.99863,
          132479.9957,
          69470.00122,
          43770.00046,
          335440.0024,
          37169.99817,
          12399.99962,
          2690.000057,
          219880.0049,
          null,
          51919.99817,
          121559.9976,
          127360.0006,
          null
         ],
         "zmax": 10707219.73,
         "zmin": 210
        },
        {
         "colorbar": {
          "title": {
           "text": "CO2 Emissions (kt) by Country"
          }
         },
         "colorscale": [
          [
           0,
           "rgb(0,0,0)"
          ],
          [
           0.2,
           "rgb(30,0,100)"
          ],
          [
           0.4,
           "rgb(120,0,100)"
          ],
          [
           0.6,
           "rgb(160,90,0)"
          ],
          [
           0.8,
           "rgb(230,200,0)"
          ],
          [
           1,
           "rgb(255,250,220)"
          ]
         ],
         "locationmode": "country names",
         "locations": [
          "Afghanistan",
          "Armenia",
          "Azerbaijan",
          "Bahrain",
          "Bangladesh",
          "Bhutan",
          "Cambodia",
          "China",
          "Cyprus",
          "Georgia",
          "India",
          "Indonesia",
          "Iraq",
          "Israel",
          "Japan",
          "Jordan",
          "Kazakhstan",
          "Kuwait",
          "Kyrgyzstan",
          "Lebanon",
          "Malaysia",
          "Maldives",
          "Mongolia",
          "Myanmar",
          "Nepal",
          "Oman",
          "Pakistan",
          "Philippines",
          "Qatar",
          "Saudi Arabia",
          "Singapore",
          "Sri Lanka",
          "Tajikistan",
          "Thailand",
          "Turkey",
          "Turkmenistan",
          "United Arab Emirates",
          "Uzbekistan",
          "Yemen"
         ],
         "type": "choropleth",
         "visible": false,
         "z": [
          1769.999981,
          5199.999809,
          27629.99916,
          23000,
          37990.00168,
          319.9999928,
          3660.000086,
          6993180.176,
          8310.00042,
          5630.000114,
          1336739.99,
          379959.9915,
          76650.00153,
          66599.99847,
          1225069.946,
          21090.00015,
          198389.9994,
          70599.99847,
          null,
          15039.99996,
          189940.0024,
          870.0000048,
          13020.00046,
          10390.00034,
          2690.000057,
          42259.99832,
          146259.9945,
          73220.00122,
          49830.00183,
          354619.9951,
          38290.00092,
          13590.00015,
          3269.999981,
          224589.9963,
          null,
          58479.99954,
          131830.0018,
          122580.0018,
          null
         ],
         "zmax": 10707219.73,
         "zmin": 210
        },
        {
         "colorbar": {
          "title": {
           "text": "CO2 Emissions (kt) by Country"
          }
         },
         "colorscale": [
          [
           0,
           "rgb(0,0,0)"
          ],
          [
           0.2,
           "rgb(30,0,100)"
          ],
          [
           0.4,
           "rgb(120,0,100)"
          ],
          [
           0.6,
           "rgb(160,90,0)"
          ],
          [
           0.8,
           "rgb(230,200,0)"
          ],
          [
           1,
           "rgb(255,250,220)"
          ]
         ],
         "locationmode": "country names",
         "locations": [
          "Afghanistan",
          "Armenia",
          "Azerbaijan",
          "Bahrain",
          "Bangladesh",
          "Bhutan",
          "Cambodia",
          "China",
          "Cyprus",
          "Georgia",
          "India",
          "Indonesia",
          "Iraq",
          "Israel",
          "Japan",
          "Jordan",
          "Kazakhstan",
          "Kuwait",
          "Kyrgyzstan",
          "Lebanon",
          "Malaysia",
          "Maldives",
          "Mongolia",
          "Myanmar",
          "Nepal",
          "Oman",
          "Pakistan",
          "Philippines",
          "Qatar",
          "Saudi Arabia",
          "Singapore",
          "Sri Lanka",
          "Tajikistan",
          "Thailand",
          "Turkey",
          "Turkmenistan",
          "United Arab Emirates",
          "Uzbekistan",
          "Yemen"
         ],
         "type": "choropleth",
         "visible": false,
         "z": [
          3559.999943,
          5690.000057,
          30450.00076,
          24760.00023,
          41580.00183,
          300.0000119,
          4059.999943,
          7199600.098,
          8489.999771,
          4840.000153,
          1424380.005,
          376140.0146,
          88139.99939,
          66709.99908,
          1158219.971,
          20010.00023,
          242029.9988,
          75839.99634,
          null,
          18649.99962,
          202910.0037,
          870.0000048,
          12970.00027,
          7900.000095,
          2990.00001,
          41310.00137,
          142160.0037,
          75150.00153,
          53040.00092,
          389720.0012,
          38419.99817,
          12810.00042,
          3039.999962,
          227580.0018,
          null,
          59279.99878,
          156050.0031,
          128880.0049,
          null
         ],
         "zmax": 10707219.73,
         "zmin": 210
        },
        {
         "colorbar": {
          "title": {
           "text": "CO2 Emissions (kt) by Country"
          }
         },
         "colorscale": [
          [
           0,
           "rgb(0,0,0)"
          ],
          [
           0.2,
           "rgb(30,0,100)"
          ],
          [
           0.4,
           "rgb(120,0,100)"
          ],
          [
           0.6,
           "rgb(160,90,0)"
          ],
          [
           0.8,
           "rgb(230,200,0)"
          ],
          [
           1,
           "rgb(255,250,220)"
          ]
         ],
         "locationmode": "country names",
         "locations": [
          "Afghanistan",
          "Armenia",
          "Azerbaijan",
          "Bahrain",
          "Bangladesh",
          "Bhutan",
          "Cambodia",
          "China",
          "Cyprus",
          "Georgia",
          "India",
          "Indonesia",
          "Iraq",
          "Israel",
          "Japan",
          "Jordan",
          "Kazakhstan",
          "Kuwait",
          "Kyrgyzstan",
          "Lebanon",
          "Malaysia",
          "Maldives",
          "Mongolia",
          "Myanmar",
          "Nepal",
          "Oman",
          "Pakistan",
          "Philippines",
          "Qatar",
          "Saudi Arabia",
          "Singapore",
          "Sri Lanka",
          "Tajikistan",
          "Thailand",
          "Turkey",
          "Turkmenistan",
          "United Arab Emirates",
          "Uzbekistan",
          "Yemen"
         ],
         "type": "choropleth",
         "visible": false,
         "z": [
          4880.000114,
          4510.000229,
          25500,
          24719.99931,
          44750,
          319.9999928,
          4750,
          7719069.824,
          8279.999733,
          5619.999886,
          1564880.005,
          391079.9866,
          94199.99695,
          65730.00336,
          1100979.98,
          20659.99985,
          213610.0006,
          77650.00153,
          null,
          21899.99962,
          181929.9927,
          910.0000262,
          13640.00034,
          7489.999771,
          3880.000114,
          43590.00015,
          145139.9994,
          76300.00305,
          54069.99969,
          406529.9988,
          38830.00183,
          12289.99996,
          2410.000086,
          220259.9945,
          null,
          52389.99939,
          157020.0043,
          116529.9988,
          null
         ],
         "zmax": 10707219.73,
         "zmin": 210
        },
        {
         "colorbar": {
          "title": {
           "text": "CO2 Emissions (kt) by Country"
          }
         },
         "colorscale": [
          [
           0,
           "rgb(0,0,0)"
          ],
          [
           0.2,
           "rgb(30,0,100)"
          ],
          [
           0.4,
           "rgb(120,0,100)"
          ],
          [
           0.6,
           "rgb(160,90,0)"
          ],
          [
           0.8,
           "rgb(230,200,0)"
          ],
          [
           1,
           "rgb(255,250,220)"
          ]
         ],
         "locationmode": "country names",
         "locations": [
          "Afghanistan",
          "Armenia",
          "Azerbaijan",
          "Bahrain",
          "Bangladesh",
          "Bhutan",
          "Cambodia",
          "China",
          "Cyprus",
          "Georgia",
          "India",
          "Indonesia",
          "Iraq",
          "Israel",
          "Japan",
          "Jordan",
          "Kazakhstan",
          "Kuwait",
          "Kyrgyzstan",
          "Lebanon",
          "Malaysia",
          "Maldives",
          "Mongolia",
          "Myanmar",
          "Nepal",
          "Oman",
          "Pakistan",
          "Philippines",
          "Qatar",
          "Saudi Arabia",
          "Singapore",
          "Sri Lanka",
          "Tajikistan",
          "Thailand",
          "Turkey",
          "Turkmenistan",
          "United Arab Emirates",
          "Uzbekistan",
          "Yemen"
         ],
         "type": "choropleth",
         "visible": false,
         "z": [
          7110.000134,
          4340.000153,
          24309.99947,
          25969.99931,
          50580.00183,
          400.000006,
          5139.999866,
          8474919.922,
          7900.000095,
          5320.000172,
          1659979.98,
          415519.989,
          108550.0031,
          70519.99664,
          1156479.98,
          20200.00076,
          229699.9969,
          80720.00122,
          null,
          20860.00061,
          200220.0012,
          959.9999785,
          14310.00042,
          8130.000114,
          4639.999866,
          47080.00183,
          140619.9951,
          81930.00031,
          60580.00183,
          446130.0049,
          42409.99985,
          13069.99969,
          2450.000048,
          234380.0049,
          null,
          59180.00031,
          162789.9933,
          126239.9979,
          null
         ],
         "zmax": 10707219.73,
         "zmin": 210
        },
        {
         "colorbar": {
          "title": {
           "text": "CO2 Emissions (kt) by Country"
          }
         },
         "colorscale": [
          [
           0,
           "rgb(0,0,0)"
          ],
          [
           0.2,
           "rgb(30,0,100)"
          ],
          [
           0.4,
           "rgb(120,0,100)"
          ],
          [
           0.6,
           "rgb(160,90,0)"
          ],
          [
           0.8,
           "rgb(230,200,0)"
          ],
          [
           1,
           "rgb(255,250,220)"
          ]
         ],
         "locationmode": "country names",
         "locations": [
          "Afghanistan",
          "Armenia",
          "Azerbaijan",
          "Bahrain",
          "Bangladesh",
          "Bhutan",
          "Cambodia",
          "China",
          "Cyprus",
          "Georgia",
          "India",
          "Indonesia",
          "Iraq",
          "Israel",
          "Japan",
          "Jordan",
          "Kazakhstan",
          "Kuwait",
          "Kyrgyzstan",
          "Lebanon",
          "Malaysia",
          "Maldives",
          "Mongolia",
          "Myanmar",
          "Nepal",
          "Oman",
          "Pakistan",
          "Philippines",
          "Qatar",
          "Saudi Arabia",
          "Singapore",
          "Sri Lanka",
          "Tajikistan",
          "Thailand",
          "Turkey",
          "Turkmenistan",
          "United Arab Emirates",
          "Uzbekistan",
          "Yemen"
         ],
         "type": "choropleth",
         "visible": false,
         "z": [
          8930.000305,
          4940.000057,
          27280.00069,
          26020.00046,
          54419.99817,
          589.9999738,
          5360.000134,
          9282549.805,
          7630.000114,
          6519.999981,
          1756739.99,
          475309.9976,
          113040.0009,
          69819.99969,
          1213520.02,
          20760.00023,
          245449.9969,
          83290.00092,
          null,
          21180.00031,
          202740.0055,
          1009.99999,
          15729.99954,
          8689.99958,
          5199.999809,
          53619.99893,
          141699.9969,
          82629.99725,
          68190.00244,
          463769.989,
          44770.00046,
          15420.00008,
          2559.999943,
          233600.0061,
          null,
          65449.99695,
          165600.0061,
          128630.0049,
          null
         ],
         "zmax": 10707219.73,
         "zmin": 210
        },
        {
         "colorbar": {
          "title": {
           "text": "CO2 Emissions (kt) by Country"
          }
         },
         "colorscale": [
          [
           0,
           "rgb(0,0,0)"
          ],
          [
           0.2,
           "rgb(30,0,100)"
          ],
          [
           0.4,
           "rgb(120,0,100)"
          ],
          [
           0.6,
           "rgb(160,90,0)"
          ],
          [
           0.8,
           "rgb(230,200,0)"
          ],
          [
           1,
           "rgb(255,250,220)"
          ]
         ],
         "locationmode": "country names",
         "locations": [
          "Afghanistan",
          "Armenia",
          "Azerbaijan",
          "Bahrain",
          "Bangladesh",
          "Bhutan",
          "Cambodia",
          "China",
          "Cyprus",
          "Georgia",
          "India",
          "Indonesia",
          "Iraq",
          "Israel",
          "Japan",
          "Jordan",
          "Kazakhstan",
          "Kuwait",
          "Kyrgyzstan",
          "Lebanon",
          "Malaysia",
          "Maldives",
          "Mongolia",
          "Myanmar",
          "Nepal",
          "Oman",
          "Pakistan",
          "Philippines",
          "Qatar",
          "Saudi Arabia",
          "Singapore",
          "Sri Lanka",
          "Tajikistan",
          "Thailand",
          "Turkey",
          "Turkmenistan",
          "United Arab Emirates",
          "Uzbekistan",
          "Yemen"
         ],
         "type": "choropleth",
         "visible": false,
         "z": [
          8079.999924,
          5719.99979,
          30110.00061,
          27170.00008,
          57990.00168,
          639.9999857,
          5670.000076,
          9541870.117,
          7099.999905,
          7190.000057,
          1909439.941,
          481510.0098,
          129000,
          76059.99756,
          1253609.985,
          24120.00084,
          244600.0061,
          85309.99756,
          null,
          23469.99931,
          205809.9976,
          1139.999986,
          17139.99939,
          11960.00004,
          6000,
          60549.99924,
          143809.9976,
          86180.00031,
          75080.00183,
          492470.0012,
          43689.99863,
          16850.00038,
          3019.999981,
          250679.9927,
          null,
          69010.00214,
          175589.9963,
          113139.9994,
          null
         ],
         "zmax": 10707219.73,
         "zmin": 210
        },
        {
         "colorbar": {
          "title": {
           "text": "CO2 Emissions (kt) by Country"
          }
         },
         "colorscale": [
          [
           0,
           "rgb(0,0,0)"
          ],
          [
           0.2,
           "rgb(30,0,100)"
          ],
          [
           0.4,
           "rgb(120,0,100)"
          ],
          [
           0.6,
           "rgb(160,90,0)"
          ],
          [
           0.8,
           "rgb(230,200,0)"
          ],
          [
           1,
           "rgb(255,250,220)"
          ]
         ],
         "locationmode": "country names",
         "locations": [
          "Afghanistan",
          "Armenia",
          "Azerbaijan",
          "Bahrain",
          "Bangladesh",
          "Bhutan",
          "Cambodia",
          "China",
          "Cyprus",
          "Georgia",
          "India",
          "Indonesia",
          "Iraq",
          "Israel",
          "Japan",
          "Jordan",
          "Kazakhstan",
          "Kuwait",
          "Kyrgyzstan",
          "Lebanon",
          "Malaysia",
          "Maldives",
          "Mongolia",
          "Myanmar",
          "Nepal",
          "Oman",
          "Pakistan",
          "Philippines",
          "Qatar",
          "Saudi Arabia",
          "Singapore",
          "Sri Lanka",
          "Tajikistan",
          "Thailand",
          "Turkey",
          "Turkmenistan",
          "United Arab Emirates",
          "Uzbekistan",
          "Yemen"
         ],
         "type": "choropleth",
         "visible": false,
         "z": [
          5989.999771,
          5500,
          30940.00053,
          28850.00038,
          60599.99847,
          670.0000167,
          5739.999771,
          9984570.313,
          6429.999828,
          7840.000153,
          1972430.054,
          447940.0024,
          139100.0061,
          67000,
          1262780.029,
          23799.99924,
          260010.0098,
          87360.00061,
          null,
          23239.99977,
          223660.0037,
          1129.999995,
          18379.99916,
          13600.00038,
          6090.000153,
          63009.99832,
          146059.9976,
          95500,
          76169.99817,
          503209.9915,
          43909.99985,
          14479.99954,
          3200.000048,
          260700.0122,
          null,
          70220.00122,
          184470.0012,
          111860.0006,
          null
         ],
         "zmax": 10707219.73,
         "zmin": 210
        },
        {
         "colorbar": {
          "title": {
           "text": "CO2 Emissions (kt) by Country"
          }
         },
         "colorscale": [
          [
           0,
           "rgb(0,0,0)"
          ],
          [
           0.2,
           "rgb(30,0,100)"
          ],
          [
           0.4,
           "rgb(120,0,100)"
          ],
          [
           0.6,
           "rgb(160,90,0)"
          ],
          [
           0.8,
           "rgb(230,200,0)"
          ],
          [
           1,
           "rgb(255,250,220)"
          ]
         ],
         "locationmode": "country names",
         "locations": [
          "Afghanistan",
          "Armenia",
          "Azerbaijan",
          "Bahrain",
          "Bangladesh",
          "Bhutan",
          "Cambodia",
          "China",
          "Cyprus",
          "Georgia",
          "India",
          "Indonesia",
          "Iraq",
          "Israel",
          "Japan",
          "Jordan",
          "Kazakhstan",
          "Kuwait",
          "Kyrgyzstan",
          "Lebanon",
          "Malaysia",
          "Maldives",
          "Mongolia",
          "Myanmar",
          "Nepal",
          "Oman",
          "Pakistan",
          "Philippines",
          "Qatar",
          "Saudi Arabia",
          "Singapore",
          "Sri Lanka",
          "Tajikistan",
          "Thailand",
          "Turkey",
          "Turkmenistan",
          "United Arab Emirates",
          "Uzbekistan",
          "Yemen"
         ],
         "type": "choropleth",
         "visible": false,
         "z": [
          4880.000114,
          5480.000019,
          32240.00168,
          30280.00069,
          63830.00183,
          699.9999881,
          6949.999809,
          10006669.92,
          6809.999943,
          8470.000267,
          2147110.107,
          483910.0037,
          134039.9933,
          64720.00122,
          1217119.995,
          25549.99924,
          209229.9957,
          85569.99969,
          null,
          25149.99962,
          236649.9939,
          1370.000005,
          18120.00084,
          17040.00092,
          7130.000114,
          66389.99939,
          154240.0055,
          101819.9997,
          81660.00366,
          540520.0195,
          44400.00153,
          17600.00038,
          4579.999924,
          256799.9878,
          null,
          71400.00153,
          184759.9945,
          104870.0027,
          null
         ],
         "zmax": 10707219.73,
         "zmin": 210
        },
        {
         "colorbar": {
          "title": {
           "text": "CO2 Emissions (kt) by Country"
          }
         },
         "colorscale": [
          [
           0,
           "rgb(0,0,0)"
          ],
          [
           0.2,
           "rgb(30,0,100)"
          ],
          [
           0.4,
           "rgb(120,0,100)"
          ],
          [
           0.6,
           "rgb(160,90,0)"
          ],
          [
           0.8,
           "rgb(230,200,0)"
          ],
          [
           1,
           "rgb(255,250,220)"
          ]
         ],
         "locationmode": "country names",
         "locations": [
          "Afghanistan",
          "Armenia",
          "Azerbaijan",
          "Bahrain",
          "Bangladesh",
          "Bhutan",
          "Cambodia",
          "China",
          "Cyprus",
          "Georgia",
          "India",
          "Indonesia",
          "Iraq",
          "Israel",
          "Japan",
          "Jordan",
          "Kazakhstan",
          "Kuwait",
          "Kyrgyzstan",
          "Lebanon",
          "Malaysia",
          "Maldives",
          "Mongolia",
          "Myanmar",
          "Nepal",
          "Oman",
          "Pakistan",
          "Philippines",
          "Qatar",
          "Saudi Arabia",
          "Singapore",
          "Sri Lanka",
          "Tajikistan",
          "Thailand",
          "Turkey",
          "Turkmenistan",
          "United Arab Emirates",
          "Uzbekistan",
          "Yemen"
         ],
         "type": "choropleth",
         "visible": false,
         "z": [
          5949.999809,
          5340.000153,
          31770.00046,
          30579.99992,
          72190.00244,
          769.9999809,
          8430.000305,
          9861099.609,
          6849.999905,
          9199.999809,
          2158020.02,
          488549.9878,
          133169.9982,
          66139.99939,
          1179439.941,
          25309.99947,
          190729.9957,
          89019.99664,
          null,
          27010.00023,
          236539.9933,
          1370.000005,
          17299.99924,
          19040.00092,
          7190.000057,
          70129.99725,
          164130.0049,
          111010.0021,
          84779.99878,
          565190.0024,
          45430.00031,
          20360.00061,
          4900.000095,
          264000,
          null,
          73400.00153,
          195240.0055,
          99169.99817,
          null
         ],
         "zmax": 10707219.73,
         "zmin": 210
        },
        {
         "colorbar": {
          "title": {
           "text": "CO2 Emissions (kt) by Country"
          }
         },
         "colorscale": [
          [
           0,
           "rgb(0,0,0)"
          ],
          [
           0.2,
           "rgb(30,0,100)"
          ],
          [
           0.4,
           "rgb(120,0,100)"
          ],
          [
           0.6,
           "rgb(160,90,0)"
          ],
          [
           0.8,
           "rgb(230,200,0)"
          ],
          [
           1,
           "rgb(255,250,220)"
          ]
         ],
         "locationmode": "country names",
         "locations": [
          "Afghanistan",
          "Armenia",
          "Azerbaijan",
          "Bahrain",
          "Bangladesh",
          "Bhutan",
          "Cambodia",
          "China",
          "Cyprus",
          "Georgia",
          "India",
          "Indonesia",
          "Iraq",
          "Israel",
          "Japan",
          "Jordan",
          "Kazakhstan",
          "Kuwait",
          "Kyrgyzstan",
          "Lebanon",
          "Malaysia",
          "Maldives",
          "Mongolia",
          "Myanmar",
          "Nepal",
          "Oman",
          "Pakistan",
          "Philippines",
          "Qatar",
          "Saudi Arabia",
          "Singapore",
          "Sri Lanka",
          "Tajikistan",
          "Thailand",
          "Turkey",
          "Turkmenistan",
          "United Arab Emirates",
          "Uzbekistan",
          "Yemen"
         ],
         "type": "choropleth",
         "visible": false,
         "z": [
          5300.000191,
          5070.000172,
          32240.00168,
          30299.99924,
          74379.99725,
          930.0000072,
          11069.99969,
          9874660.156,
          7219.99979,
          9649.999619,
          2195250,
          482510.0098,
          142229.9957,
          64980.00336,
          1167790.039,
          24819.99969,
          202149.9939,
          91550.00305,
          null,
          27809.99947,
          235960.0067,
          1759.99999,
          18170.00008,
          21860.00061,
          10409.99985,
          72129.99725,
          181110.0006,
          121959.9991,
          86919.99817,
          561229.9805,
          46099.99847,
          21930.00031,
          6090.000153,
          261600.0061,
          null,
          73339.99634,
          201080.0018,
          105230.0034,
          null
         ],
         "zmax": 10707219.73,
         "zmin": 210
        },
        {
         "colorbar": {
          "title": {
           "text": "CO2 Emissions (kt) by Country"
          }
         },
         "colorscale": [
          [
           0,
           "rgb(0,0,0)"
          ],
          [
           0.2,
           "rgb(30,0,100)"
          ],
          [
           0.4,
           "rgb(120,0,100)"
          ],
          [
           0.6,
           "rgb(160,90,0)"
          ],
          [
           0.8,
           "rgb(230,200,0)"
          ],
          [
           1,
           "rgb(255,250,220)"
          ]
         ],
         "locationmode": "country names",
         "locations": [
          "Afghanistan",
          "Armenia",
          "Azerbaijan",
          "Bahrain",
          "Bangladesh",
          "Bhutan",
          "Cambodia",
          "China",
          "Cyprus",
          "Georgia",
          "India",
          "Indonesia",
          "Iraq",
          "Israel",
          "Japan",
          "Jordan",
          "Kazakhstan",
          "Kuwait",
          "Kyrgyzstan",
          "Lebanon",
          "Malaysia",
          "Maldives",
          "Mongolia",
          "Myanmar",
          "Nepal",
          "Oman",
          "Pakistan",
          "Philippines",
          "Qatar",
          "Saudi Arabia",
          "Singapore",
          "Sri Lanka",
          "Tajikistan",
          "Thailand",
          "Turkey",
          "Turkmenistan",
          "United Arab Emirates",
          "Uzbekistan",
          "Yemen"
         ],
         "type": "choropleth",
         "visible": false,
         "z": [
          4780.00021,
          5369.999886,
          31959.99908,
          30520.00046,
          79339.99634,
          970.0000286,
          12689.99958,
          10096009.77,
          7360.000134,
          9729.999542,
          2320409.912,
          517320.0073,
          155080.0018,
          65610.00061,
          1155229.98,
          26149.99962,
          214580.0018,
          90730.00336,
          null,
          29319.99969,
          227619.9951,
          1860.000014,
          19579.99992,
          32500,
          12479.99954,
          71930.00031,
          198830.0018,
          133500,
          87540.00092,
          545070.0073,
          49139.99939,
          23360.00061,
          7369.999886,
          258820.0073,
          null,
          73120.00275,
          197039.9933,
          109529.9988,
          null
         ],
         "zmax": 10707219.73,
         "zmin": 210
        },
        {
         "colorbar": {
          "title": {
           "text": "CO2 Emissions (kt) by Country"
          }
         },
         "colorscale": [
          [
           0,
           "rgb(0,0,0)"
          ],
          [
           0.2,
           "rgb(30,0,100)"
          ],
          [
           0.4,
           "rgb(120,0,100)"
          ],
          [
           0.6,
           "rgb(160,90,0)"
          ],
          [
           0.8,
           "rgb(230,200,0)"
          ],
          [
           1,
           "rgb(255,250,220)"
          ]
         ],
         "locationmode": "country names",
         "locations": [
          "Afghanistan",
          "Armenia",
          "Azerbaijan",
          "Bahrain",
          "Bangladesh",
          "Bhutan",
          "Cambodia",
          "China",
          "Cyprus",
          "Georgia",
          "India",
          "Indonesia",
          "Iraq",
          "Israel",
          "Japan",
          "Jordan",
          "Kazakhstan",
          "Kuwait",
          "Kyrgyzstan",
          "Lebanon",
          "Malaysia",
          "Maldives",
          "Mongolia",
          "Myanmar",
          "Nepal",
          "Oman",
          "Pakistan",
          "Philippines",
          "Qatar",
          "Saudi Arabia",
          "Singapore",
          "Sri Lanka",
          "Tajikistan",
          "Thailand",
          "Turkey",
          "Turkmenistan",
          "United Arab Emirates",
          "Uzbekistan",
          "Yemen"
         ],
         "type": "choropleth",
         "visible": false,
         "z": [
          6070.000172,
          5710.000038,
          32729.99954,
          30809.99947,
          83449.99695,
          1049.999952,
          14579.99992,
          10502929.69,
          7199.999809,
          9569.999695,
          2451929.932,
          576989.9902,
          163149.9939,
          61080.00183,
          1116150.024,
          24780.00069,
          216600.0061,
          91389.99939,
          null,
          27790.00092,
          244410.0037,
          2099.999905,
          21549.99924,
          32939.99863,
          15189.99958,
          75599.99847,
          187309.9976,
          138570.0073,
          86419.99817,
          521260.0098,
          47400.00153,
          21690.00053,
          8680.000305,
          257049.9878,
          null,
          73050.00305,
          177119.9951,
          112470.0012,
          null
         ],
         "zmax": 10707219.73,
         "zmin": 210
        },
        {
         "colorbar": {
          "title": {
           "text": "CO2 Emissions (kt) by Country"
          }
         },
         "colorscale": [
          [
           0,
           "rgb(0,0,0)"
          ],
          [
           0.2,
           "rgb(30,0,100)"
          ],
          [
           0.4,
           "rgb(120,0,100)"
          ],
          [
           0.6,
           "rgb(160,90,0)"
          ],
          [
           0.8,
           "rgb(230,200,0)"
          ],
          [
           1,
           "rgb(255,250,220)"
          ]
         ],
         "locationmode": "country names",
         "locations": [
          "Afghanistan",
          "Armenia",
          "Azerbaijan",
          "Bahrain",
          "Bangladesh",
          "Bhutan",
          "Cambodia",
          "China",
          "Cyprus",
          "Georgia",
          "India",
          "Indonesia",
          "Iraq",
          "Israel",
          "Japan",
          "Jordan",
          "Kazakhstan",
          "Kuwait",
          "Kyrgyzstan",
          "Lebanon",
          "Malaysia",
          "Maldives",
          "Mongolia",
          "Myanmar",
          "Nepal",
          "Oman",
          "Pakistan",
          "Philippines",
          "Qatar",
          "Saudi Arabia",
          "Singapore",
          "Sri Lanka",
          "Tajikistan",
          "Thailand",
          "Turkey",
          "Turkmenistan",
          "United Arab Emirates",
          "Uzbekistan",
          "Yemen"
         ],
         "type": "choropleth",
         "visible": false,
         "z": [
          6079.999924,
          6170.000076,
          35509.99832,
          33259.99832,
          90739.99786,
          1049.999952,
          16180.00031,
          10707219.73,
          7190.000057,
          10109.99966,
          2456300.049,
          619840.0269,
          174559.9976,
          62650.00153,
          1081569.946,
          24629.99916,
          212110.0006,
          92650.00153,
          null,
          27950.00076,
          253270.0043,
          2109.999895,
          23069.99969,
          36720.00122,
          13449.99981,
          76029.99878,
          190570.0073,
          145419.9982,
          91970.00122,
          523780.0293,
          47380.00107,
          23780.00069,
          9420.000076,
          267089.9963,
          null,
          72870.00275,
          188860.0006,
          116709.9991,
          null
         ],
         "zmax": 10707219.73,
         "zmin": 210
        }
       ],
       "layout": {
        "font": {
         "family": "Arial",
         "size": 12
        },
        "geo": {
         "projection": {
          "type": "equirectangular"
         },
         "scope": "asia",
         "showcoastlines": false,
         "showframe": true
        },
        "height": 500,
        "margin": {
         "b": 50,
         "l": 50,
         "r": 50,
         "t": 80
        },
        "sliders": [
         {
          "active": 0,
          "currentvalue": {
           "font": {
            "size": 14
           },
           "prefix": "Year: "
          },
          "steps": [
           {
            "args": [
             {
              "visible": [
               true,
               false,
               false,
               false,
               false,
               false,
               false,
               false,
               false,
               false,
               false,
               false,
               false,
               false,
               false,
               false,
               false,
               false,
               false,
               false
              ]
             },
             {
              "frame": {
               "duration": 1000,
               "redraw": true
              },
              "title_text": "CO2 Emissions (kt) by Country Map - 2000"
             }
            ],
            "label": "2000",
            "method": "update"
           },
           {
            "args": [
             {
              "visible": [
               false,
               true,
               false,
               false,
               false,
               false,
               false,
               false,
               false,
               false,
               false,
               false,
               false,
               false,
               false,
               false,
               false,
               false,
               false,
               false
              ]
             },
             {
              "frame": {
               "duration": 1000,
               "redraw": true
              },
              "title_text": "CO2 Emissions (kt) by Country Map - 2001"
             }
            ],
            "label": "2001",
            "method": "update"
           },
           {
            "args": [
             {
              "visible": [
               false,
               false,
               true,
               false,
               false,
               false,
               false,
               false,
               false,
               false,
               false,
               false,
               false,
               false,
               false,
               false,
               false,
               false,
               false,
               false
              ]
             },
             {
              "frame": {
               "duration": 1000,
               "redraw": true
              },
              "title_text": "CO2 Emissions (kt) by Country Map - 2002"
             }
            ],
            "label": "2002",
            "method": "update"
           },
           {
            "args": [
             {
              "visible": [
               false,
               false,
               false,
               true,
               false,
               false,
               false,
               false,
               false,
               false,
               false,
               false,
               false,
               false,
               false,
               false,
               false,
               false,
               false,
               false
              ]
             },
             {
              "frame": {
               "duration": 1000,
               "redraw": true
              },
              "title_text": "CO2 Emissions (kt) by Country Map - 2003"
             }
            ],
            "label": "2003",
            "method": "update"
           },
           {
            "args": [
             {
              "visible": [
               false,
               false,
               false,
               false,
               true,
               false,
               false,
               false,
               false,
               false,
               false,
               false,
               false,
               false,
               false,
               false,
               false,
               false,
               false,
               false
              ]
             },
             {
              "frame": {
               "duration": 1000,
               "redraw": true
              },
              "title_text": "CO2 Emissions (kt) by Country Map - 2004"
             }
            ],
            "label": "2004",
            "method": "update"
           },
           {
            "args": [
             {
              "visible": [
               false,
               false,
               false,
               false,
               false,
               true,
               false,
               false,
               false,
               false,
               false,
               false,
               false,
               false,
               false,
               false,
               false,
               false,
               false,
               false
              ]
             },
             {
              "frame": {
               "duration": 1000,
               "redraw": true
              },
              "title_text": "CO2 Emissions (kt) by Country Map - 2005"
             }
            ],
            "label": "2005",
            "method": "update"
           },
           {
            "args": [
             {
              "visible": [
               false,
               false,
               false,
               false,
               false,
               false,
               true,
               false,
               false,
               false,
               false,
               false,
               false,
               false,
               false,
               false,
               false,
               false,
               false,
               false
              ]
             },
             {
              "frame": {
               "duration": 1000,
               "redraw": true
              },
              "title_text": "CO2 Emissions (kt) by Country Map - 2006"
             }
            ],
            "label": "2006",
            "method": "update"
           },
           {
            "args": [
             {
              "visible": [
               false,
               false,
               false,
               false,
               false,
               false,
               false,
               true,
               false,
               false,
               false,
               false,
               false,
               false,
               false,
               false,
               false,
               false,
               false,
               false
              ]
             },
             {
              "frame": {
               "duration": 1000,
               "redraw": true
              },
              "title_text": "CO2 Emissions (kt) by Country Map - 2007"
             }
            ],
            "label": "2007",
            "method": "update"
           },
           {
            "args": [
             {
              "visible": [
               false,
               false,
               false,
               false,
               false,
               false,
               false,
               false,
               true,
               false,
               false,
               false,
               false,
               false,
               false,
               false,
               false,
               false,
               false,
               false
              ]
             },
             {
              "frame": {
               "duration": 1000,
               "redraw": true
              },
              "title_text": "CO2 Emissions (kt) by Country Map - 2008"
             }
            ],
            "label": "2008",
            "method": "update"
           },
           {
            "args": [
             {
              "visible": [
               false,
               false,
               false,
               false,
               false,
               false,
               false,
               false,
               false,
               true,
               false,
               false,
               false,
               false,
               false,
               false,
               false,
               false,
               false,
               false
              ]
             },
             {
              "frame": {
               "duration": 1000,
               "redraw": true
              },
              "title_text": "CO2 Emissions (kt) by Country Map - 2009"
             }
            ],
            "label": "2009",
            "method": "update"
           },
           {
            "args": [
             {
              "visible": [
               false,
               false,
               false,
               false,
               false,
               false,
               false,
               false,
               false,
               false,
               true,
               false,
               false,
               false,
               false,
               false,
               false,
               false,
               false,
               false
              ]
             },
             {
              "frame": {
               "duration": 1000,
               "redraw": true
              },
              "title_text": "CO2 Emissions (kt) by Country Map - 2010"
             }
            ],
            "label": "2010",
            "method": "update"
           },
           {
            "args": [
             {
              "visible": [
               false,
               false,
               false,
               false,
               false,
               false,
               false,
               false,
               false,
               false,
               false,
               true,
               false,
               false,
               false,
               false,
               false,
               false,
               false,
               false
              ]
             },
             {
              "frame": {
               "duration": 1000,
               "redraw": true
              },
              "title_text": "CO2 Emissions (kt) by Country Map - 2011"
             }
            ],
            "label": "2011",
            "method": "update"
           },
           {
            "args": [
             {
              "visible": [
               false,
               false,
               false,
               false,
               false,
               false,
               false,
               false,
               false,
               false,
               false,
               false,
               true,
               false,
               false,
               false,
               false,
               false,
               false,
               false
              ]
             },
             {
              "frame": {
               "duration": 1000,
               "redraw": true
              },
              "title_text": "CO2 Emissions (kt) by Country Map - 2012"
             }
            ],
            "label": "2012",
            "method": "update"
           },
           {
            "args": [
             {
              "visible": [
               false,
               false,
               false,
               false,
               false,
               false,
               false,
               false,
               false,
               false,
               false,
               false,
               false,
               true,
               false,
               false,
               false,
               false,
               false,
               false
              ]
             },
             {
              "frame": {
               "duration": 1000,
               "redraw": true
              },
              "title_text": "CO2 Emissions (kt) by Country Map - 2013"
             }
            ],
            "label": "2013",
            "method": "update"
           },
           {
            "args": [
             {
              "visible": [
               false,
               false,
               false,
               false,
               false,
               false,
               false,
               false,
               false,
               false,
               false,
               false,
               false,
               false,
               true,
               false,
               false,
               false,
               false,
               false
              ]
             },
             {
              "frame": {
               "duration": 1000,
               "redraw": true
              },
              "title_text": "CO2 Emissions (kt) by Country Map - 2014"
             }
            ],
            "label": "2014",
            "method": "update"
           },
           {
            "args": [
             {
              "visible": [
               false,
               false,
               false,
               false,
               false,
               false,
               false,
               false,
               false,
               false,
               false,
               false,
               false,
               false,
               false,
               true,
               false,
               false,
               false,
               false
              ]
             },
             {
              "frame": {
               "duration": 1000,
               "redraw": true
              },
              "title_text": "CO2 Emissions (kt) by Country Map - 2015"
             }
            ],
            "label": "2015",
            "method": "update"
           },
           {
            "args": [
             {
              "visible": [
               false,
               false,
               false,
               false,
               false,
               false,
               false,
               false,
               false,
               false,
               false,
               false,
               false,
               false,
               false,
               false,
               true,
               false,
               false,
               false
              ]
             },
             {
              "frame": {
               "duration": 1000,
               "redraw": true
              },
              "title_text": "CO2 Emissions (kt) by Country Map - 2016"
             }
            ],
            "label": "2016",
            "method": "update"
           },
           {
            "args": [
             {
              "visible": [
               false,
               false,
               false,
               false,
               false,
               false,
               false,
               false,
               false,
               false,
               false,
               false,
               false,
               false,
               false,
               false,
               false,
               true,
               false,
               false
              ]
             },
             {
              "frame": {
               "duration": 1000,
               "redraw": true
              },
              "title_text": "CO2 Emissions (kt) by Country Map - 2017"
             }
            ],
            "label": "2017",
            "method": "update"
           },
           {
            "args": [
             {
              "visible": [
               false,
               false,
               false,
               false,
               false,
               false,
               false,
               false,
               false,
               false,
               false,
               false,
               false,
               false,
               false,
               false,
               false,
               false,
               true,
               false
              ]
             },
             {
              "frame": {
               "duration": 1000,
               "redraw": true
              },
              "title_text": "CO2 Emissions (kt) by Country Map - 2018"
             }
            ],
            "label": "2018",
            "method": "update"
           },
           {
            "args": [
             {
              "visible": [
               false,
               false,
               false,
               false,
               false,
               false,
               false,
               false,
               false,
               false,
               false,
               false,
               false,
               false,
               false,
               false,
               false,
               false,
               false,
               true
              ]
             },
             {
              "frame": {
               "duration": 1000,
               "redraw": true
              },
              "title_text": "CO2 Emissions (kt) by Country Map - 2019"
             }
            ],
            "label": "2019",
            "method": "update"
           }
          ]
         }
        ],
        "template": {
         "data": {
          "bar": [
           {
            "error_x": {
             "color": "#2a3f5f"
            },
            "error_y": {
             "color": "#2a3f5f"
            },
            "marker": {
             "line": {
              "color": "white",
              "width": 0.5
             },
             "pattern": {
              "fillmode": "overlay",
              "size": 10,
              "solidity": 0.2
             }
            },
            "type": "bar"
           }
          ],
          "barpolar": [
           {
            "marker": {
             "line": {
              "color": "white",
              "width": 0.5
             },
             "pattern": {
              "fillmode": "overlay",
              "size": 10,
              "solidity": 0.2
             }
            },
            "type": "barpolar"
           }
          ],
          "carpet": [
           {
            "aaxis": {
             "endlinecolor": "#2a3f5f",
             "gridcolor": "#C8D4E3",
             "linecolor": "#C8D4E3",
             "minorgridcolor": "#C8D4E3",
             "startlinecolor": "#2a3f5f"
            },
            "baxis": {
             "endlinecolor": "#2a3f5f",
             "gridcolor": "#C8D4E3",
             "linecolor": "#C8D4E3",
             "minorgridcolor": "#C8D4E3",
             "startlinecolor": "#2a3f5f"
            },
            "type": "carpet"
           }
          ],
          "choropleth": [
           {
            "colorbar": {
             "outlinewidth": 0,
             "ticks": ""
            },
            "type": "choropleth"
           }
          ],
          "contour": [
           {
            "colorbar": {
             "outlinewidth": 0,
             "ticks": ""
            },
            "colorscale": [
             [
              0,
              "#0d0887"
             ],
             [
              0.1111111111111111,
              "#46039f"
             ],
             [
              0.2222222222222222,
              "#7201a8"
             ],
             [
              0.3333333333333333,
              "#9c179e"
             ],
             [
              0.4444444444444444,
              "#bd3786"
             ],
             [
              0.5555555555555556,
              "#d8576b"
             ],
             [
              0.6666666666666666,
              "#ed7953"
             ],
             [
              0.7777777777777778,
              "#fb9f3a"
             ],
             [
              0.8888888888888888,
              "#fdca26"
             ],
             [
              1,
              "#f0f921"
             ]
            ],
            "type": "contour"
           }
          ],
          "contourcarpet": [
           {
            "colorbar": {
             "outlinewidth": 0,
             "ticks": ""
            },
            "type": "contourcarpet"
           }
          ],
          "heatmap": [
           {
            "colorbar": {
             "outlinewidth": 0,
             "ticks": ""
            },
            "colorscale": [
             [
              0,
              "#0d0887"
             ],
             [
              0.1111111111111111,
              "#46039f"
             ],
             [
              0.2222222222222222,
              "#7201a8"
             ],
             [
              0.3333333333333333,
              "#9c179e"
             ],
             [
              0.4444444444444444,
              "#bd3786"
             ],
             [
              0.5555555555555556,
              "#d8576b"
             ],
             [
              0.6666666666666666,
              "#ed7953"
             ],
             [
              0.7777777777777778,
              "#fb9f3a"
             ],
             [
              0.8888888888888888,
              "#fdca26"
             ],
             [
              1,
              "#f0f921"
             ]
            ],
            "type": "heatmap"
           }
          ],
          "heatmapgl": [
           {
            "colorbar": {
             "outlinewidth": 0,
             "ticks": ""
            },
            "colorscale": [
             [
              0,
              "#0d0887"
             ],
             [
              0.1111111111111111,
              "#46039f"
             ],
             [
              0.2222222222222222,
              "#7201a8"
             ],
             [
              0.3333333333333333,
              "#9c179e"
             ],
             [
              0.4444444444444444,
              "#bd3786"
             ],
             [
              0.5555555555555556,
              "#d8576b"
             ],
             [
              0.6666666666666666,
              "#ed7953"
             ],
             [
              0.7777777777777778,
              "#fb9f3a"
             ],
             [
              0.8888888888888888,
              "#fdca26"
             ],
             [
              1,
              "#f0f921"
             ]
            ],
            "type": "heatmapgl"
           }
          ],
          "histogram": [
           {
            "marker": {
             "pattern": {
              "fillmode": "overlay",
              "size": 10,
              "solidity": 0.2
             }
            },
            "type": "histogram"
           }
          ],
          "histogram2d": [
           {
            "colorbar": {
             "outlinewidth": 0,
             "ticks": ""
            },
            "colorscale": [
             [
              0,
              "#0d0887"
             ],
             [
              0.1111111111111111,
              "#46039f"
             ],
             [
              0.2222222222222222,
              "#7201a8"
             ],
             [
              0.3333333333333333,
              "#9c179e"
             ],
             [
              0.4444444444444444,
              "#bd3786"
             ],
             [
              0.5555555555555556,
              "#d8576b"
             ],
             [
              0.6666666666666666,
              "#ed7953"
             ],
             [
              0.7777777777777778,
              "#fb9f3a"
             ],
             [
              0.8888888888888888,
              "#fdca26"
             ],
             [
              1,
              "#f0f921"
             ]
            ],
            "type": "histogram2d"
           }
          ],
          "histogram2dcontour": [
           {
            "colorbar": {
             "outlinewidth": 0,
             "ticks": ""
            },
            "colorscale": [
             [
              0,
              "#0d0887"
             ],
             [
              0.1111111111111111,
              "#46039f"
             ],
             [
              0.2222222222222222,
              "#7201a8"
             ],
             [
              0.3333333333333333,
              "#9c179e"
             ],
             [
              0.4444444444444444,
              "#bd3786"
             ],
             [
              0.5555555555555556,
              "#d8576b"
             ],
             [
              0.6666666666666666,
              "#ed7953"
             ],
             [
              0.7777777777777778,
              "#fb9f3a"
             ],
             [
              0.8888888888888888,
              "#fdca26"
             ],
             [
              1,
              "#f0f921"
             ]
            ],
            "type": "histogram2dcontour"
           }
          ],
          "mesh3d": [
           {
            "colorbar": {
             "outlinewidth": 0,
             "ticks": ""
            },
            "type": "mesh3d"
           }
          ],
          "parcoords": [
           {
            "line": {
             "colorbar": {
              "outlinewidth": 0,
              "ticks": ""
             }
            },
            "type": "parcoords"
           }
          ],
          "pie": [
           {
            "automargin": true,
            "type": "pie"
           }
          ],
          "scatter": [
           {
            "fillpattern": {
             "fillmode": "overlay",
             "size": 10,
             "solidity": 0.2
            },
            "type": "scatter"
           }
          ],
          "scatter3d": [
           {
            "line": {
             "colorbar": {
              "outlinewidth": 0,
              "ticks": ""
             }
            },
            "marker": {
             "colorbar": {
              "outlinewidth": 0,
              "ticks": ""
             }
            },
            "type": "scatter3d"
           }
          ],
          "scattercarpet": [
           {
            "marker": {
             "colorbar": {
              "outlinewidth": 0,
              "ticks": ""
             }
            },
            "type": "scattercarpet"
           }
          ],
          "scattergeo": [
           {
            "marker": {
             "colorbar": {
              "outlinewidth": 0,
              "ticks": ""
             }
            },
            "type": "scattergeo"
           }
          ],
          "scattergl": [
           {
            "marker": {
             "colorbar": {
              "outlinewidth": 0,
              "ticks": ""
             }
            },
            "type": "scattergl"
           }
          ],
          "scattermapbox": [
           {
            "marker": {
             "colorbar": {
              "outlinewidth": 0,
              "ticks": ""
             }
            },
            "type": "scattermapbox"
           }
          ],
          "scatterpolar": [
           {
            "marker": {
             "colorbar": {
              "outlinewidth": 0,
              "ticks": ""
             }
            },
            "type": "scatterpolar"
           }
          ],
          "scatterpolargl": [
           {
            "marker": {
             "colorbar": {
              "outlinewidth": 0,
              "ticks": ""
             }
            },
            "type": "scatterpolargl"
           }
          ],
          "scatterternary": [
           {
            "marker": {
             "colorbar": {
              "outlinewidth": 0,
              "ticks": ""
             }
            },
            "type": "scatterternary"
           }
          ],
          "surface": [
           {
            "colorbar": {
             "outlinewidth": 0,
             "ticks": ""
            },
            "colorscale": [
             [
              0,
              "#0d0887"
             ],
             [
              0.1111111111111111,
              "#46039f"
             ],
             [
              0.2222222222222222,
              "#7201a8"
             ],
             [
              0.3333333333333333,
              "#9c179e"
             ],
             [
              0.4444444444444444,
              "#bd3786"
             ],
             [
              0.5555555555555556,
              "#d8576b"
             ],
             [
              0.6666666666666666,
              "#ed7953"
             ],
             [
              0.7777777777777778,
              "#fb9f3a"
             ],
             [
              0.8888888888888888,
              "#fdca26"
             ],
             [
              1,
              "#f0f921"
             ]
            ],
            "type": "surface"
           }
          ],
          "table": [
           {
            "cells": {
             "fill": {
              "color": "#EBF0F8"
             },
             "line": {
              "color": "white"
             }
            },
            "header": {
             "fill": {
              "color": "#C8D4E3"
             },
             "line": {
              "color": "white"
             }
            },
            "type": "table"
           }
          ]
         },
         "layout": {
          "annotationdefaults": {
           "arrowcolor": "#2a3f5f",
           "arrowhead": 0,
           "arrowwidth": 1
          },
          "autotypenumbers": "strict",
          "coloraxis": {
           "colorbar": {
            "outlinewidth": 0,
            "ticks": ""
           }
          },
          "colorscale": {
           "diverging": [
            [
             0,
             "#8e0152"
            ],
            [
             0.1,
             "#c51b7d"
            ],
            [
             0.2,
             "#de77ae"
            ],
            [
             0.3,
             "#f1b6da"
            ],
            [
             0.4,
             "#fde0ef"
            ],
            [
             0.5,
             "#f7f7f7"
            ],
            [
             0.6,
             "#e6f5d0"
            ],
            [
             0.7,
             "#b8e186"
            ],
            [
             0.8,
             "#7fbc41"
            ],
            [
             0.9,
             "#4d9221"
            ],
            [
             1,
             "#276419"
            ]
           ],
           "sequential": [
            [
             0,
             "#0d0887"
            ],
            [
             0.1111111111111111,
             "#46039f"
            ],
            [
             0.2222222222222222,
             "#7201a8"
            ],
            [
             0.3333333333333333,
             "#9c179e"
            ],
            [
             0.4444444444444444,
             "#bd3786"
            ],
            [
             0.5555555555555556,
             "#d8576b"
            ],
            [
             0.6666666666666666,
             "#ed7953"
            ],
            [
             0.7777777777777778,
             "#fb9f3a"
            ],
            [
             0.8888888888888888,
             "#fdca26"
            ],
            [
             1,
             "#f0f921"
            ]
           ],
           "sequentialminus": [
            [
             0,
             "#0d0887"
            ],
            [
             0.1111111111111111,
             "#46039f"
            ],
            [
             0.2222222222222222,
             "#7201a8"
            ],
            [
             0.3333333333333333,
             "#9c179e"
            ],
            [
             0.4444444444444444,
             "#bd3786"
            ],
            [
             0.5555555555555556,
             "#d8576b"
            ],
            [
             0.6666666666666666,
             "#ed7953"
            ],
            [
             0.7777777777777778,
             "#fb9f3a"
            ],
            [
             0.8888888888888888,
             "#fdca26"
            ],
            [
             1,
             "#f0f921"
            ]
           ]
          },
          "colorway": [
           "#636efa",
           "#EF553B",
           "#00cc96",
           "#ab63fa",
           "#FFA15A",
           "#19d3f3",
           "#FF6692",
           "#B6E880",
           "#FF97FF",
           "#FECB52"
          ],
          "font": {
           "color": "#2a3f5f"
          },
          "geo": {
           "bgcolor": "white",
           "lakecolor": "white",
           "landcolor": "white",
           "showlakes": true,
           "showland": true,
           "subunitcolor": "#C8D4E3"
          },
          "hoverlabel": {
           "align": "left"
          },
          "hovermode": "closest",
          "mapbox": {
           "style": "light"
          },
          "paper_bgcolor": "white",
          "plot_bgcolor": "white",
          "polar": {
           "angularaxis": {
            "gridcolor": "#EBF0F8",
            "linecolor": "#EBF0F8",
            "ticks": ""
           },
           "bgcolor": "white",
           "radialaxis": {
            "gridcolor": "#EBF0F8",
            "linecolor": "#EBF0F8",
            "ticks": ""
           }
          },
          "scene": {
           "xaxis": {
            "backgroundcolor": "white",
            "gridcolor": "#DFE8F3",
            "gridwidth": 2,
            "linecolor": "#EBF0F8",
            "showbackground": true,
            "ticks": "",
            "zerolinecolor": "#EBF0F8"
           },
           "yaxis": {
            "backgroundcolor": "white",
            "gridcolor": "#DFE8F3",
            "gridwidth": 2,
            "linecolor": "#EBF0F8",
            "showbackground": true,
            "ticks": "",
            "zerolinecolor": "#EBF0F8"
           },
           "zaxis": {
            "backgroundcolor": "white",
            "gridcolor": "#DFE8F3",
            "gridwidth": 2,
            "linecolor": "#EBF0F8",
            "showbackground": true,
            "ticks": "",
            "zerolinecolor": "#EBF0F8"
           }
          },
          "shapedefaults": {
           "line": {
            "color": "#2a3f5f"
           }
          },
          "ternary": {
           "aaxis": {
            "gridcolor": "#DFE8F3",
            "linecolor": "#A2B1C6",
            "ticks": ""
           },
           "baxis": {
            "gridcolor": "#DFE8F3",
            "linecolor": "#A2B1C6",
            "ticks": ""
           },
           "bgcolor": "white",
           "caxis": {
            "gridcolor": "#DFE8F3",
            "linecolor": "#A2B1C6",
            "ticks": ""
           }
          },
          "title": {
           "x": 0.05
          },
          "xaxis": {
           "automargin": true,
           "gridcolor": "#EBF0F8",
           "linecolor": "#EBF0F8",
           "ticks": "",
           "title": {
            "standoff": 15
           },
           "zerolinecolor": "#EBF0F8",
           "zerolinewidth": 2
          },
          "yaxis": {
           "automargin": true,
           "gridcolor": "#EBF0F8",
           "linecolor": "#EBF0F8",
           "ticks": "",
           "title": {
            "standoff": 15
           },
           "zerolinecolor": "#EBF0F8",
           "zerolinewidth": 2
          }
         }
        },
        "title": {
         "font": {
          "size": 24
         },
         "text": "CO2 Emissions (kt) by Country",
         "x": 0.5
        },
        "width": 1000
       }
      }
     },
     "metadata": {},
     "output_type": "display_data"
    }
   ],
   "source": [
    "# Function to plot features on world map\n",
    "fig = go.Figure()\n",
    "column_name = 'CO2 Emissions (kt) by Country'\n",
    "for year in range(2000, 2020):\n",
    "    # Filter the data for the current year\n",
    "    filtered_data = data_asia[data_asia['Year'] == year]\n",
    "\n",
    "    # Create a choropleth trace for the current year\n",
    "    trace = go.Choropleth(\n",
    "        locations=filtered_data['Entity'],\n",
    "        z=filtered_data[column_name],\n",
    "        locationmode='country names',\n",
    "        colorscale='Electric',  # Use a different color scale for better contrast\n",
    "        colorbar=dict(title=column_name),\n",
    "        zmin=data_asia[column_name].min(),\n",
    "        zmax=data_asia[column_name].max(),\n",
    "        visible=False,  # Set the trace to invisible initially\n",
    "    )\n",
    "\n",
    "    # Add the trace to the figure\n",
    "    fig.add_trace(trace)\n",
    "\n",
    "# Set the first trace to visible\n",
    "fig.data[0].visible = True\n",
    "\n",
    "# Create animation steps\n",
    "steps = []\n",
    "for i in range(len(fig.data)):\n",
    "    step = dict(\n",
    "        method='update',\n",
    "        args=[{'visible': [False] * len(fig.data)},  # Set all traces to invisible\n",
    "                {'title_text': f'{column_name} Map - {2000 + i}', 'frame': {'duration': 1000, 'redraw': True}}],\n",
    "        label=str(2000 + i)  # Set the label for each step\n",
    "    )\n",
    "    step['args'][0]['visible'][i] = True  # Set the current trace to visible\n",
    "    steps.append(step)\n",
    "\n",
    "# Create the slider\n",
    "sliders = [dict(\n",
    "    active=0,\n",
    "    steps=steps,\n",
    "    currentvalue={\"prefix\": \"Year: \", \"font\": {\"size\": 14}},  # Increase font size for slider label\n",
    ")]\n",
    "\n",
    "# Update the layout of the figure with increased size and change the template\n",
    "fig.update_layout(\n",
    "    title_text=f'{column_name}',  # Set the initial title\n",
    "    title_font_size=24,  # Increase title font size\n",
    "    title_x=0.5,  # Center the title\n",
    "    geo=dict(\n",
    "        scope=\"asia\",\n",
    "        showframe=True,\n",
    "        showcoastlines=False,\n",
    "        projection_type='equirectangular'\n",
    "        \n",
    "    ),\n",
    "    sliders=sliders,\n",
    "    height=500,  # Set the height of the figure in pixels\n",
    "    width=1000,  # Set the width of the figure in pixels\n",
    "    font=dict(family='Arial', size=12),  # Customize font family and size for the whole figure\n",
    "    margin=dict(t=80, l=50, r=50, b=50),  # Add margin for better layout spacing\n",
    "    template = 'plotly_white',\n",
    ")\n",
    "\n",
    "# Show the figure\n",
    "fig.show()"
   ]
  },
  {
   "cell_type": "code",
   "execution_count": 52,
   "metadata": {},
   "outputs": [
    {
     "name": "stdout",
     "output_type": "stream",
     "text": [
      "Renewable energy share in the total final energy consumption (%)\n"
     ]
    },
    {
     "data": {
      "application/vnd.plotly.v1+json": {
       "config": {
        "plotlyServerURL": "https://plot.ly"
       },
       "data": [
        {
         "colorbar": {
          "title": {
           "text": "Renewable energy share in the total final energy consumption (%)"
          }
         },
         "colorscale": [
          [
           0,
           "rgb(0,0,0)"
          ],
          [
           0.2,
           "rgb(30,0,100)"
          ],
          [
           0.4,
           "rgb(120,0,100)"
          ],
          [
           0.6,
           "rgb(160,90,0)"
          ],
          [
           0.8,
           "rgb(230,200,0)"
          ],
          [
           1,
           "rgb(255,250,220)"
          ]
         ],
         "locationmode": "country names",
         "locations": [
          "Afghanistan",
          "Armenia",
          "Azerbaijan",
          "Bahrain",
          "Bangladesh",
          "Bhutan",
          "Cambodia",
          "China",
          "Cyprus",
          "Georgia",
          "India",
          "Indonesia",
          "Iraq",
          "Israel",
          "Japan",
          "Jordan",
          "Kazakhstan",
          "Kuwait",
          "Kyrgyzstan",
          "Lebanon",
          "Malaysia",
          "Maldives",
          "Mongolia",
          "Myanmar",
          "Nepal",
          "Oman",
          "Pakistan",
          "Philippines",
          "Qatar",
          "Saudi Arabia",
          "Singapore",
          "Sri Lanka",
          "Tajikistan",
          "Thailand",
          "Turkey",
          "Turkmenistan",
          "United Arab Emirates",
          "Uzbekistan",
          "Yemen"
         ],
         "type": "choropleth",
         "visible": true,
         "z": [
          44.99,
          7.16,
          2.07,
          0,
          59.06,
          91.4,
          81.58,
          29.63,
          3.08,
          47.25,
          46.88,
          45.62,
          0.36,
          5.96,
          3.7,
          2.09,
          2.5,
          0,
          35.16,
          4.89,
          4.44,
          2.34,
          5.73,
          80.17,
          88.29,
          0,
          51.05,
          33.42,
          0.08,
          0.01,
          0.33,
          64.16,
          62.41,
          21.82,
          17.29,
          0.09,
          0.08,
          0.72,
          0.95
         ],
         "zmax": 93.46,
         "zmin": 0
        },
        {
         "colorbar": {
          "title": {
           "text": "Renewable energy share in the total final energy consumption (%)"
          }
         },
         "colorscale": [
          [
           0,
           "rgb(0,0,0)"
          ],
          [
           0.2,
           "rgb(30,0,100)"
          ],
          [
           0.4,
           "rgb(120,0,100)"
          ],
          [
           0.6,
           "rgb(160,90,0)"
          ],
          [
           0.8,
           "rgb(230,200,0)"
          ],
          [
           1,
           "rgb(255,250,220)"
          ]
         ],
         "locationmode": "country names",
         "locations": [
          "Afghanistan",
          "Armenia",
          "Azerbaijan",
          "Bahrain",
          "Bangladesh",
          "Bhutan",
          "Cambodia",
          "China",
          "Cyprus",
          "Georgia",
          "India",
          "Indonesia",
          "Iraq",
          "Israel",
          "Japan",
          "Jordan",
          "Kazakhstan",
          "Kuwait",
          "Kyrgyzstan",
          "Lebanon",
          "Malaysia",
          "Maldives",
          "Mongolia",
          "Myanmar",
          "Nepal",
          "Oman",
          "Pakistan",
          "Philippines",
          "Qatar",
          "Saudi Arabia",
          "Singapore",
          "Sri Lanka",
          "Tajikistan",
          "Thailand",
          "Turkey",
          "Turkmenistan",
          "United Arab Emirates",
          "Uzbekistan",
          "Yemen"
         ],
         "type": "choropleth",
         "visible": false,
         "z": [
          45.6,
          5.42,
          1.75,
          0,
          55.82,
          91.75,
          80.51,
          28.36,
          3.03,
          53.15,
          47.11,
          44.33,
          0.35,
          6.3,
          3.5,
          2.12,
          2.41,
          0,
          36,
          4.66,
          4.26,
          2.26,
          6.09,
          82.48,
          87.76,
          0,
          51.54,
          32.12,
          0.14,
          0.01,
          0.6,
          62.93,
          64.07,
          19.89,
          18.12,
          0.09,
          0.06,
          0.78,
          0.89
         ],
         "zmax": 93.46,
         "zmin": 0
        },
        {
         "colorbar": {
          "title": {
           "text": "Renewable energy share in the total final energy consumption (%)"
          }
         },
         "colorscale": [
          [
           0,
           "rgb(0,0,0)"
          ],
          [
           0.2,
           "rgb(30,0,100)"
          ],
          [
           0.4,
           "rgb(120,0,100)"
          ],
          [
           0.6,
           "rgb(160,90,0)"
          ],
          [
           0.8,
           "rgb(230,200,0)"
          ],
          [
           1,
           "rgb(255,250,220)"
          ]
         ],
         "locationmode": "country names",
         "locations": [
          "Afghanistan",
          "Armenia",
          "Azerbaijan",
          "Bahrain",
          "Bangladesh",
          "Bhutan",
          "Cambodia",
          "China",
          "Cyprus",
          "Georgia",
          "India",
          "Indonesia",
          "Iraq",
          "Israel",
          "Japan",
          "Jordan",
          "Kazakhstan",
          "Kuwait",
          "Kyrgyzstan",
          "Lebanon",
          "Malaysia",
          "Maldives",
          "Mongolia",
          "Myanmar",
          "Nepal",
          "Oman",
          "Pakistan",
          "Philippines",
          "Qatar",
          "Saudi Arabia",
          "Singapore",
          "Sri Lanka",
          "Tajikistan",
          "Thailand",
          "Turkey",
          "Turkmenistan",
          "United Arab Emirates",
          "Uzbekistan",
          "Yemen"
         ],
         "type": "choropleth",
         "visible": false,
         "z": [
          37.83,
          8.9,
          2.35,
          0,
          54.33,
          91.2,
          80.97,
          27,
          3.16,
          56.76,
          45.75,
          44.66,
          0.31,
          6.5,
          3.71,
          2.09,
          2.77,
          0,
          28.3,
          5.97,
          3.57,
          1.78,
          6.51,
          83.12,
          89.95,
          0,
          51.39,
          31.42,
          0.07,
          0.01,
          0.58,
          62.1,
          64.15,
          19.91,
          17.49,
          0.09,
          0.07,
          1.02,
          0.9
         ],
         "zmax": 93.46,
         "zmin": 0
        },
        {
         "colorbar": {
          "title": {
           "text": "Renewable energy share in the total final energy consumption (%)"
          }
         },
         "colorscale": [
          [
           0,
           "rgb(0,0,0)"
          ],
          [
           0.2,
           "rgb(30,0,100)"
          ],
          [
           0.4,
           "rgb(120,0,100)"
          ],
          [
           0.6,
           "rgb(160,90,0)"
          ],
          [
           0.8,
           "rgb(230,200,0)"
          ],
          [
           1,
           "rgb(255,250,220)"
          ]
         ],
         "locationmode": "country names",
         "locations": [
          "Afghanistan",
          "Armenia",
          "Azerbaijan",
          "Bahrain",
          "Bangladesh",
          "Bhutan",
          "Cambodia",
          "China",
          "Cyprus",
          "Georgia",
          "India",
          "Indonesia",
          "Iraq",
          "Israel",
          "Japan",
          "Jordan",
          "Kazakhstan",
          "Kuwait",
          "Kyrgyzstan",
          "Lebanon",
          "Malaysia",
          "Maldives",
          "Mongolia",
          "Myanmar",
          "Nepal",
          "Oman",
          "Pakistan",
          "Philippines",
          "Qatar",
          "Saudi Arabia",
          "Singapore",
          "Sri Lanka",
          "Tajikistan",
          "Thailand",
          "Turkey",
          "Turkmenistan",
          "United Arab Emirates",
          "Uzbekistan",
          "Yemen"
         ],
         "type": "choropleth",
         "visible": false,
         "z": [
          36.66,
          9.81,
          2.94,
          0,
          52.62,
          91.92,
          79.92,
          23.86,
          3.24,
          55.33,
          45.63,
          43,
          0.35,
          6.52,
          4.19,
          1.98,
          2.28,
          0,
          30.51,
          7.38,
          3.33,
          2.22,
          6.09,
          79.86,
          89.44,
          0,
          50.09,
          30.67,
          0.05,
          0.01,
          0.58,
          61.31,
          64.58,
          20.21,
          16.29,
          0.08,
          0.07,
          1.42,
          0.78
         ],
         "zmax": 93.46,
         "zmin": 0
        },
        {
         "colorbar": {
          "title": {
           "text": "Renewable energy share in the total final energy consumption (%)"
          }
         },
         "colorscale": [
          [
           0,
           "rgb(0,0,0)"
          ],
          [
           0.2,
           "rgb(30,0,100)"
          ],
          [
           0.4,
           "rgb(120,0,100)"
          ],
          [
           0.6,
           "rgb(160,90,0)"
          ],
          [
           0.8,
           "rgb(230,200,0)"
          ],
          [
           1,
           "rgb(255,250,220)"
          ]
         ],
         "locationmode": "country names",
         "locations": [
          "Afghanistan",
          "Armenia",
          "Azerbaijan",
          "Bahrain",
          "Bangladesh",
          "Bhutan",
          "Cambodia",
          "China",
          "Cyprus",
          "Georgia",
          "India",
          "Indonesia",
          "Iraq",
          "Israel",
          "Japan",
          "Jordan",
          "Kazakhstan",
          "Kuwait",
          "Kyrgyzstan",
          "Lebanon",
          "Malaysia",
          "Maldives",
          "Mongolia",
          "Myanmar",
          "Nepal",
          "Oman",
          "Pakistan",
          "Philippines",
          "Qatar",
          "Saudi Arabia",
          "Singapore",
          "Sri Lanka",
          "Tajikistan",
          "Thailand",
          "Turkey",
          "Turkmenistan",
          "United Arab Emirates",
          "Uzbekistan",
          "Yemen"
         ],
         "type": "choropleth",
         "visible": false,
         "z": [
          44.24,
          8.71,
          3.07,
          0,
          52.05,
          93.46,
          80.69,
          20.17,
          3.29,
          54.53,
          44.92,
          41.46,
          0.36,
          6.73,
          4.26,
          1.83,
          1.89,
          0,
          27.71,
          6.56,
          3.22,
          1.67,
          5.76,
          80.47,
          90.3,
          0,
          47.93,
          29.96,
          0.03,
          0.01,
          0.53,
          61.61,
          61.41,
          19.89,
          16.78,
          0.07,
          0.1,
          1.05,
          0.75
         ],
         "zmax": 93.46,
         "zmin": 0
        },
        {
         "colorbar": {
          "title": {
           "text": "Renewable energy share in the total final energy consumption (%)"
          }
         },
         "colorscale": [
          [
           0,
           "rgb(0,0,0)"
          ],
          [
           0.2,
           "rgb(30,0,100)"
          ],
          [
           0.4,
           "rgb(120,0,100)"
          ],
          [
           0.6,
           "rgb(160,90,0)"
          ],
          [
           0.8,
           "rgb(230,200,0)"
          ],
          [
           1,
           "rgb(255,250,220)"
          ]
         ],
         "locationmode": "country names",
         "locations": [
          "Afghanistan",
          "Armenia",
          "Azerbaijan",
          "Bahrain",
          "Bangladesh",
          "Bhutan",
          "Cambodia",
          "China",
          "Cyprus",
          "Georgia",
          "India",
          "Indonesia",
          "Iraq",
          "Israel",
          "Japan",
          "Jordan",
          "Kazakhstan",
          "Kuwait",
          "Kyrgyzstan",
          "Lebanon",
          "Malaysia",
          "Maldives",
          "Mongolia",
          "Myanmar",
          "Nepal",
          "Oman",
          "Pakistan",
          "Philippines",
          "Qatar",
          "Saudi Arabia",
          "Singapore",
          "Sri Lanka",
          "Tajikistan",
          "Thailand",
          "Turkey",
          "Turkmenistan",
          "United Arab Emirates",
          "Uzbekistan",
          "Yemen"
         ],
         "type": "choropleth",
         "visible": false,
         "z": [
          33.88,
          6.49,
          3.36,
          0,
          50.66,
          91.67,
          79.24,
          17.44,
          3.34,
          41.48,
          44.16,
          41.57,
          2.43,
          7.03,
          4.02,
          1.69,
          2.09,
          0,
          28.03,
          6.97,
          3.01,
          1.95,
          5.34,
          79.82,
          89.52,
          0,
          47.96,
          31.17,
          0.03,
          0.01,
          0.54,
          60.08,
          63.73,
          20.11,
          15.34,
          0.07,
          0.11,
          1.62,
          0.74
         ],
         "zmax": 93.46,
         "zmin": 0
        },
        {
         "colorbar": {
          "title": {
           "text": "Renewable energy share in the total final energy consumption (%)"
          }
         },
         "colorscale": [
          [
           0,
           "rgb(0,0,0)"
          ],
          [
           0.2,
           "rgb(30,0,100)"
          ],
          [
           0.4,
           "rgb(120,0,100)"
          ],
          [
           0.6,
           "rgb(160,90,0)"
          ],
          [
           0.8,
           "rgb(230,200,0)"
          ],
          [
           1,
           "rgb(255,250,220)"
          ]
         ],
         "locationmode": "country names",
         "locations": [
          "Afghanistan",
          "Armenia",
          "Azerbaijan",
          "Bahrain",
          "Bangladesh",
          "Bhutan",
          "Cambodia",
          "China",
          "Cyprus",
          "Georgia",
          "India",
          "Indonesia",
          "Iraq",
          "Israel",
          "Japan",
          "Jordan",
          "Kazakhstan",
          "Kuwait",
          "Kyrgyzstan",
          "Lebanon",
          "Malaysia",
          "Maldives",
          "Mongolia",
          "Myanmar",
          "Nepal",
          "Oman",
          "Pakistan",
          "Philippines",
          "Qatar",
          "Saudi Arabia",
          "Singapore",
          "Sri Lanka",
          "Tajikistan",
          "Thailand",
          "Turkey",
          "Turkmenistan",
          "United Arab Emirates",
          "Uzbekistan",
          "Yemen"
         ],
         "type": "choropleth",
         "visible": false,
         "z": [
          31.89,
          7.65,
          2.86,
          0,
          48.69,
          91.92,
          78.01,
          16.39,
          3.5,
          37.22,
          43.16,
          40.07,
          2.56,
          6.86,
          4.43,
          2.28,
          2.13,
          0,
          27.76,
          7.04,
          3.13,
          1.59,
          4.48,
          81.46,
          91.25,
          0,
          47.04,
          33.24,
          0.1,
          0.01,
          0.52,
          62.18,
          61.57,
          20.53,
          14.23,
          0.08,
          0.12,
          0.85,
          0.76
         ],
         "zmax": 93.46,
         "zmin": 0
        },
        {
         "colorbar": {
          "title": {
           "text": "Renewable energy share in the total final energy consumption (%)"
          }
         },
         "colorscale": [
          [
           0,
           "rgb(0,0,0)"
          ],
          [
           0.2,
           "rgb(30,0,100)"
          ],
          [
           0.4,
           "rgb(120,0,100)"
          ],
          [
           0.6,
           "rgb(160,90,0)"
          ],
          [
           0.8,
           "rgb(230,200,0)"
          ],
          [
           1,
           "rgb(255,250,220)"
          ]
         ],
         "locationmode": "country names",
         "locations": [
          "Afghanistan",
          "Armenia",
          "Azerbaijan",
          "Bahrain",
          "Bangladesh",
          "Bhutan",
          "Cambodia",
          "China",
          "Cyprus",
          "Georgia",
          "India",
          "Indonesia",
          "Iraq",
          "Israel",
          "Japan",
          "Jordan",
          "Kazakhstan",
          "Kuwait",
          "Kyrgyzstan",
          "Lebanon",
          "Malaysia",
          "Maldives",
          "Mongolia",
          "Myanmar",
          "Nepal",
          "Oman",
          "Pakistan",
          "Philippines",
          "Qatar",
          "Saudi Arabia",
          "Singapore",
          "Sri Lanka",
          "Tajikistan",
          "Thailand",
          "Turkey",
          "Turkmenistan",
          "United Arab Emirates",
          "Uzbekistan",
          "Yemen"
         ],
         "type": "choropleth",
         "visible": false,
         "z": [
          28.78,
          7.02,
          3.78,
          0,
          47.19,
          92.07,
          74.79,
          14.88,
          4.33,
          36.22,
          41.53,
          40.01,
          2,
          6.72,
          4.29,
          2.32,
          1.83,
          0,
          24.49,
          7.94,
          2.85,
          1.52,
          4.7,
          80.7,
          91.31,
          0,
          44.85,
          32.57,
          0.07,
          0.01,
          0.5,
          60.2,
          53.79,
          21.61,
          12.48,
          0.07,
          0.11,
          0.9,
          0.76
         ],
         "zmax": 93.46,
         "zmin": 0
        },
        {
         "colorbar": {
          "title": {
           "text": "Renewable energy share in the total final energy consumption (%)"
          }
         },
         "colorscale": [
          [
           0,
           "rgb(0,0,0)"
          ],
          [
           0.2,
           "rgb(30,0,100)"
          ],
          [
           0.4,
           "rgb(120,0,100)"
          ],
          [
           0.6,
           "rgb(160,90,0)"
          ],
          [
           0.8,
           "rgb(230,200,0)"
          ],
          [
           1,
           "rgb(255,250,220)"
          ]
         ],
         "locationmode": "country names",
         "locations": [
          "Afghanistan",
          "Armenia",
          "Azerbaijan",
          "Bahrain",
          "Bangladesh",
          "Bhutan",
          "Cambodia",
          "China",
          "Cyprus",
          "Georgia",
          "India",
          "Indonesia",
          "Iraq",
          "Israel",
          "Japan",
          "Jordan",
          "Kazakhstan",
          "Kuwait",
          "Kyrgyzstan",
          "Lebanon",
          "Malaysia",
          "Maldives",
          "Mongolia",
          "Myanmar",
          "Nepal",
          "Oman",
          "Pakistan",
          "Philippines",
          "Qatar",
          "Saudi Arabia",
          "Singapore",
          "Sri Lanka",
          "Tajikistan",
          "Thailand",
          "Turkey",
          "Turkmenistan",
          "United Arab Emirates",
          "Uzbekistan",
          "Yemen"
         ],
         "type": "choropleth",
         "visible": false,
         "z": [
          21.17,
          6.4,
          3.08,
          0,
          45.2,
          91.81,
          74.13,
          14.14,
          5.47,
          36.3,
          39.37,
          41.12,
          1.15,
          8.9,
          4.44,
          2.74,
          1.15,
          0,
          22.04,
          5.4,
          3.04,
          1.53,
          4.66,
          85.71,
          90.47,
          0,
          46.63,
          33.91,
          0.11,
          0.01,
          0.53,
          61.58,
          54.61,
          22.63,
          12.53,
          0.07,
          0.11,
          0.8,
          0.74
         ],
         "zmax": 93.46,
         "zmin": 0
        },
        {
         "colorbar": {
          "title": {
           "text": "Renewable energy share in the total final energy consumption (%)"
          }
         },
         "colorscale": [
          [
           0,
           "rgb(0,0,0)"
          ],
          [
           0.2,
           "rgb(30,0,100)"
          ],
          [
           0.4,
           "rgb(120,0,100)"
          ],
          [
           0.6,
           "rgb(160,90,0)"
          ],
          [
           0.8,
           "rgb(230,200,0)"
          ],
          [
           1,
           "rgb(255,250,220)"
          ]
         ],
         "locationmode": "country names",
         "locations": [
          "Afghanistan",
          "Armenia",
          "Azerbaijan",
          "Bahrain",
          "Bangladesh",
          "Bhutan",
          "Cambodia",
          "China",
          "Cyprus",
          "Georgia",
          "India",
          "Indonesia",
          "Iraq",
          "Israel",
          "Japan",
          "Jordan",
          "Kazakhstan",
          "Kuwait",
          "Kyrgyzstan",
          "Lebanon",
          "Malaysia",
          "Maldives",
          "Mongolia",
          "Myanmar",
          "Nepal",
          "Oman",
          "Pakistan",
          "Philippines",
          "Qatar",
          "Saudi Arabia",
          "Singapore",
          "Sri Lanka",
          "Tajikistan",
          "Thailand",
          "Turkey",
          "Turkmenistan",
          "United Arab Emirates",
          "Uzbekistan",
          "Yemen"
         ],
         "type": "choropleth",
         "visible": false,
         "z": [
          16.53,
          7.8,
          3.27,
          0,
          43.1,
          92.38,
          68.04,
          13.43,
          6.31,
          36.72,
          37.41,
          38.18,
          1.21,
          8.46,
          4.51,
          2.78,
          1.31,
          0,
          24.73,
          4.31,
          2.27,
          1.49,
          4.43,
          85.48,
          88.93,
          0,
          46.43,
          33.98,
          0.08,
          0.01,
          0.48,
          63.51,
          60.58,
          22.83,
          13.12,
          0.08,
          0.11,
          1.25,
          0.7
         ],
         "zmax": 93.46,
         "zmin": 0
        },
        {
         "colorbar": {
          "title": {
           "text": "Renewable energy share in the total final energy consumption (%)"
          }
         },
         "colorscale": [
          [
           0,
           "rgb(0,0,0)"
          ],
          [
           0.2,
           "rgb(30,0,100)"
          ],
          [
           0.4,
           "rgb(120,0,100)"
          ],
          [
           0.6,
           "rgb(160,90,0)"
          ],
          [
           0.8,
           "rgb(230,200,0)"
          ],
          [
           1,
           "rgb(255,250,220)"
          ]
         ],
         "locationmode": "country names",
         "locations": [
          "Afghanistan",
          "Armenia",
          "Azerbaijan",
          "Bahrain",
          "Bangladesh",
          "Bhutan",
          "Cambodia",
          "China",
          "Cyprus",
          "Georgia",
          "India",
          "Indonesia",
          "Iraq",
          "Israel",
          "Japan",
          "Jordan",
          "Kazakhstan",
          "Kuwait",
          "Kyrgyzstan",
          "Lebanon",
          "Malaysia",
          "Maldives",
          "Mongolia",
          "Myanmar",
          "Nepal",
          "Oman",
          "Pakistan",
          "Philippines",
          "Qatar",
          "Saudi Arabia",
          "Singapore",
          "Sri Lanka",
          "Tajikistan",
          "Thailand",
          "Turkey",
          "Turkmenistan",
          "United Arab Emirates",
          "Uzbekistan",
          "Yemen"
         ],
         "type": "choropleth",
         "visible": false,
         "z": [
          15.15,
          9.36,
          4.45,
          0,
          40.28,
          90.8,
          64.82,
          12.26,
          6.55,
          39.15,
          36.16,
          34.81,
          1.67,
          8.55,
          4.66,
          2.95,
          1.38,
          0,
          25.59,
          5.7,
          1.96,
          1.36,
          4.46,
          84.93,
          87.29,
          0,
          47.4,
          32.59,
          0.13,
          0.01,
          0.47,
          61.85,
          61.83,
          22.83,
          14.21,
          0.07,
          0.11,
          1.35,
          0.78
         ],
         "zmax": 93.46,
         "zmin": 0
        },
        {
         "colorbar": {
          "title": {
           "text": "Renewable energy share in the total final energy consumption (%)"
          }
         },
         "colorscale": [
          [
           0,
           "rgb(0,0,0)"
          ],
          [
           0.2,
           "rgb(30,0,100)"
          ],
          [
           0.4,
           "rgb(120,0,100)"
          ],
          [
           0.6,
           "rgb(160,90,0)"
          ],
          [
           0.8,
           "rgb(230,200,0)"
          ],
          [
           1,
           "rgb(255,250,220)"
          ]
         ],
         "locationmode": "country names",
         "locations": [
          "Afghanistan",
          "Armenia",
          "Azerbaijan",
          "Bahrain",
          "Bangladesh",
          "Bhutan",
          "Cambodia",
          "China",
          "Cyprus",
          "Georgia",
          "India",
          "Indonesia",
          "Iraq",
          "Israel",
          "Japan",
          "Jordan",
          "Kazakhstan",
          "Kuwait",
          "Kyrgyzstan",
          "Lebanon",
          "Malaysia",
          "Maldives",
          "Mongolia",
          "Myanmar",
          "Nepal",
          "Oman",
          "Pakistan",
          "Philippines",
          "Qatar",
          "Saudi Arabia",
          "Singapore",
          "Sri Lanka",
          "Tajikistan",
          "Thailand",
          "Turkey",
          "Turkmenistan",
          "United Arab Emirates",
          "Uzbekistan",
          "Yemen"
         ],
         "type": "choropleth",
         "visible": false,
         "z": [
          12.61,
          8.01,
          3.55,
          0,
          38.41,
          89.01,
          63.99,
          11.34,
          7.66,
          31.53,
          35.01,
          30.92,
          1.14,
          9.08,
          4.82,
          3,
          1.38,
          0,
          25.95,
          6.18,
          2.16,
          1.34,
          4.04,
          84.08,
          86.95,
          0,
          46.76,
          33.69,
          0.15,
          0.01,
          0.48,
          59.25,
          59.98,
          22.96,
          12.68,
          0.06,
          0.11,
          0.95,
          0.93
         ],
         "zmax": 93.46,
         "zmin": 0
        },
        {
         "colorbar": {
          "title": {
           "text": "Renewable energy share in the total final energy consumption (%)"
          }
         },
         "colorscale": [
          [
           0,
           "rgb(0,0,0)"
          ],
          [
           0.2,
           "rgb(30,0,100)"
          ],
          [
           0.4,
           "rgb(120,0,100)"
          ],
          [
           0.6,
           "rgb(160,90,0)"
          ],
          [
           0.8,
           "rgb(230,200,0)"
          ],
          [
           1,
           "rgb(255,250,220)"
          ]
         ],
         "locationmode": "country names",
         "locations": [
          "Afghanistan",
          "Armenia",
          "Azerbaijan",
          "Bahrain",
          "Bangladesh",
          "Bhutan",
          "Cambodia",
          "China",
          "Cyprus",
          "Georgia",
          "India",
          "Indonesia",
          "Iraq",
          "Israel",
          "Japan",
          "Jordan",
          "Kazakhstan",
          "Kuwait",
          "Kyrgyzstan",
          "Lebanon",
          "Malaysia",
          "Maldives",
          "Mongolia",
          "Myanmar",
          "Nepal",
          "Oman",
          "Pakistan",
          "Philippines",
          "Qatar",
          "Saudi Arabia",
          "Singapore",
          "Sri Lanka",
          "Tajikistan",
          "Thailand",
          "Turkey",
          "Turkmenistan",
          "United Arab Emirates",
          "Uzbekistan",
          "Yemen"
         ],
         "type": "choropleth",
         "visible": false,
         "z": [
          15.36,
          6.56,
          2.84,
          0,
          37.31,
          87.32,
          64.36,
          11.53,
          8.69,
          28.69,
          34.75,
          28.78,
          1.3,
          2.88,
          4.68,
          2.91,
          1.33,
          0,
          22.45,
          5.56,
          2.52,
          1.2,
          2.97,
          78.46,
          84.7,
          0,
          47.2,
          34.06,
          0.04,
          0.01,
          0.51,
          60.7,
          55.8,
          23.56,
          13.03,
          0.05,
          0.1,
          1.34,
          1.08
         ],
         "zmax": 93.46,
         "zmin": 0
        },
        {
         "colorbar": {
          "title": {
           "text": "Renewable energy share in the total final energy consumption (%)"
          }
         },
         "colorscale": [
          [
           0,
           "rgb(0,0,0)"
          ],
          [
           0.2,
           "rgb(30,0,100)"
          ],
          [
           0.4,
           "rgb(120,0,100)"
          ],
          [
           0.6,
           "rgb(160,90,0)"
          ],
          [
           0.8,
           "rgb(230,200,0)"
          ],
          [
           1,
           "rgb(255,250,220)"
          ]
         ],
         "locationmode": "country names",
         "locations": [
          "Afghanistan",
          "Armenia",
          "Azerbaijan",
          "Bahrain",
          "Bangladesh",
          "Bhutan",
          "Cambodia",
          "China",
          "Cyprus",
          "Georgia",
          "India",
          "Indonesia",
          "Iraq",
          "Israel",
          "Japan",
          "Jordan",
          "Kazakhstan",
          "Kuwait",
          "Kyrgyzstan",
          "Lebanon",
          "Malaysia",
          "Maldives",
          "Mongolia",
          "Myanmar",
          "Nepal",
          "Oman",
          "Pakistan",
          "Philippines",
          "Qatar",
          "Saudi Arabia",
          "Singapore",
          "Sri Lanka",
          "Tajikistan",
          "Thailand",
          "Turkey",
          "Turkmenistan",
          "United Arab Emirates",
          "Uzbekistan",
          "Yemen"
         ],
         "type": "choropleth",
         "visible": false,
         "z": [
          16.86,
          6.77,
          2.52,
          0,
          37.08,
          86.7,
          64.97,
          11.45,
          9.83,
          33.16,
          34.85,
          29.7,
          1.46,
          3.27,
          5.05,
          3.12,
          1.16,
          0,
          24.81,
          5.92,
          2.75,
          1.26,
          3.01,
          75.96,
          86.05,
          0,
          48.13,
          33.05,
          0.04,
          0.01,
          0.56,
          59.88,
          55.12,
          23.21,
          13.8,
          0.06,
          0.1,
          1.19,
          0.76
         ],
         "zmax": 93.46,
         "zmin": 0
        },
        {
         "colorbar": {
          "title": {
           "text": "Renewable energy share in the total final energy consumption (%)"
          }
         },
         "colorscale": [
          [
           0,
           "rgb(0,0,0)"
          ],
          [
           0.2,
           "rgb(30,0,100)"
          ],
          [
           0.4,
           "rgb(120,0,100)"
          ],
          [
           0.6,
           "rgb(160,90,0)"
          ],
          [
           0.8,
           "rgb(230,200,0)"
          ],
          [
           1,
           "rgb(255,250,220)"
          ]
         ],
         "locationmode": "country names",
         "locations": [
          "Afghanistan",
          "Armenia",
          "Azerbaijan",
          "Bahrain",
          "Bangladesh",
          "Bhutan",
          "Cambodia",
          "China",
          "Cyprus",
          "Georgia",
          "India",
          "Indonesia",
          "Iraq",
          "Israel",
          "Japan",
          "Jordan",
          "Kazakhstan",
          "Kuwait",
          "Kyrgyzstan",
          "Lebanon",
          "Malaysia",
          "Maldives",
          "Mongolia",
          "Myanmar",
          "Nepal",
          "Oman",
          "Pakistan",
          "Philippines",
          "Qatar",
          "Saudi Arabia",
          "Singapore",
          "Sri Lanka",
          "Tajikistan",
          "Thailand",
          "Turkey",
          "Turkmenistan",
          "United Arab Emirates",
          "Uzbekistan",
          "Yemen"
         ],
         "type": "choropleth",
         "visible": false,
         "z": [
          18.93,
          7.08,
          2.12,
          0,
          35.32,
          86.54,
          63.7,
          11.94,
          9.59,
          31.34,
          33.85,
          28.32,
          1,
          3.7,
          5.58,
          3.1,
          1.34,
          0,
          26.6,
          4.24,
          3.03,
          1.2,
          3.34,
          72.43,
          84.06,
          0,
          47.22,
          32.33,
          0.05,
          0.01,
          0.59,
          57.31,
          45.89,
          24.41,
          11.51,
          0.05,
          0.14,
          1.4,
          0.76
         ],
         "zmax": 93.46,
         "zmin": 0
        },
        {
         "colorbar": {
          "title": {
           "text": "Renewable energy share in the total final energy consumption (%)"
          }
         },
         "colorscale": [
          [
           0,
           "rgb(0,0,0)"
          ],
          [
           0.2,
           "rgb(30,0,100)"
          ],
          [
           0.4,
           "rgb(120,0,100)"
          ],
          [
           0.6,
           "rgb(160,90,0)"
          ],
          [
           0.8,
           "rgb(230,200,0)"
          ],
          [
           1,
           "rgb(255,250,220)"
          ]
         ],
         "locationmode": "country names",
         "locations": [
          "Afghanistan",
          "Armenia",
          "Azerbaijan",
          "Bahrain",
          "Bangladesh",
          "Bhutan",
          "Cambodia",
          "China",
          "Cyprus",
          "Georgia",
          "India",
          "Indonesia",
          "Iraq",
          "Israel",
          "Japan",
          "Jordan",
          "Kazakhstan",
          "Kuwait",
          "Kyrgyzstan",
          "Lebanon",
          "Malaysia",
          "Maldives",
          "Mongolia",
          "Myanmar",
          "Nepal",
          "Oman",
          "Pakistan",
          "Philippines",
          "Qatar",
          "Saudi Arabia",
          "Singapore",
          "Sri Lanka",
          "Tajikistan",
          "Thailand",
          "Turkey",
          "Turkmenistan",
          "United Arab Emirates",
          "Uzbekistan",
          "Yemen"
         ],
         "type": "choropleth",
         "visible": false,
         "z": [
          17.53,
          10.74,
          2.33,
          0,
          31.93,
          86.68,
          60.63,
          12.18,
          10.51,
          28.15,
          33.4,
          26.69,
          0.82,
          3.74,
          6.16,
          3.19,
          1.72,
          0.01,
          23.3,
          4.17,
          3.41,
          1.38,
          3.55,
          70.43,
          85.04,
          0,
          45.88,
          30.75,
          0.05,
          0.01,
          0.65,
          52.89,
          48.11,
          22.65,
          13.34,
          0.05,
          0.13,
          1.71,
          1.96
         ],
         "zmax": 93.46,
         "zmin": 0
        },
        {
         "colorbar": {
          "title": {
           "text": "Renewable energy share in the total final energy consumption (%)"
          }
         },
         "colorscale": [
          [
           0,
           "rgb(0,0,0)"
          ],
          [
           0.2,
           "rgb(30,0,100)"
          ],
          [
           0.4,
           "rgb(120,0,100)"
          ],
          [
           0.6,
           "rgb(160,90,0)"
          ],
          [
           0.8,
           "rgb(230,200,0)"
          ],
          [
           1,
           "rgb(255,250,220)"
          ]
         ],
         "locationmode": "country names",
         "locations": [
          "Afghanistan",
          "Armenia",
          "Azerbaijan",
          "Bahrain",
          "Bangladesh",
          "Bhutan",
          "Cambodia",
          "China",
          "Cyprus",
          "Georgia",
          "India",
          "Indonesia",
          "Iraq",
          "Israel",
          "Japan",
          "Jordan",
          "Kazakhstan",
          "Kuwait",
          "Kyrgyzstan",
          "Lebanon",
          "Malaysia",
          "Maldives",
          "Mongolia",
          "Myanmar",
          "Nepal",
          "Oman",
          "Pakistan",
          "Philippines",
          "Qatar",
          "Saudi Arabia",
          "Singapore",
          "Sri Lanka",
          "Tajikistan",
          "Thailand",
          "Turkey",
          "Turkmenistan",
          "United Arab Emirates",
          "Uzbekistan",
          "Yemen"
         ],
         "type": "choropleth",
         "visible": false,
         "z": [
          19.92,
          13.15,
          1.94,
          0,
          30.49,
          85.02,
          58.01,
          12.56,
          10.36,
          27.64,
          33.02,
          28.24,
          0.94,
          3.98,
          6.39,
          4.67,
          2.07,
          0.01,
          21.92,
          3.96,
          4.43,
          1.21,
          3.39,
          69.25,
          79.2,
          0,
          43.69,
          28.45,
          0.06,
          0.01,
          0.68,
          50.92,
          41.16,
          22.43,
          13.23,
          0.05,
          0.12,
          1.61,
          2.48
         ],
         "zmax": 93.46,
         "zmin": 0
        },
        {
         "colorbar": {
          "title": {
           "text": "Renewable energy share in the total final energy consumption (%)"
          }
         },
         "colorscale": [
          [
           0,
           "rgb(0,0,0)"
          ],
          [
           0.2,
           "rgb(30,0,100)"
          ],
          [
           0.4,
           "rgb(120,0,100)"
          ],
          [
           0.6,
           "rgb(160,90,0)"
          ],
          [
           0.8,
           "rgb(230,200,0)"
          ],
          [
           1,
           "rgb(255,250,220)"
          ]
         ],
         "locationmode": "country names",
         "locations": [
          "Afghanistan",
          "Armenia",
          "Azerbaijan",
          "Bahrain",
          "Bangladesh",
          "Bhutan",
          "Cambodia",
          "China",
          "Cyprus",
          "Georgia",
          "India",
          "Indonesia",
          "Iraq",
          "Israel",
          "Japan",
          "Jordan",
          "Kazakhstan",
          "Kuwait",
          "Kyrgyzstan",
          "Lebanon",
          "Malaysia",
          "Maldives",
          "Mongolia",
          "Myanmar",
          "Nepal",
          "Oman",
          "Pakistan",
          "Philippines",
          "Qatar",
          "Saudi Arabia",
          "Singapore",
          "Sri Lanka",
          "Tajikistan",
          "Thailand",
          "Turkey",
          "Turkmenistan",
          "United Arab Emirates",
          "Uzbekistan",
          "Yemen"
         ],
         "type": "choropleth",
         "visible": false,
         "z": [
          19.21,
          12.56,
          1.91,
          0,
          28.36,
          83.63,
          56.25,
          13.13,
          11.03,
          28.03,
          32.41,
          26.15,
          0.57,
          3.86,
          6.92,
          5.26,
          2.02,
          0.02,
          24.55,
          3.97,
          5.22,
          1.25,
          3.19,
          59.92,
          76.41,
          0,
          42.09,
          27.68,
          0.07,
          0.02,
          0.67,
          49.33,
          41.69,
          22.25,
          11.4,
          0.06,
          0.19,
          1.75,
          2.8
         ],
         "zmax": 93.46,
         "zmin": 0
        },
        {
         "colorbar": {
          "title": {
           "text": "Renewable energy share in the total final energy consumption (%)"
          }
         },
         "colorscale": [
          [
           0,
           "rgb(0,0,0)"
          ],
          [
           0.2,
           "rgb(30,0,100)"
          ],
          [
           0.4,
           "rgb(120,0,100)"
          ],
          [
           0.6,
           "rgb(160,90,0)"
          ],
          [
           0.8,
           "rgb(230,200,0)"
          ],
          [
           1,
           "rgb(255,250,220)"
          ]
         ],
         "locationmode": "country names",
         "locations": [
          "Afghanistan",
          "Armenia",
          "Azerbaijan",
          "Bahrain",
          "Bangladesh",
          "Bhutan",
          "Cambodia",
          "China",
          "Cyprus",
          "Georgia",
          "India",
          "Indonesia",
          "Iraq",
          "Israel",
          "Japan",
          "Jordan",
          "Kazakhstan",
          "Kuwait",
          "Kyrgyzstan",
          "Lebanon",
          "Malaysia",
          "Maldives",
          "Mongolia",
          "Myanmar",
          "Nepal",
          "Oman",
          "Pakistan",
          "Philippines",
          "Qatar",
          "Saudi Arabia",
          "Singapore",
          "Sri Lanka",
          "Tajikistan",
          "Thailand",
          "Turkey",
          "Turkmenistan",
          "United Arab Emirates",
          "Uzbekistan",
          "Yemen"
         ],
         "type": "choropleth",
         "visible": false,
         "z": [
          17.96,
          11.13,
          1.93,
          0,
          26.88,
          82.22,
          56.38,
          13.71,
          12.11,
          27.94,
          32.82,
          21.05,
          0.49,
          3.75,
          7.22,
          7.2,
          1.88,
          0.03,
          23.21,
          4.75,
          5.31,
          1.12,
          3.26,
          59.55,
          74.27,
          0,
          43.3,
          27.51,
          0.05,
          0.02,
          0.73,
          51.4,
          39.47,
          23.7,
          11.83,
          0.06,
          0.32,
          1.49,
          3.6
         ],
         "zmax": 93.46,
         "zmin": 0
        },
        {
         "colorbar": {
          "title": {
           "text": "Renewable energy share in the total final energy consumption (%)"
          }
         },
         "colorscale": [
          [
           0,
           "rgb(0,0,0)"
          ],
          [
           0.2,
           "rgb(30,0,100)"
          ],
          [
           0.4,
           "rgb(120,0,100)"
          ],
          [
           0.6,
           "rgb(160,90,0)"
          ],
          [
           0.8,
           "rgb(230,200,0)"
          ],
          [
           1,
           "rgb(255,250,220)"
          ]
         ],
         "locationmode": "country names",
         "locations": [
          "Afghanistan",
          "Armenia",
          "Azerbaijan",
          "Bahrain",
          "Bangladesh",
          "Bhutan",
          "Cambodia",
          "China",
          "Cyprus",
          "Georgia",
          "India",
          "Indonesia",
          "Iraq",
          "Israel",
          "Japan",
          "Jordan",
          "Kazakhstan",
          "Kuwait",
          "Kyrgyzstan",
          "Lebanon",
          "Malaysia",
          "Maldives",
          "Mongolia",
          "Myanmar",
          "Nepal",
          "Oman",
          "Pakistan",
          "Philippines",
          "Qatar",
          "Saudi Arabia",
          "Singapore",
          "Sri Lanka",
          "Tajikistan",
          "Thailand",
          "Turkey",
          "Turkmenistan",
          "United Arab Emirates",
          "Uzbekistan",
          "Yemen"
         ],
         "type": "choropleth",
         "visible": false,
         "z": [
          18.51,
          10.34,
          1.62,
          0,
          24.75,
          82.27,
          53.36,
          14.45,
          12.05,
          25.22,
          32.93,
          19.09,
          0.43,
          4.47,
          7.69,
          8.17,
          1.7,
          0.06,
          27.88,
          5.46,
          5.11,
          1.11,
          3.32,
          57.85,
          77.39,
          0,
          43.36,
          26.73,
          0.04,
          0.03,
          0.84,
          49.91,
          38.56,
          23.96,
          14.12,
          0.06,
          0.67,
          1.57,
          3.11
         ],
         "zmax": 93.46,
         "zmin": 0
        }
       ],
       "layout": {
        "font": {
         "family": "Arial",
         "size": 12
        },
        "geo": {
         "projection": {
          "type": "equirectangular"
         },
         "scope": "asia",
         "showcoastlines": false,
         "showframe": true
        },
        "height": 500,
        "margin": {
         "b": 50,
         "l": 50,
         "r": 50,
         "t": 80
        },
        "sliders": [
         {
          "active": 0,
          "currentvalue": {
           "font": {
            "size": 14
           },
           "prefix": "Year: "
          },
          "steps": [
           {
            "args": [
             {
              "visible": [
               true,
               false,
               false,
               false,
               false,
               false,
               false,
               false,
               false,
               false,
               false,
               false,
               false,
               false,
               false,
               false,
               false,
               false,
               false,
               false
              ]
             },
             {
              "frame": {
               "duration": 1000,
               "redraw": true
              },
              "title_text": "Renewable energy share in the total final energy consumption (%) Map - 2000"
             }
            ],
            "label": "2000",
            "method": "update"
           },
           {
            "args": [
             {
              "visible": [
               false,
               true,
               false,
               false,
               false,
               false,
               false,
               false,
               false,
               false,
               false,
               false,
               false,
               false,
               false,
               false,
               false,
               false,
               false,
               false
              ]
             },
             {
              "frame": {
               "duration": 1000,
               "redraw": true
              },
              "title_text": "Renewable energy share in the total final energy consumption (%) Map - 2001"
             }
            ],
            "label": "2001",
            "method": "update"
           },
           {
            "args": [
             {
              "visible": [
               false,
               false,
               true,
               false,
               false,
               false,
               false,
               false,
               false,
               false,
               false,
               false,
               false,
               false,
               false,
               false,
               false,
               false,
               false,
               false
              ]
             },
             {
              "frame": {
               "duration": 1000,
               "redraw": true
              },
              "title_text": "Renewable energy share in the total final energy consumption (%) Map - 2002"
             }
            ],
            "label": "2002",
            "method": "update"
           },
           {
            "args": [
             {
              "visible": [
               false,
               false,
               false,
               true,
               false,
               false,
               false,
               false,
               false,
               false,
               false,
               false,
               false,
               false,
               false,
               false,
               false,
               false,
               false,
               false
              ]
             },
             {
              "frame": {
               "duration": 1000,
               "redraw": true
              },
              "title_text": "Renewable energy share in the total final energy consumption (%) Map - 2003"
             }
            ],
            "label": "2003",
            "method": "update"
           },
           {
            "args": [
             {
              "visible": [
               false,
               false,
               false,
               false,
               true,
               false,
               false,
               false,
               false,
               false,
               false,
               false,
               false,
               false,
               false,
               false,
               false,
               false,
               false,
               false
              ]
             },
             {
              "frame": {
               "duration": 1000,
               "redraw": true
              },
              "title_text": "Renewable energy share in the total final energy consumption (%) Map - 2004"
             }
            ],
            "label": "2004",
            "method": "update"
           },
           {
            "args": [
             {
              "visible": [
               false,
               false,
               false,
               false,
               false,
               true,
               false,
               false,
               false,
               false,
               false,
               false,
               false,
               false,
               false,
               false,
               false,
               false,
               false,
               false
              ]
             },
             {
              "frame": {
               "duration": 1000,
               "redraw": true
              },
              "title_text": "Renewable energy share in the total final energy consumption (%) Map - 2005"
             }
            ],
            "label": "2005",
            "method": "update"
           },
           {
            "args": [
             {
              "visible": [
               false,
               false,
               false,
               false,
               false,
               false,
               true,
               false,
               false,
               false,
               false,
               false,
               false,
               false,
               false,
               false,
               false,
               false,
               false,
               false
              ]
             },
             {
              "frame": {
               "duration": 1000,
               "redraw": true
              },
              "title_text": "Renewable energy share in the total final energy consumption (%) Map - 2006"
             }
            ],
            "label": "2006",
            "method": "update"
           },
           {
            "args": [
             {
              "visible": [
               false,
               false,
               false,
               false,
               false,
               false,
               false,
               true,
               false,
               false,
               false,
               false,
               false,
               false,
               false,
               false,
               false,
               false,
               false,
               false
              ]
             },
             {
              "frame": {
               "duration": 1000,
               "redraw": true
              },
              "title_text": "Renewable energy share in the total final energy consumption (%) Map - 2007"
             }
            ],
            "label": "2007",
            "method": "update"
           },
           {
            "args": [
             {
              "visible": [
               false,
               false,
               false,
               false,
               false,
               false,
               false,
               false,
               true,
               false,
               false,
               false,
               false,
               false,
               false,
               false,
               false,
               false,
               false,
               false
              ]
             },
             {
              "frame": {
               "duration": 1000,
               "redraw": true
              },
              "title_text": "Renewable energy share in the total final energy consumption (%) Map - 2008"
             }
            ],
            "label": "2008",
            "method": "update"
           },
           {
            "args": [
             {
              "visible": [
               false,
               false,
               false,
               false,
               false,
               false,
               false,
               false,
               false,
               true,
               false,
               false,
               false,
               false,
               false,
               false,
               false,
               false,
               false,
               false
              ]
             },
             {
              "frame": {
               "duration": 1000,
               "redraw": true
              },
              "title_text": "Renewable energy share in the total final energy consumption (%) Map - 2009"
             }
            ],
            "label": "2009",
            "method": "update"
           },
           {
            "args": [
             {
              "visible": [
               false,
               false,
               false,
               false,
               false,
               false,
               false,
               false,
               false,
               false,
               true,
               false,
               false,
               false,
               false,
               false,
               false,
               false,
               false,
               false
              ]
             },
             {
              "frame": {
               "duration": 1000,
               "redraw": true
              },
              "title_text": "Renewable energy share in the total final energy consumption (%) Map - 2010"
             }
            ],
            "label": "2010",
            "method": "update"
           },
           {
            "args": [
             {
              "visible": [
               false,
               false,
               false,
               false,
               false,
               false,
               false,
               false,
               false,
               false,
               false,
               true,
               false,
               false,
               false,
               false,
               false,
               false,
               false,
               false
              ]
             },
             {
              "frame": {
               "duration": 1000,
               "redraw": true
              },
              "title_text": "Renewable energy share in the total final energy consumption (%) Map - 2011"
             }
            ],
            "label": "2011",
            "method": "update"
           },
           {
            "args": [
             {
              "visible": [
               false,
               false,
               false,
               false,
               false,
               false,
               false,
               false,
               false,
               false,
               false,
               false,
               true,
               false,
               false,
               false,
               false,
               false,
               false,
               false
              ]
             },
             {
              "frame": {
               "duration": 1000,
               "redraw": true
              },
              "title_text": "Renewable energy share in the total final energy consumption (%) Map - 2012"
             }
            ],
            "label": "2012",
            "method": "update"
           },
           {
            "args": [
             {
              "visible": [
               false,
               false,
               false,
               false,
               false,
               false,
               false,
               false,
               false,
               false,
               false,
               false,
               false,
               true,
               false,
               false,
               false,
               false,
               false,
               false
              ]
             },
             {
              "frame": {
               "duration": 1000,
               "redraw": true
              },
              "title_text": "Renewable energy share in the total final energy consumption (%) Map - 2013"
             }
            ],
            "label": "2013",
            "method": "update"
           },
           {
            "args": [
             {
              "visible": [
               false,
               false,
               false,
               false,
               false,
               false,
               false,
               false,
               false,
               false,
               false,
               false,
               false,
               false,
               true,
               false,
               false,
               false,
               false,
               false
              ]
             },
             {
              "frame": {
               "duration": 1000,
               "redraw": true
              },
              "title_text": "Renewable energy share in the total final energy consumption (%) Map - 2014"
             }
            ],
            "label": "2014",
            "method": "update"
           },
           {
            "args": [
             {
              "visible": [
               false,
               false,
               false,
               false,
               false,
               false,
               false,
               false,
               false,
               false,
               false,
               false,
               false,
               false,
               false,
               true,
               false,
               false,
               false,
               false
              ]
             },
             {
              "frame": {
               "duration": 1000,
               "redraw": true
              },
              "title_text": "Renewable energy share in the total final energy consumption (%) Map - 2015"
             }
            ],
            "label": "2015",
            "method": "update"
           },
           {
            "args": [
             {
              "visible": [
               false,
               false,
               false,
               false,
               false,
               false,
               false,
               false,
               false,
               false,
               false,
               false,
               false,
               false,
               false,
               false,
               true,
               false,
               false,
               false
              ]
             },
             {
              "frame": {
               "duration": 1000,
               "redraw": true
              },
              "title_text": "Renewable energy share in the total final energy consumption (%) Map - 2016"
             }
            ],
            "label": "2016",
            "method": "update"
           },
           {
            "args": [
             {
              "visible": [
               false,
               false,
               false,
               false,
               false,
               false,
               false,
               false,
               false,
               false,
               false,
               false,
               false,
               false,
               false,
               false,
               false,
               true,
               false,
               false
              ]
             },
             {
              "frame": {
               "duration": 1000,
               "redraw": true
              },
              "title_text": "Renewable energy share in the total final energy consumption (%) Map - 2017"
             }
            ],
            "label": "2017",
            "method": "update"
           },
           {
            "args": [
             {
              "visible": [
               false,
               false,
               false,
               false,
               false,
               false,
               false,
               false,
               false,
               false,
               false,
               false,
               false,
               false,
               false,
               false,
               false,
               false,
               true,
               false
              ]
             },
             {
              "frame": {
               "duration": 1000,
               "redraw": true
              },
              "title_text": "Renewable energy share in the total final energy consumption (%) Map - 2018"
             }
            ],
            "label": "2018",
            "method": "update"
           },
           {
            "args": [
             {
              "visible": [
               false,
               false,
               false,
               false,
               false,
               false,
               false,
               false,
               false,
               false,
               false,
               false,
               false,
               false,
               false,
               false,
               false,
               false,
               false,
               true
              ]
             },
             {
              "frame": {
               "duration": 1000,
               "redraw": true
              },
              "title_text": "Renewable energy share in the total final energy consumption (%) Map - 2019"
             }
            ],
            "label": "2019",
            "method": "update"
           }
          ]
         }
        ],
        "template": {
         "data": {
          "bar": [
           {
            "error_x": {
             "color": "#2a3f5f"
            },
            "error_y": {
             "color": "#2a3f5f"
            },
            "marker": {
             "line": {
              "color": "white",
              "width": 0.5
             },
             "pattern": {
              "fillmode": "overlay",
              "size": 10,
              "solidity": 0.2
             }
            },
            "type": "bar"
           }
          ],
          "barpolar": [
           {
            "marker": {
             "line": {
              "color": "white",
              "width": 0.5
             },
             "pattern": {
              "fillmode": "overlay",
              "size": 10,
              "solidity": 0.2
             }
            },
            "type": "barpolar"
           }
          ],
          "carpet": [
           {
            "aaxis": {
             "endlinecolor": "#2a3f5f",
             "gridcolor": "#C8D4E3",
             "linecolor": "#C8D4E3",
             "minorgridcolor": "#C8D4E3",
             "startlinecolor": "#2a3f5f"
            },
            "baxis": {
             "endlinecolor": "#2a3f5f",
             "gridcolor": "#C8D4E3",
             "linecolor": "#C8D4E3",
             "minorgridcolor": "#C8D4E3",
             "startlinecolor": "#2a3f5f"
            },
            "type": "carpet"
           }
          ],
          "choropleth": [
           {
            "colorbar": {
             "outlinewidth": 0,
             "ticks": ""
            },
            "type": "choropleth"
           }
          ],
          "contour": [
           {
            "colorbar": {
             "outlinewidth": 0,
             "ticks": ""
            },
            "colorscale": [
             [
              0,
              "#0d0887"
             ],
             [
              0.1111111111111111,
              "#46039f"
             ],
             [
              0.2222222222222222,
              "#7201a8"
             ],
             [
              0.3333333333333333,
              "#9c179e"
             ],
             [
              0.4444444444444444,
              "#bd3786"
             ],
             [
              0.5555555555555556,
              "#d8576b"
             ],
             [
              0.6666666666666666,
              "#ed7953"
             ],
             [
              0.7777777777777778,
              "#fb9f3a"
             ],
             [
              0.8888888888888888,
              "#fdca26"
             ],
             [
              1,
              "#f0f921"
             ]
            ],
            "type": "contour"
           }
          ],
          "contourcarpet": [
           {
            "colorbar": {
             "outlinewidth": 0,
             "ticks": ""
            },
            "type": "contourcarpet"
           }
          ],
          "heatmap": [
           {
            "colorbar": {
             "outlinewidth": 0,
             "ticks": ""
            },
            "colorscale": [
             [
              0,
              "#0d0887"
             ],
             [
              0.1111111111111111,
              "#46039f"
             ],
             [
              0.2222222222222222,
              "#7201a8"
             ],
             [
              0.3333333333333333,
              "#9c179e"
             ],
             [
              0.4444444444444444,
              "#bd3786"
             ],
             [
              0.5555555555555556,
              "#d8576b"
             ],
             [
              0.6666666666666666,
              "#ed7953"
             ],
             [
              0.7777777777777778,
              "#fb9f3a"
             ],
             [
              0.8888888888888888,
              "#fdca26"
             ],
             [
              1,
              "#f0f921"
             ]
            ],
            "type": "heatmap"
           }
          ],
          "heatmapgl": [
           {
            "colorbar": {
             "outlinewidth": 0,
             "ticks": ""
            },
            "colorscale": [
             [
              0,
              "#0d0887"
             ],
             [
              0.1111111111111111,
              "#46039f"
             ],
             [
              0.2222222222222222,
              "#7201a8"
             ],
             [
              0.3333333333333333,
              "#9c179e"
             ],
             [
              0.4444444444444444,
              "#bd3786"
             ],
             [
              0.5555555555555556,
              "#d8576b"
             ],
             [
              0.6666666666666666,
              "#ed7953"
             ],
             [
              0.7777777777777778,
              "#fb9f3a"
             ],
             [
              0.8888888888888888,
              "#fdca26"
             ],
             [
              1,
              "#f0f921"
             ]
            ],
            "type": "heatmapgl"
           }
          ],
          "histogram": [
           {
            "marker": {
             "pattern": {
              "fillmode": "overlay",
              "size": 10,
              "solidity": 0.2
             }
            },
            "type": "histogram"
           }
          ],
          "histogram2d": [
           {
            "colorbar": {
             "outlinewidth": 0,
             "ticks": ""
            },
            "colorscale": [
             [
              0,
              "#0d0887"
             ],
             [
              0.1111111111111111,
              "#46039f"
             ],
             [
              0.2222222222222222,
              "#7201a8"
             ],
             [
              0.3333333333333333,
              "#9c179e"
             ],
             [
              0.4444444444444444,
              "#bd3786"
             ],
             [
              0.5555555555555556,
              "#d8576b"
             ],
             [
              0.6666666666666666,
              "#ed7953"
             ],
             [
              0.7777777777777778,
              "#fb9f3a"
             ],
             [
              0.8888888888888888,
              "#fdca26"
             ],
             [
              1,
              "#f0f921"
             ]
            ],
            "type": "histogram2d"
           }
          ],
          "histogram2dcontour": [
           {
            "colorbar": {
             "outlinewidth": 0,
             "ticks": ""
            },
            "colorscale": [
             [
              0,
              "#0d0887"
             ],
             [
              0.1111111111111111,
              "#46039f"
             ],
             [
              0.2222222222222222,
              "#7201a8"
             ],
             [
              0.3333333333333333,
              "#9c179e"
             ],
             [
              0.4444444444444444,
              "#bd3786"
             ],
             [
              0.5555555555555556,
              "#d8576b"
             ],
             [
              0.6666666666666666,
              "#ed7953"
             ],
             [
              0.7777777777777778,
              "#fb9f3a"
             ],
             [
              0.8888888888888888,
              "#fdca26"
             ],
             [
              1,
              "#f0f921"
             ]
            ],
            "type": "histogram2dcontour"
           }
          ],
          "mesh3d": [
           {
            "colorbar": {
             "outlinewidth": 0,
             "ticks": ""
            },
            "type": "mesh3d"
           }
          ],
          "parcoords": [
           {
            "line": {
             "colorbar": {
              "outlinewidth": 0,
              "ticks": ""
             }
            },
            "type": "parcoords"
           }
          ],
          "pie": [
           {
            "automargin": true,
            "type": "pie"
           }
          ],
          "scatter": [
           {
            "fillpattern": {
             "fillmode": "overlay",
             "size": 10,
             "solidity": 0.2
            },
            "type": "scatter"
           }
          ],
          "scatter3d": [
           {
            "line": {
             "colorbar": {
              "outlinewidth": 0,
              "ticks": ""
             }
            },
            "marker": {
             "colorbar": {
              "outlinewidth": 0,
              "ticks": ""
             }
            },
            "type": "scatter3d"
           }
          ],
          "scattercarpet": [
           {
            "marker": {
             "colorbar": {
              "outlinewidth": 0,
              "ticks": ""
             }
            },
            "type": "scattercarpet"
           }
          ],
          "scattergeo": [
           {
            "marker": {
             "colorbar": {
              "outlinewidth": 0,
              "ticks": ""
             }
            },
            "type": "scattergeo"
           }
          ],
          "scattergl": [
           {
            "marker": {
             "colorbar": {
              "outlinewidth": 0,
              "ticks": ""
             }
            },
            "type": "scattergl"
           }
          ],
          "scattermapbox": [
           {
            "marker": {
             "colorbar": {
              "outlinewidth": 0,
              "ticks": ""
             }
            },
            "type": "scattermapbox"
           }
          ],
          "scatterpolar": [
           {
            "marker": {
             "colorbar": {
              "outlinewidth": 0,
              "ticks": ""
             }
            },
            "type": "scatterpolar"
           }
          ],
          "scatterpolargl": [
           {
            "marker": {
             "colorbar": {
              "outlinewidth": 0,
              "ticks": ""
             }
            },
            "type": "scatterpolargl"
           }
          ],
          "scatterternary": [
           {
            "marker": {
             "colorbar": {
              "outlinewidth": 0,
              "ticks": ""
             }
            },
            "type": "scatterternary"
           }
          ],
          "surface": [
           {
            "colorbar": {
             "outlinewidth": 0,
             "ticks": ""
            },
            "colorscale": [
             [
              0,
              "#0d0887"
             ],
             [
              0.1111111111111111,
              "#46039f"
             ],
             [
              0.2222222222222222,
              "#7201a8"
             ],
             [
              0.3333333333333333,
              "#9c179e"
             ],
             [
              0.4444444444444444,
              "#bd3786"
             ],
             [
              0.5555555555555556,
              "#d8576b"
             ],
             [
              0.6666666666666666,
              "#ed7953"
             ],
             [
              0.7777777777777778,
              "#fb9f3a"
             ],
             [
              0.8888888888888888,
              "#fdca26"
             ],
             [
              1,
              "#f0f921"
             ]
            ],
            "type": "surface"
           }
          ],
          "table": [
           {
            "cells": {
             "fill": {
              "color": "#EBF0F8"
             },
             "line": {
              "color": "white"
             }
            },
            "header": {
             "fill": {
              "color": "#C8D4E3"
             },
             "line": {
              "color": "white"
             }
            },
            "type": "table"
           }
          ]
         },
         "layout": {
          "annotationdefaults": {
           "arrowcolor": "#2a3f5f",
           "arrowhead": 0,
           "arrowwidth": 1
          },
          "autotypenumbers": "strict",
          "coloraxis": {
           "colorbar": {
            "outlinewidth": 0,
            "ticks": ""
           }
          },
          "colorscale": {
           "diverging": [
            [
             0,
             "#8e0152"
            ],
            [
             0.1,
             "#c51b7d"
            ],
            [
             0.2,
             "#de77ae"
            ],
            [
             0.3,
             "#f1b6da"
            ],
            [
             0.4,
             "#fde0ef"
            ],
            [
             0.5,
             "#f7f7f7"
            ],
            [
             0.6,
             "#e6f5d0"
            ],
            [
             0.7,
             "#b8e186"
            ],
            [
             0.8,
             "#7fbc41"
            ],
            [
             0.9,
             "#4d9221"
            ],
            [
             1,
             "#276419"
            ]
           ],
           "sequential": [
            [
             0,
             "#0d0887"
            ],
            [
             0.1111111111111111,
             "#46039f"
            ],
            [
             0.2222222222222222,
             "#7201a8"
            ],
            [
             0.3333333333333333,
             "#9c179e"
            ],
            [
             0.4444444444444444,
             "#bd3786"
            ],
            [
             0.5555555555555556,
             "#d8576b"
            ],
            [
             0.6666666666666666,
             "#ed7953"
            ],
            [
             0.7777777777777778,
             "#fb9f3a"
            ],
            [
             0.8888888888888888,
             "#fdca26"
            ],
            [
             1,
             "#f0f921"
            ]
           ],
           "sequentialminus": [
            [
             0,
             "#0d0887"
            ],
            [
             0.1111111111111111,
             "#46039f"
            ],
            [
             0.2222222222222222,
             "#7201a8"
            ],
            [
             0.3333333333333333,
             "#9c179e"
            ],
            [
             0.4444444444444444,
             "#bd3786"
            ],
            [
             0.5555555555555556,
             "#d8576b"
            ],
            [
             0.6666666666666666,
             "#ed7953"
            ],
            [
             0.7777777777777778,
             "#fb9f3a"
            ],
            [
             0.8888888888888888,
             "#fdca26"
            ],
            [
             1,
             "#f0f921"
            ]
           ]
          },
          "colorway": [
           "#636efa",
           "#EF553B",
           "#00cc96",
           "#ab63fa",
           "#FFA15A",
           "#19d3f3",
           "#FF6692",
           "#B6E880",
           "#FF97FF",
           "#FECB52"
          ],
          "font": {
           "color": "#2a3f5f"
          },
          "geo": {
           "bgcolor": "white",
           "lakecolor": "white",
           "landcolor": "white",
           "showlakes": true,
           "showland": true,
           "subunitcolor": "#C8D4E3"
          },
          "hoverlabel": {
           "align": "left"
          },
          "hovermode": "closest",
          "mapbox": {
           "style": "light"
          },
          "paper_bgcolor": "white",
          "plot_bgcolor": "white",
          "polar": {
           "angularaxis": {
            "gridcolor": "#EBF0F8",
            "linecolor": "#EBF0F8",
            "ticks": ""
           },
           "bgcolor": "white",
           "radialaxis": {
            "gridcolor": "#EBF0F8",
            "linecolor": "#EBF0F8",
            "ticks": ""
           }
          },
          "scene": {
           "xaxis": {
            "backgroundcolor": "white",
            "gridcolor": "#DFE8F3",
            "gridwidth": 2,
            "linecolor": "#EBF0F8",
            "showbackground": true,
            "ticks": "",
            "zerolinecolor": "#EBF0F8"
           },
           "yaxis": {
            "backgroundcolor": "white",
            "gridcolor": "#DFE8F3",
            "gridwidth": 2,
            "linecolor": "#EBF0F8",
            "showbackground": true,
            "ticks": "",
            "zerolinecolor": "#EBF0F8"
           },
           "zaxis": {
            "backgroundcolor": "white",
            "gridcolor": "#DFE8F3",
            "gridwidth": 2,
            "linecolor": "#EBF0F8",
            "showbackground": true,
            "ticks": "",
            "zerolinecolor": "#EBF0F8"
           }
          },
          "shapedefaults": {
           "line": {
            "color": "#2a3f5f"
           }
          },
          "ternary": {
           "aaxis": {
            "gridcolor": "#DFE8F3",
            "linecolor": "#A2B1C6",
            "ticks": ""
           },
           "baxis": {
            "gridcolor": "#DFE8F3",
            "linecolor": "#A2B1C6",
            "ticks": ""
           },
           "bgcolor": "white",
           "caxis": {
            "gridcolor": "#DFE8F3",
            "linecolor": "#A2B1C6",
            "ticks": ""
           }
          },
          "title": {
           "x": 0.05
          },
          "xaxis": {
           "automargin": true,
           "gridcolor": "#EBF0F8",
           "linecolor": "#EBF0F8",
           "ticks": "",
           "title": {
            "standoff": 15
           },
           "zerolinecolor": "#EBF0F8",
           "zerolinewidth": 2
          },
          "yaxis": {
           "automargin": true,
           "gridcolor": "#EBF0F8",
           "linecolor": "#EBF0F8",
           "ticks": "",
           "title": {
            "standoff": 15
           },
           "zerolinecolor": "#EBF0F8",
           "zerolinewidth": 2
          }
         }
        },
        "title": {
         "font": {
          "size": 24
         },
         "text": "Renewable energy share in the total final energy consumption (%)",
         "x": 0.5
        },
        "width": 1000
       }
      }
     },
     "metadata": {},
     "output_type": "display_data"
    },
    {
     "name": "stdout",
     "output_type": "stream",
     "text": [
      "CO2 Emissions (kt) by Country\n"
     ]
    },
    {
     "data": {
      "application/vnd.plotly.v1+json": {
       "config": {
        "plotlyServerURL": "https://plot.ly"
       },
       "data": [
        {
         "colorbar": {
          "title": {
           "text": "CO2 Emissions (kt) by Country"
          }
         },
         "colorscale": [
          [
           0,
           "rgb(0,0,0)"
          ],
          [
           0.2,
           "rgb(30,0,100)"
          ],
          [
           0.4,
           "rgb(120,0,100)"
          ],
          [
           0.6,
           "rgb(160,90,0)"
          ],
          [
           0.8,
           "rgb(230,200,0)"
          ],
          [
           1,
           "rgb(255,250,220)"
          ]
         ],
         "locationmode": "country names",
         "locations": [
          "Afghanistan",
          "Armenia",
          "Azerbaijan",
          "Bahrain",
          "Bangladesh",
          "Bhutan",
          "Cambodia",
          "China",
          "Cyprus",
          "Georgia",
          "India",
          "Indonesia",
          "Iraq",
          "Israel",
          "Japan",
          "Jordan",
          "Kazakhstan",
          "Kuwait",
          "Kyrgyzstan",
          "Lebanon",
          "Malaysia",
          "Maldives",
          "Mongolia",
          "Myanmar",
          "Nepal",
          "Oman",
          "Pakistan",
          "Philippines",
          "Qatar",
          "Saudi Arabia",
          "Singapore",
          "Sri Lanka",
          "Tajikistan",
          "Thailand",
          "Turkey",
          "Turkmenistan",
          "United Arab Emirates",
          "Uzbekistan",
          "Yemen"
         ],
         "type": "choropleth",
         "visible": true,
         "z": [
          760,
          3560,
          27690,
          15880,
          21650,
          210,
          1960,
          3346530,
          7130,
          4770,
          937860,
          280650,
          87630,
          57000,
          1182610,
          16270,
          120150,
          49840,
          null,
          15670,
          124360,
          460,
          9000,
          9440,
          3220,
          25110,
          98370,
          72100,
          28660,
          249660,
          42120,
          10930,
          2200,
          164490,
          null,
          38510,
          84730,
          123810,
          null
         ],
         "zmax": 10707219.73,
         "zmin": 210
        },
        {
         "colorbar": {
          "title": {
           "text": "CO2 Emissions (kt) by Country"
          }
         },
         "colorscale": [
          [
           0,
           "rgb(0,0,0)"
          ],
          [
           0.2,
           "rgb(30,0,100)"
          ],
          [
           0.4,
           "rgb(120,0,100)"
          ],
          [
           0.6,
           "rgb(160,90,0)"
          ],
          [
           0.8,
           "rgb(230,200,0)"
          ],
          [
           1,
           "rgb(255,250,220)"
          ]
         ],
         "locationmode": "country names",
         "locations": [
          "Afghanistan",
          "Armenia",
          "Azerbaijan",
          "Bahrain",
          "Bangladesh",
          "Bhutan",
          "Cambodia",
          "China",
          "Cyprus",
          "Georgia",
          "India",
          "Indonesia",
          "Iraq",
          "Israel",
          "Japan",
          "Jordan",
          "Kazakhstan",
          "Kuwait",
          "Kyrgyzstan",
          "Lebanon",
          "Malaysia",
          "Maldives",
          "Mongolia",
          "Myanmar",
          "Nepal",
          "Oman",
          "Pakistan",
          "Philippines",
          "Qatar",
          "Saudi Arabia",
          "Singapore",
          "Sri Lanka",
          "Tajikistan",
          "Thailand",
          "Turkey",
          "Turkmenistan",
          "United Arab Emirates",
          "Uzbekistan",
          "Yemen"
         ],
         "type": "choropleth",
         "visible": false,
         "z": [
          730,
          3600,
          26400,
          16390,
          25780,
          230,
          2150,
          3529080,
          6990,
          3520,
          953540,
          302060,
          97550,
          57950,
          1170380,
          16250,
          117440,
          53190,
          null,
          16890,
          129460,
          480,
          8970,
          8350,
          3460,
          28030,
          99840,
          70480,
          28650,
          254090,
          42030,
          10850,
          2150,
          173160,
          null,
          39120,
          97200,
          125700,
          null
         ],
         "zmax": 10707219.73,
         "zmin": 210
        },
        {
         "colorbar": {
          "title": {
           "text": "CO2 Emissions (kt) by Country"
          }
         },
         "colorscale": [
          [
           0,
           "rgb(0,0,0)"
          ],
          [
           0.2,
           "rgb(30,0,100)"
          ],
          [
           0.4,
           "rgb(120,0,100)"
          ],
          [
           0.6,
           "rgb(160,90,0)"
          ],
          [
           0.8,
           "rgb(230,200,0)"
          ],
          [
           1,
           "rgb(255,250,220)"
          ]
         ],
         "locationmode": "country names",
         "locations": [
          "Afghanistan",
          "Armenia",
          "Azerbaijan",
          "Bahrain",
          "Bangladesh",
          "Bhutan",
          "Cambodia",
          "China",
          "Cyprus",
          "Georgia",
          "India",
          "Indonesia",
          "Iraq",
          "Israel",
          "Japan",
          "Jordan",
          "Kazakhstan",
          "Kuwait",
          "Kyrgyzstan",
          "Lebanon",
          "Malaysia",
          "Maldives",
          "Mongolia",
          "Myanmar",
          "Nepal",
          "Oman",
          "Pakistan",
          "Philippines",
          "Qatar",
          "Saudi Arabia",
          "Singapore",
          "Sri Lanka",
          "Tajikistan",
          "Thailand",
          "Turkey",
          "Turkmenistan",
          "United Arab Emirates",
          "Uzbekistan",
          "Yemen"
         ],
         "type": "choropleth",
         "visible": false,
         "z": [
          1029.999971,
          3119.999886,
          26180.00031,
          17219.99931,
          27430.00031,
          239.9999946,
          2210.000038,
          3810060.059,
          7170.000076,
          2960.000038,
          985450.0122,
          305640.0146,
          91160.00366,
          61080.00183,
          1206599.976,
          16870.00084,
          131059.9976,
          55590.00015,
          null,
          16840.00015,
          136380.0049,
          620.0000048,
          9600.000381,
          8300.000191,
          2789.999962,
          29969.99931,
          102330.0018,
          71569.99969,
          32500,
          272250,
          41290.00092,
          11390.00034,
          2130.000114,
          184240.0055,
          null,
          41409.99985,
          99150.00153,
          129889.9994,
          null
         ],
         "zmax": 10707219.73,
         "zmin": 210
        },
        {
         "colorbar": {
          "title": {
           "text": "CO2 Emissions (kt) by Country"
          }
         },
         "colorscale": [
          [
           0,
           "rgb(0,0,0)"
          ],
          [
           0.2,
           "rgb(30,0,100)"
          ],
          [
           0.4,
           "rgb(120,0,100)"
          ],
          [
           0.6,
           "rgb(160,90,0)"
          ],
          [
           0.8,
           "rgb(230,200,0)"
          ],
          [
           1,
           "rgb(255,250,220)"
          ]
         ],
         "locationmode": "country names",
         "locations": [
          "Afghanistan",
          "Armenia",
          "Azerbaijan",
          "Bahrain",
          "Bangladesh",
          "Bhutan",
          "Cambodia",
          "China",
          "Cyprus",
          "Georgia",
          "India",
          "Indonesia",
          "Iraq",
          "Israel",
          "Japan",
          "Jordan",
          "Kazakhstan",
          "Kuwait",
          "Kyrgyzstan",
          "Lebanon",
          "Malaysia",
          "Maldives",
          "Mongolia",
          "Myanmar",
          "Nepal",
          "Oman",
          "Pakistan",
          "Philippines",
          "Qatar",
          "Saudi Arabia",
          "Singapore",
          "Sri Lanka",
          "Tajikistan",
          "Thailand",
          "Turkey",
          "Turkmenistan",
          "United Arab Emirates",
          "Uzbekistan",
          "Yemen"
         ],
         "type": "choropleth",
         "visible": false,
         "z": [
          1220.000029,
          3500,
          28569.99969,
          17940.00053,
          28629.99916,
          259.9999905,
          2380.000114,
          4415910.156,
          7829.999924,
          3160.000086,
          1011770.02,
          333890.0146,
          81279.99878,
          62930.00031,
          1214949.951,
          17309.99947,
          146139.9994,
          58119.99893,
          null,
          17409.99985,
          144490.0055,
          529.9999714,
          9310.00042,
          10489.99977,
          3019.999981,
          31700.00076,
          105660.0037,
          73629.99725,
          34740.00168,
          284829.9866,
          38159.99985,
          12409.99985,
          2180.000067,
          191929.9927,
          null,
          46349.99847,
          103819.9997,
          121910.0037,
          null
         ],
         "zmax": 10707219.73,
         "zmin": 210
        },
        {
         "colorbar": {
          "title": {
           "text": "CO2 Emissions (kt) by Country"
          }
         },
         "colorscale": [
          [
           0,
           "rgb(0,0,0)"
          ],
          [
           0.2,
           "rgb(30,0,100)"
          ],
          [
           0.4,
           "rgb(120,0,100)"
          ],
          [
           0.6,
           "rgb(160,90,0)"
          ],
          [
           0.8,
           "rgb(230,200,0)"
          ],
          [
           1,
           "rgb(255,250,220)"
          ]
         ],
         "locationmode": "country names",
         "locations": [
          "Afghanistan",
          "Armenia",
          "Azerbaijan",
          "Bahrain",
          "Bangladesh",
          "Bhutan",
          "Cambodia",
          "China",
          "Cyprus",
          "Georgia",
          "India",
          "Indonesia",
          "Iraq",
          "Israel",
          "Japan",
          "Jordan",
          "Kazakhstan",
          "Kuwait",
          "Kyrgyzstan",
          "Lebanon",
          "Malaysia",
          "Maldives",
          "Mongolia",
          "Myanmar",
          "Nepal",
          "Oman",
          "Pakistan",
          "Philippines",
          "Qatar",
          "Saudi Arabia",
          "Singapore",
          "Sri Lanka",
          "Tajikistan",
          "Thailand",
          "Turkey",
          "Turkmenistan",
          "United Arab Emirates",
          "Uzbekistan",
          "Yemen"
         ],
         "type": "choropleth",
         "visible": false,
         "z": [
          1029.999971,
          3759.99999,
          28309.99947,
          17930.00031,
          30530.00069,
          289.9999917,
          2380.000114,
          5124819.824,
          7780.00021,
          3369.999886,
          1085670.044,
          341239.9902,
          88110.00061,
          63159.99985,
          1209849.976,
          18579.99992,
          158029.9988,
          61909.99985,
          null,
          17879.99916,
          158270.0043,
          750,
          9560.00042,
          10149.99962,
          2809.999943,
          31260.00023,
          118650.0015,
          75139.99939,
          37069.99969,
          299890.0146,
          39619.99893,
          12869.99989,
          2599.999905,
          210190.0024,
          null,
          49369.99893,
          110010.0021,
          124839.9963,
          null
         ],
         "zmax": 10707219.73,
         "zmin": 210
        },
        {
         "colorbar": {
          "title": {
           "text": "CO2 Emissions (kt) by Country"
          }
         },
         "colorscale": [
          [
           0,
           "rgb(0,0,0)"
          ],
          [
           0.2,
           "rgb(30,0,100)"
          ],
          [
           0.4,
           "rgb(120,0,100)"
          ],
          [
           0.6,
           "rgb(160,90,0)"
          ],
          [
           0.8,
           "rgb(230,200,0)"
          ],
          [
           1,
           "rgb(255,250,220)"
          ]
         ],
         "locationmode": "country names",
         "locations": [
          "Afghanistan",
          "Armenia",
          "Azerbaijan",
          "Bahrain",
          "Bangladesh",
          "Bhutan",
          "Cambodia",
          "China",
          "Cyprus",
          "Georgia",
          "India",
          "Indonesia",
          "Iraq",
          "Israel",
          "Japan",
          "Jordan",
          "Kazakhstan",
          "Kuwait",
          "Kyrgyzstan",
          "Lebanon",
          "Malaysia",
          "Maldives",
          "Mongolia",
          "Myanmar",
          "Nepal",
          "Oman",
          "Pakistan",
          "Philippines",
          "Qatar",
          "Saudi Arabia",
          "Singapore",
          "Sri Lanka",
          "Tajikistan",
          "Thailand",
          "Turkey",
          "Turkmenistan",
          "United Arab Emirates",
          "Uzbekistan",
          "Yemen"
         ],
         "type": "choropleth",
         "visible": false,
         "z": [
          1549.999952,
          4460.000038,
          30040.00092,
          20690.00053,
          32709.99908,
          319.9999928,
          2660.000086,
          5824629.883,
          7900.000095,
          4239.999771,
          1136469.971,
          342149.9939,
          85129.99725,
          61009.99832,
          1212819.946,
          19870.00084,
          169210.0067,
          69910.00366,
          null,
          17280.00069,
          167419.9982,
          720.0000286,
          11060.00042,
          10720.00027,
          3190.000057,
          31010.00023,
          121669.9982,
          76669.99817,
          38540.00092,
          315290.0085,
          36900.00153,
          13979.99954,
          2470.000029,
          217770.0043,
          null,
          50590.00015,
          116459.9991,
          119190.0024,
          null
         ],
         "zmax": 10707219.73,
         "zmin": 210
        },
        {
         "colorbar": {
          "title": {
           "text": "CO2 Emissions (kt) by Country"
          }
         },
         "colorscale": [
          [
           0,
           "rgb(0,0,0)"
          ],
          [
           0.2,
           "rgb(30,0,100)"
          ],
          [
           0.4,
           "rgb(120,0,100)"
          ],
          [
           0.6,
           "rgb(160,90,0)"
          ],
          [
           0.8,
           "rgb(230,200,0)"
          ],
          [
           1,
           "rgb(255,250,220)"
          ]
         ],
         "locationmode": "country names",
         "locations": [
          "Afghanistan",
          "Armenia",
          "Azerbaijan",
          "Bahrain",
          "Bangladesh",
          "Bhutan",
          "Cambodia",
          "China",
          "Cyprus",
          "Georgia",
          "India",
          "Indonesia",
          "Iraq",
          "Israel",
          "Japan",
          "Jordan",
          "Kazakhstan",
          "Kuwait",
          "Kyrgyzstan",
          "Lebanon",
          "Malaysia",
          "Maldives",
          "Mongolia",
          "Myanmar",
          "Nepal",
          "Oman",
          "Pakistan",
          "Philippines",
          "Qatar",
          "Saudi Arabia",
          "Singapore",
          "Sri Lanka",
          "Tajikistan",
          "Thailand",
          "Turkey",
          "Turkmenistan",
          "United Arab Emirates",
          "Uzbekistan",
          "Yemen"
         ],
         "type": "choropleth",
         "visible": false,
         "z": [
          1759.99999,
          4489.999771,
          30489.99977,
          22489.99977,
          35900.00153,
          319.9999928,
          2960.000038,
          6437470.215,
          8000,
          4699.999809,
          1215209.961,
          364470.0012,
          82959.99908,
          64330.00183,
          1189520.02,
          20170.00008,
          185300.0031,
          72430.00031,
          null,
          16229.99954,
          174100.0061,
          870.0000048,
          12420.00008,
          9970.000267,
          2619.999886,
          39189.99863,
          132479.9957,
          69470.00122,
          43770.00046,
          335440.0024,
          37169.99817,
          12399.99962,
          2690.000057,
          219880.0049,
          null,
          51919.99817,
          121559.9976,
          127360.0006,
          null
         ],
         "zmax": 10707219.73,
         "zmin": 210
        },
        {
         "colorbar": {
          "title": {
           "text": "CO2 Emissions (kt) by Country"
          }
         },
         "colorscale": [
          [
           0,
           "rgb(0,0,0)"
          ],
          [
           0.2,
           "rgb(30,0,100)"
          ],
          [
           0.4,
           "rgb(120,0,100)"
          ],
          [
           0.6,
           "rgb(160,90,0)"
          ],
          [
           0.8,
           "rgb(230,200,0)"
          ],
          [
           1,
           "rgb(255,250,220)"
          ]
         ],
         "locationmode": "country names",
         "locations": [
          "Afghanistan",
          "Armenia",
          "Azerbaijan",
          "Bahrain",
          "Bangladesh",
          "Bhutan",
          "Cambodia",
          "China",
          "Cyprus",
          "Georgia",
          "India",
          "Indonesia",
          "Iraq",
          "Israel",
          "Japan",
          "Jordan",
          "Kazakhstan",
          "Kuwait",
          "Kyrgyzstan",
          "Lebanon",
          "Malaysia",
          "Maldives",
          "Mongolia",
          "Myanmar",
          "Nepal",
          "Oman",
          "Pakistan",
          "Philippines",
          "Qatar",
          "Saudi Arabia",
          "Singapore",
          "Sri Lanka",
          "Tajikistan",
          "Thailand",
          "Turkey",
          "Turkmenistan",
          "United Arab Emirates",
          "Uzbekistan",
          "Yemen"
         ],
         "type": "choropleth",
         "visible": false,
         "z": [
          1769.999981,
          5199.999809,
          27629.99916,
          23000,
          37990.00168,
          319.9999928,
          3660.000086,
          6993180.176,
          8310.00042,
          5630.000114,
          1336739.99,
          379959.9915,
          76650.00153,
          66599.99847,
          1225069.946,
          21090.00015,
          198389.9994,
          70599.99847,
          null,
          15039.99996,
          189940.0024,
          870.0000048,
          13020.00046,
          10390.00034,
          2690.000057,
          42259.99832,
          146259.9945,
          73220.00122,
          49830.00183,
          354619.9951,
          38290.00092,
          13590.00015,
          3269.999981,
          224589.9963,
          null,
          58479.99954,
          131830.0018,
          122580.0018,
          null
         ],
         "zmax": 10707219.73,
         "zmin": 210
        },
        {
         "colorbar": {
          "title": {
           "text": "CO2 Emissions (kt) by Country"
          }
         },
         "colorscale": [
          [
           0,
           "rgb(0,0,0)"
          ],
          [
           0.2,
           "rgb(30,0,100)"
          ],
          [
           0.4,
           "rgb(120,0,100)"
          ],
          [
           0.6,
           "rgb(160,90,0)"
          ],
          [
           0.8,
           "rgb(230,200,0)"
          ],
          [
           1,
           "rgb(255,250,220)"
          ]
         ],
         "locationmode": "country names",
         "locations": [
          "Afghanistan",
          "Armenia",
          "Azerbaijan",
          "Bahrain",
          "Bangladesh",
          "Bhutan",
          "Cambodia",
          "China",
          "Cyprus",
          "Georgia",
          "India",
          "Indonesia",
          "Iraq",
          "Israel",
          "Japan",
          "Jordan",
          "Kazakhstan",
          "Kuwait",
          "Kyrgyzstan",
          "Lebanon",
          "Malaysia",
          "Maldives",
          "Mongolia",
          "Myanmar",
          "Nepal",
          "Oman",
          "Pakistan",
          "Philippines",
          "Qatar",
          "Saudi Arabia",
          "Singapore",
          "Sri Lanka",
          "Tajikistan",
          "Thailand",
          "Turkey",
          "Turkmenistan",
          "United Arab Emirates",
          "Uzbekistan",
          "Yemen"
         ],
         "type": "choropleth",
         "visible": false,
         "z": [
          3559.999943,
          5690.000057,
          30450.00076,
          24760.00023,
          41580.00183,
          300.0000119,
          4059.999943,
          7199600.098,
          8489.999771,
          4840.000153,
          1424380.005,
          376140.0146,
          88139.99939,
          66709.99908,
          1158219.971,
          20010.00023,
          242029.9988,
          75839.99634,
          null,
          18649.99962,
          202910.0037,
          870.0000048,
          12970.00027,
          7900.000095,
          2990.00001,
          41310.00137,
          142160.0037,
          75150.00153,
          53040.00092,
          389720.0012,
          38419.99817,
          12810.00042,
          3039.999962,
          227580.0018,
          null,
          59279.99878,
          156050.0031,
          128880.0049,
          null
         ],
         "zmax": 10707219.73,
         "zmin": 210
        },
        {
         "colorbar": {
          "title": {
           "text": "CO2 Emissions (kt) by Country"
          }
         },
         "colorscale": [
          [
           0,
           "rgb(0,0,0)"
          ],
          [
           0.2,
           "rgb(30,0,100)"
          ],
          [
           0.4,
           "rgb(120,0,100)"
          ],
          [
           0.6,
           "rgb(160,90,0)"
          ],
          [
           0.8,
           "rgb(230,200,0)"
          ],
          [
           1,
           "rgb(255,250,220)"
          ]
         ],
         "locationmode": "country names",
         "locations": [
          "Afghanistan",
          "Armenia",
          "Azerbaijan",
          "Bahrain",
          "Bangladesh",
          "Bhutan",
          "Cambodia",
          "China",
          "Cyprus",
          "Georgia",
          "India",
          "Indonesia",
          "Iraq",
          "Israel",
          "Japan",
          "Jordan",
          "Kazakhstan",
          "Kuwait",
          "Kyrgyzstan",
          "Lebanon",
          "Malaysia",
          "Maldives",
          "Mongolia",
          "Myanmar",
          "Nepal",
          "Oman",
          "Pakistan",
          "Philippines",
          "Qatar",
          "Saudi Arabia",
          "Singapore",
          "Sri Lanka",
          "Tajikistan",
          "Thailand",
          "Turkey",
          "Turkmenistan",
          "United Arab Emirates",
          "Uzbekistan",
          "Yemen"
         ],
         "type": "choropleth",
         "visible": false,
         "z": [
          4880.000114,
          4510.000229,
          25500,
          24719.99931,
          44750,
          319.9999928,
          4750,
          7719069.824,
          8279.999733,
          5619.999886,
          1564880.005,
          391079.9866,
          94199.99695,
          65730.00336,
          1100979.98,
          20659.99985,
          213610.0006,
          77650.00153,
          null,
          21899.99962,
          181929.9927,
          910.0000262,
          13640.00034,
          7489.999771,
          3880.000114,
          43590.00015,
          145139.9994,
          76300.00305,
          54069.99969,
          406529.9988,
          38830.00183,
          12289.99996,
          2410.000086,
          220259.9945,
          null,
          52389.99939,
          157020.0043,
          116529.9988,
          null
         ],
         "zmax": 10707219.73,
         "zmin": 210
        },
        {
         "colorbar": {
          "title": {
           "text": "CO2 Emissions (kt) by Country"
          }
         },
         "colorscale": [
          [
           0,
           "rgb(0,0,0)"
          ],
          [
           0.2,
           "rgb(30,0,100)"
          ],
          [
           0.4,
           "rgb(120,0,100)"
          ],
          [
           0.6,
           "rgb(160,90,0)"
          ],
          [
           0.8,
           "rgb(230,200,0)"
          ],
          [
           1,
           "rgb(255,250,220)"
          ]
         ],
         "locationmode": "country names",
         "locations": [
          "Afghanistan",
          "Armenia",
          "Azerbaijan",
          "Bahrain",
          "Bangladesh",
          "Bhutan",
          "Cambodia",
          "China",
          "Cyprus",
          "Georgia",
          "India",
          "Indonesia",
          "Iraq",
          "Israel",
          "Japan",
          "Jordan",
          "Kazakhstan",
          "Kuwait",
          "Kyrgyzstan",
          "Lebanon",
          "Malaysia",
          "Maldives",
          "Mongolia",
          "Myanmar",
          "Nepal",
          "Oman",
          "Pakistan",
          "Philippines",
          "Qatar",
          "Saudi Arabia",
          "Singapore",
          "Sri Lanka",
          "Tajikistan",
          "Thailand",
          "Turkey",
          "Turkmenistan",
          "United Arab Emirates",
          "Uzbekistan",
          "Yemen"
         ],
         "type": "choropleth",
         "visible": false,
         "z": [
          7110.000134,
          4340.000153,
          24309.99947,
          25969.99931,
          50580.00183,
          400.000006,
          5139.999866,
          8474919.922,
          7900.000095,
          5320.000172,
          1659979.98,
          415519.989,
          108550.0031,
          70519.99664,
          1156479.98,
          20200.00076,
          229699.9969,
          80720.00122,
          null,
          20860.00061,
          200220.0012,
          959.9999785,
          14310.00042,
          8130.000114,
          4639.999866,
          47080.00183,
          140619.9951,
          81930.00031,
          60580.00183,
          446130.0049,
          42409.99985,
          13069.99969,
          2450.000048,
          234380.0049,
          null,
          59180.00031,
          162789.9933,
          126239.9979,
          null
         ],
         "zmax": 10707219.73,
         "zmin": 210
        },
        {
         "colorbar": {
          "title": {
           "text": "CO2 Emissions (kt) by Country"
          }
         },
         "colorscale": [
          [
           0,
           "rgb(0,0,0)"
          ],
          [
           0.2,
           "rgb(30,0,100)"
          ],
          [
           0.4,
           "rgb(120,0,100)"
          ],
          [
           0.6,
           "rgb(160,90,0)"
          ],
          [
           0.8,
           "rgb(230,200,0)"
          ],
          [
           1,
           "rgb(255,250,220)"
          ]
         ],
         "locationmode": "country names",
         "locations": [
          "Afghanistan",
          "Armenia",
          "Azerbaijan",
          "Bahrain",
          "Bangladesh",
          "Bhutan",
          "Cambodia",
          "China",
          "Cyprus",
          "Georgia",
          "India",
          "Indonesia",
          "Iraq",
          "Israel",
          "Japan",
          "Jordan",
          "Kazakhstan",
          "Kuwait",
          "Kyrgyzstan",
          "Lebanon",
          "Malaysia",
          "Maldives",
          "Mongolia",
          "Myanmar",
          "Nepal",
          "Oman",
          "Pakistan",
          "Philippines",
          "Qatar",
          "Saudi Arabia",
          "Singapore",
          "Sri Lanka",
          "Tajikistan",
          "Thailand",
          "Turkey",
          "Turkmenistan",
          "United Arab Emirates",
          "Uzbekistan",
          "Yemen"
         ],
         "type": "choropleth",
         "visible": false,
         "z": [
          8930.000305,
          4940.000057,
          27280.00069,
          26020.00046,
          54419.99817,
          589.9999738,
          5360.000134,
          9282549.805,
          7630.000114,
          6519.999981,
          1756739.99,
          475309.9976,
          113040.0009,
          69819.99969,
          1213520.02,
          20760.00023,
          245449.9969,
          83290.00092,
          null,
          21180.00031,
          202740.0055,
          1009.99999,
          15729.99954,
          8689.99958,
          5199.999809,
          53619.99893,
          141699.9969,
          82629.99725,
          68190.00244,
          463769.989,
          44770.00046,
          15420.00008,
          2559.999943,
          233600.0061,
          null,
          65449.99695,
          165600.0061,
          128630.0049,
          null
         ],
         "zmax": 10707219.73,
         "zmin": 210
        },
        {
         "colorbar": {
          "title": {
           "text": "CO2 Emissions (kt) by Country"
          }
         },
         "colorscale": [
          [
           0,
           "rgb(0,0,0)"
          ],
          [
           0.2,
           "rgb(30,0,100)"
          ],
          [
           0.4,
           "rgb(120,0,100)"
          ],
          [
           0.6,
           "rgb(160,90,0)"
          ],
          [
           0.8,
           "rgb(230,200,0)"
          ],
          [
           1,
           "rgb(255,250,220)"
          ]
         ],
         "locationmode": "country names",
         "locations": [
          "Afghanistan",
          "Armenia",
          "Azerbaijan",
          "Bahrain",
          "Bangladesh",
          "Bhutan",
          "Cambodia",
          "China",
          "Cyprus",
          "Georgia",
          "India",
          "Indonesia",
          "Iraq",
          "Israel",
          "Japan",
          "Jordan",
          "Kazakhstan",
          "Kuwait",
          "Kyrgyzstan",
          "Lebanon",
          "Malaysia",
          "Maldives",
          "Mongolia",
          "Myanmar",
          "Nepal",
          "Oman",
          "Pakistan",
          "Philippines",
          "Qatar",
          "Saudi Arabia",
          "Singapore",
          "Sri Lanka",
          "Tajikistan",
          "Thailand",
          "Turkey",
          "Turkmenistan",
          "United Arab Emirates",
          "Uzbekistan",
          "Yemen"
         ],
         "type": "choropleth",
         "visible": false,
         "z": [
          8079.999924,
          5719.99979,
          30110.00061,
          27170.00008,
          57990.00168,
          639.9999857,
          5670.000076,
          9541870.117,
          7099.999905,
          7190.000057,
          1909439.941,
          481510.0098,
          129000,
          76059.99756,
          1253609.985,
          24120.00084,
          244600.0061,
          85309.99756,
          null,
          23469.99931,
          205809.9976,
          1139.999986,
          17139.99939,
          11960.00004,
          6000,
          60549.99924,
          143809.9976,
          86180.00031,
          75080.00183,
          492470.0012,
          43689.99863,
          16850.00038,
          3019.999981,
          250679.9927,
          null,
          69010.00214,
          175589.9963,
          113139.9994,
          null
         ],
         "zmax": 10707219.73,
         "zmin": 210
        },
        {
         "colorbar": {
          "title": {
           "text": "CO2 Emissions (kt) by Country"
          }
         },
         "colorscale": [
          [
           0,
           "rgb(0,0,0)"
          ],
          [
           0.2,
           "rgb(30,0,100)"
          ],
          [
           0.4,
           "rgb(120,0,100)"
          ],
          [
           0.6,
           "rgb(160,90,0)"
          ],
          [
           0.8,
           "rgb(230,200,0)"
          ],
          [
           1,
           "rgb(255,250,220)"
          ]
         ],
         "locationmode": "country names",
         "locations": [
          "Afghanistan",
          "Armenia",
          "Azerbaijan",
          "Bahrain",
          "Bangladesh",
          "Bhutan",
          "Cambodia",
          "China",
          "Cyprus",
          "Georgia",
          "India",
          "Indonesia",
          "Iraq",
          "Israel",
          "Japan",
          "Jordan",
          "Kazakhstan",
          "Kuwait",
          "Kyrgyzstan",
          "Lebanon",
          "Malaysia",
          "Maldives",
          "Mongolia",
          "Myanmar",
          "Nepal",
          "Oman",
          "Pakistan",
          "Philippines",
          "Qatar",
          "Saudi Arabia",
          "Singapore",
          "Sri Lanka",
          "Tajikistan",
          "Thailand",
          "Turkey",
          "Turkmenistan",
          "United Arab Emirates",
          "Uzbekistan",
          "Yemen"
         ],
         "type": "choropleth",
         "visible": false,
         "z": [
          5989.999771,
          5500,
          30940.00053,
          28850.00038,
          60599.99847,
          670.0000167,
          5739.999771,
          9984570.313,
          6429.999828,
          7840.000153,
          1972430.054,
          447940.0024,
          139100.0061,
          67000,
          1262780.029,
          23799.99924,
          260010.0098,
          87360.00061,
          null,
          23239.99977,
          223660.0037,
          1129.999995,
          18379.99916,
          13600.00038,
          6090.000153,
          63009.99832,
          146059.9976,
          95500,
          76169.99817,
          503209.9915,
          43909.99985,
          14479.99954,
          3200.000048,
          260700.0122,
          null,
          70220.00122,
          184470.0012,
          111860.0006,
          null
         ],
         "zmax": 10707219.73,
         "zmin": 210
        },
        {
         "colorbar": {
          "title": {
           "text": "CO2 Emissions (kt) by Country"
          }
         },
         "colorscale": [
          [
           0,
           "rgb(0,0,0)"
          ],
          [
           0.2,
           "rgb(30,0,100)"
          ],
          [
           0.4,
           "rgb(120,0,100)"
          ],
          [
           0.6,
           "rgb(160,90,0)"
          ],
          [
           0.8,
           "rgb(230,200,0)"
          ],
          [
           1,
           "rgb(255,250,220)"
          ]
         ],
         "locationmode": "country names",
         "locations": [
          "Afghanistan",
          "Armenia",
          "Azerbaijan",
          "Bahrain",
          "Bangladesh",
          "Bhutan",
          "Cambodia",
          "China",
          "Cyprus",
          "Georgia",
          "India",
          "Indonesia",
          "Iraq",
          "Israel",
          "Japan",
          "Jordan",
          "Kazakhstan",
          "Kuwait",
          "Kyrgyzstan",
          "Lebanon",
          "Malaysia",
          "Maldives",
          "Mongolia",
          "Myanmar",
          "Nepal",
          "Oman",
          "Pakistan",
          "Philippines",
          "Qatar",
          "Saudi Arabia",
          "Singapore",
          "Sri Lanka",
          "Tajikistan",
          "Thailand",
          "Turkey",
          "Turkmenistan",
          "United Arab Emirates",
          "Uzbekistan",
          "Yemen"
         ],
         "type": "choropleth",
         "visible": false,
         "z": [
          4880.000114,
          5480.000019,
          32240.00168,
          30280.00069,
          63830.00183,
          699.9999881,
          6949.999809,
          10006669.92,
          6809.999943,
          8470.000267,
          2147110.107,
          483910.0037,
          134039.9933,
          64720.00122,
          1217119.995,
          25549.99924,
          209229.9957,
          85569.99969,
          null,
          25149.99962,
          236649.9939,
          1370.000005,
          18120.00084,
          17040.00092,
          7130.000114,
          66389.99939,
          154240.0055,
          101819.9997,
          81660.00366,
          540520.0195,
          44400.00153,
          17600.00038,
          4579.999924,
          256799.9878,
          null,
          71400.00153,
          184759.9945,
          104870.0027,
          null
         ],
         "zmax": 10707219.73,
         "zmin": 210
        },
        {
         "colorbar": {
          "title": {
           "text": "CO2 Emissions (kt) by Country"
          }
         },
         "colorscale": [
          [
           0,
           "rgb(0,0,0)"
          ],
          [
           0.2,
           "rgb(30,0,100)"
          ],
          [
           0.4,
           "rgb(120,0,100)"
          ],
          [
           0.6,
           "rgb(160,90,0)"
          ],
          [
           0.8,
           "rgb(230,200,0)"
          ],
          [
           1,
           "rgb(255,250,220)"
          ]
         ],
         "locationmode": "country names",
         "locations": [
          "Afghanistan",
          "Armenia",
          "Azerbaijan",
          "Bahrain",
          "Bangladesh",
          "Bhutan",
          "Cambodia",
          "China",
          "Cyprus",
          "Georgia",
          "India",
          "Indonesia",
          "Iraq",
          "Israel",
          "Japan",
          "Jordan",
          "Kazakhstan",
          "Kuwait",
          "Kyrgyzstan",
          "Lebanon",
          "Malaysia",
          "Maldives",
          "Mongolia",
          "Myanmar",
          "Nepal",
          "Oman",
          "Pakistan",
          "Philippines",
          "Qatar",
          "Saudi Arabia",
          "Singapore",
          "Sri Lanka",
          "Tajikistan",
          "Thailand",
          "Turkey",
          "Turkmenistan",
          "United Arab Emirates",
          "Uzbekistan",
          "Yemen"
         ],
         "type": "choropleth",
         "visible": false,
         "z": [
          5949.999809,
          5340.000153,
          31770.00046,
          30579.99992,
          72190.00244,
          769.9999809,
          8430.000305,
          9861099.609,
          6849.999905,
          9199.999809,
          2158020.02,
          488549.9878,
          133169.9982,
          66139.99939,
          1179439.941,
          25309.99947,
          190729.9957,
          89019.99664,
          null,
          27010.00023,
          236539.9933,
          1370.000005,
          17299.99924,
          19040.00092,
          7190.000057,
          70129.99725,
          164130.0049,
          111010.0021,
          84779.99878,
          565190.0024,
          45430.00031,
          20360.00061,
          4900.000095,
          264000,
          null,
          73400.00153,
          195240.0055,
          99169.99817,
          null
         ],
         "zmax": 10707219.73,
         "zmin": 210
        },
        {
         "colorbar": {
          "title": {
           "text": "CO2 Emissions (kt) by Country"
          }
         },
         "colorscale": [
          [
           0,
           "rgb(0,0,0)"
          ],
          [
           0.2,
           "rgb(30,0,100)"
          ],
          [
           0.4,
           "rgb(120,0,100)"
          ],
          [
           0.6,
           "rgb(160,90,0)"
          ],
          [
           0.8,
           "rgb(230,200,0)"
          ],
          [
           1,
           "rgb(255,250,220)"
          ]
         ],
         "locationmode": "country names",
         "locations": [
          "Afghanistan",
          "Armenia",
          "Azerbaijan",
          "Bahrain",
          "Bangladesh",
          "Bhutan",
          "Cambodia",
          "China",
          "Cyprus",
          "Georgia",
          "India",
          "Indonesia",
          "Iraq",
          "Israel",
          "Japan",
          "Jordan",
          "Kazakhstan",
          "Kuwait",
          "Kyrgyzstan",
          "Lebanon",
          "Malaysia",
          "Maldives",
          "Mongolia",
          "Myanmar",
          "Nepal",
          "Oman",
          "Pakistan",
          "Philippines",
          "Qatar",
          "Saudi Arabia",
          "Singapore",
          "Sri Lanka",
          "Tajikistan",
          "Thailand",
          "Turkey",
          "Turkmenistan",
          "United Arab Emirates",
          "Uzbekistan",
          "Yemen"
         ],
         "type": "choropleth",
         "visible": false,
         "z": [
          5300.000191,
          5070.000172,
          32240.00168,
          30299.99924,
          74379.99725,
          930.0000072,
          11069.99969,
          9874660.156,
          7219.99979,
          9649.999619,
          2195250,
          482510.0098,
          142229.9957,
          64980.00336,
          1167790.039,
          24819.99969,
          202149.9939,
          91550.00305,
          null,
          27809.99947,
          235960.0067,
          1759.99999,
          18170.00008,
          21860.00061,
          10409.99985,
          72129.99725,
          181110.0006,
          121959.9991,
          86919.99817,
          561229.9805,
          46099.99847,
          21930.00031,
          6090.000153,
          261600.0061,
          null,
          73339.99634,
          201080.0018,
          105230.0034,
          null
         ],
         "zmax": 10707219.73,
         "zmin": 210
        },
        {
         "colorbar": {
          "title": {
           "text": "CO2 Emissions (kt) by Country"
          }
         },
         "colorscale": [
          [
           0,
           "rgb(0,0,0)"
          ],
          [
           0.2,
           "rgb(30,0,100)"
          ],
          [
           0.4,
           "rgb(120,0,100)"
          ],
          [
           0.6,
           "rgb(160,90,0)"
          ],
          [
           0.8,
           "rgb(230,200,0)"
          ],
          [
           1,
           "rgb(255,250,220)"
          ]
         ],
         "locationmode": "country names",
         "locations": [
          "Afghanistan",
          "Armenia",
          "Azerbaijan",
          "Bahrain",
          "Bangladesh",
          "Bhutan",
          "Cambodia",
          "China",
          "Cyprus",
          "Georgia",
          "India",
          "Indonesia",
          "Iraq",
          "Israel",
          "Japan",
          "Jordan",
          "Kazakhstan",
          "Kuwait",
          "Kyrgyzstan",
          "Lebanon",
          "Malaysia",
          "Maldives",
          "Mongolia",
          "Myanmar",
          "Nepal",
          "Oman",
          "Pakistan",
          "Philippines",
          "Qatar",
          "Saudi Arabia",
          "Singapore",
          "Sri Lanka",
          "Tajikistan",
          "Thailand",
          "Turkey",
          "Turkmenistan",
          "United Arab Emirates",
          "Uzbekistan",
          "Yemen"
         ],
         "type": "choropleth",
         "visible": false,
         "z": [
          4780.00021,
          5369.999886,
          31959.99908,
          30520.00046,
          79339.99634,
          970.0000286,
          12689.99958,
          10096009.77,
          7360.000134,
          9729.999542,
          2320409.912,
          517320.0073,
          155080.0018,
          65610.00061,
          1155229.98,
          26149.99962,
          214580.0018,
          90730.00336,
          null,
          29319.99969,
          227619.9951,
          1860.000014,
          19579.99992,
          32500,
          12479.99954,
          71930.00031,
          198830.0018,
          133500,
          87540.00092,
          545070.0073,
          49139.99939,
          23360.00061,
          7369.999886,
          258820.0073,
          null,
          73120.00275,
          197039.9933,
          109529.9988,
          null
         ],
         "zmax": 10707219.73,
         "zmin": 210
        },
        {
         "colorbar": {
          "title": {
           "text": "CO2 Emissions (kt) by Country"
          }
         },
         "colorscale": [
          [
           0,
           "rgb(0,0,0)"
          ],
          [
           0.2,
           "rgb(30,0,100)"
          ],
          [
           0.4,
           "rgb(120,0,100)"
          ],
          [
           0.6,
           "rgb(160,90,0)"
          ],
          [
           0.8,
           "rgb(230,200,0)"
          ],
          [
           1,
           "rgb(255,250,220)"
          ]
         ],
         "locationmode": "country names",
         "locations": [
          "Afghanistan",
          "Armenia",
          "Azerbaijan",
          "Bahrain",
          "Bangladesh",
          "Bhutan",
          "Cambodia",
          "China",
          "Cyprus",
          "Georgia",
          "India",
          "Indonesia",
          "Iraq",
          "Israel",
          "Japan",
          "Jordan",
          "Kazakhstan",
          "Kuwait",
          "Kyrgyzstan",
          "Lebanon",
          "Malaysia",
          "Maldives",
          "Mongolia",
          "Myanmar",
          "Nepal",
          "Oman",
          "Pakistan",
          "Philippines",
          "Qatar",
          "Saudi Arabia",
          "Singapore",
          "Sri Lanka",
          "Tajikistan",
          "Thailand",
          "Turkey",
          "Turkmenistan",
          "United Arab Emirates",
          "Uzbekistan",
          "Yemen"
         ],
         "type": "choropleth",
         "visible": false,
         "z": [
          6070.000172,
          5710.000038,
          32729.99954,
          30809.99947,
          83449.99695,
          1049.999952,
          14579.99992,
          10502929.69,
          7199.999809,
          9569.999695,
          2451929.932,
          576989.9902,
          163149.9939,
          61080.00183,
          1116150.024,
          24780.00069,
          216600.0061,
          91389.99939,
          null,
          27790.00092,
          244410.0037,
          2099.999905,
          21549.99924,
          32939.99863,
          15189.99958,
          75599.99847,
          187309.9976,
          138570.0073,
          86419.99817,
          521260.0098,
          47400.00153,
          21690.00053,
          8680.000305,
          257049.9878,
          null,
          73050.00305,
          177119.9951,
          112470.0012,
          null
         ],
         "zmax": 10707219.73,
         "zmin": 210
        },
        {
         "colorbar": {
          "title": {
           "text": "CO2 Emissions (kt) by Country"
          }
         },
         "colorscale": [
          [
           0,
           "rgb(0,0,0)"
          ],
          [
           0.2,
           "rgb(30,0,100)"
          ],
          [
           0.4,
           "rgb(120,0,100)"
          ],
          [
           0.6,
           "rgb(160,90,0)"
          ],
          [
           0.8,
           "rgb(230,200,0)"
          ],
          [
           1,
           "rgb(255,250,220)"
          ]
         ],
         "locationmode": "country names",
         "locations": [
          "Afghanistan",
          "Armenia",
          "Azerbaijan",
          "Bahrain",
          "Bangladesh",
          "Bhutan",
          "Cambodia",
          "China",
          "Cyprus",
          "Georgia",
          "India",
          "Indonesia",
          "Iraq",
          "Israel",
          "Japan",
          "Jordan",
          "Kazakhstan",
          "Kuwait",
          "Kyrgyzstan",
          "Lebanon",
          "Malaysia",
          "Maldives",
          "Mongolia",
          "Myanmar",
          "Nepal",
          "Oman",
          "Pakistan",
          "Philippines",
          "Qatar",
          "Saudi Arabia",
          "Singapore",
          "Sri Lanka",
          "Tajikistan",
          "Thailand",
          "Turkey",
          "Turkmenistan",
          "United Arab Emirates",
          "Uzbekistan",
          "Yemen"
         ],
         "type": "choropleth",
         "visible": false,
         "z": [
          6079.999924,
          6170.000076,
          35509.99832,
          33259.99832,
          90739.99786,
          1049.999952,
          16180.00031,
          10707219.73,
          7190.000057,
          10109.99966,
          2456300.049,
          619840.0269,
          174559.9976,
          62650.00153,
          1081569.946,
          24629.99916,
          212110.0006,
          92650.00153,
          null,
          27950.00076,
          253270.0043,
          2109.999895,
          23069.99969,
          36720.00122,
          13449.99981,
          76029.99878,
          190570.0073,
          145419.9982,
          91970.00122,
          523780.0293,
          47380.00107,
          23780.00069,
          9420.000076,
          267089.9963,
          null,
          72870.00275,
          188860.0006,
          116709.9991,
          null
         ],
         "zmax": 10707219.73,
         "zmin": 210
        }
       ],
       "layout": {
        "font": {
         "family": "Arial",
         "size": 12
        },
        "geo": {
         "projection": {
          "type": "equirectangular"
         },
         "scope": "asia",
         "showcoastlines": false,
         "showframe": true
        },
        "height": 500,
        "margin": {
         "b": 50,
         "l": 50,
         "r": 50,
         "t": 80
        },
        "sliders": [
         {
          "active": 0,
          "currentvalue": {
           "font": {
            "size": 14
           },
           "prefix": "Year: "
          },
          "steps": [
           {
            "args": [
             {
              "visible": [
               true,
               false,
               false,
               false,
               false,
               false,
               false,
               false,
               false,
               false,
               false,
               false,
               false,
               false,
               false,
               false,
               false,
               false,
               false,
               false
              ]
             },
             {
              "frame": {
               "duration": 1000,
               "redraw": true
              },
              "title_text": "CO2 Emissions (kt) by Country Map - 2000"
             }
            ],
            "label": "2000",
            "method": "update"
           },
           {
            "args": [
             {
              "visible": [
               false,
               true,
               false,
               false,
               false,
               false,
               false,
               false,
               false,
               false,
               false,
               false,
               false,
               false,
               false,
               false,
               false,
               false,
               false,
               false
              ]
             },
             {
              "frame": {
               "duration": 1000,
               "redraw": true
              },
              "title_text": "CO2 Emissions (kt) by Country Map - 2001"
             }
            ],
            "label": "2001",
            "method": "update"
           },
           {
            "args": [
             {
              "visible": [
               false,
               false,
               true,
               false,
               false,
               false,
               false,
               false,
               false,
               false,
               false,
               false,
               false,
               false,
               false,
               false,
               false,
               false,
               false,
               false
              ]
             },
             {
              "frame": {
               "duration": 1000,
               "redraw": true
              },
              "title_text": "CO2 Emissions (kt) by Country Map - 2002"
             }
            ],
            "label": "2002",
            "method": "update"
           },
           {
            "args": [
             {
              "visible": [
               false,
               false,
               false,
               true,
               false,
               false,
               false,
               false,
               false,
               false,
               false,
               false,
               false,
               false,
               false,
               false,
               false,
               false,
               false,
               false
              ]
             },
             {
              "frame": {
               "duration": 1000,
               "redraw": true
              },
              "title_text": "CO2 Emissions (kt) by Country Map - 2003"
             }
            ],
            "label": "2003",
            "method": "update"
           },
           {
            "args": [
             {
              "visible": [
               false,
               false,
               false,
               false,
               true,
               false,
               false,
               false,
               false,
               false,
               false,
               false,
               false,
               false,
               false,
               false,
               false,
               false,
               false,
               false
              ]
             },
             {
              "frame": {
               "duration": 1000,
               "redraw": true
              },
              "title_text": "CO2 Emissions (kt) by Country Map - 2004"
             }
            ],
            "label": "2004",
            "method": "update"
           },
           {
            "args": [
             {
              "visible": [
               false,
               false,
               false,
               false,
               false,
               true,
               false,
               false,
               false,
               false,
               false,
               false,
               false,
               false,
               false,
               false,
               false,
               false,
               false,
               false
              ]
             },
             {
              "frame": {
               "duration": 1000,
               "redraw": true
              },
              "title_text": "CO2 Emissions (kt) by Country Map - 2005"
             }
            ],
            "label": "2005",
            "method": "update"
           },
           {
            "args": [
             {
              "visible": [
               false,
               false,
               false,
               false,
               false,
               false,
               true,
               false,
               false,
               false,
               false,
               false,
               false,
               false,
               false,
               false,
               false,
               false,
               false,
               false
              ]
             },
             {
              "frame": {
               "duration": 1000,
               "redraw": true
              },
              "title_text": "CO2 Emissions (kt) by Country Map - 2006"
             }
            ],
            "label": "2006",
            "method": "update"
           },
           {
            "args": [
             {
              "visible": [
               false,
               false,
               false,
               false,
               false,
               false,
               false,
               true,
               false,
               false,
               false,
               false,
               false,
               false,
               false,
               false,
               false,
               false,
               false,
               false
              ]
             },
             {
              "frame": {
               "duration": 1000,
               "redraw": true
              },
              "title_text": "CO2 Emissions (kt) by Country Map - 2007"
             }
            ],
            "label": "2007",
            "method": "update"
           },
           {
            "args": [
             {
              "visible": [
               false,
               false,
               false,
               false,
               false,
               false,
               false,
               false,
               true,
               false,
               false,
               false,
               false,
               false,
               false,
               false,
               false,
               false,
               false,
               false
              ]
             },
             {
              "frame": {
               "duration": 1000,
               "redraw": true
              },
              "title_text": "CO2 Emissions (kt) by Country Map - 2008"
             }
            ],
            "label": "2008",
            "method": "update"
           },
           {
            "args": [
             {
              "visible": [
               false,
               false,
               false,
               false,
               false,
               false,
               false,
               false,
               false,
               true,
               false,
               false,
               false,
               false,
               false,
               false,
               false,
               false,
               false,
               false
              ]
             },
             {
              "frame": {
               "duration": 1000,
               "redraw": true
              },
              "title_text": "CO2 Emissions (kt) by Country Map - 2009"
             }
            ],
            "label": "2009",
            "method": "update"
           },
           {
            "args": [
             {
              "visible": [
               false,
               false,
               false,
               false,
               false,
               false,
               false,
               false,
               false,
               false,
               true,
               false,
               false,
               false,
               false,
               false,
               false,
               false,
               false,
               false
              ]
             },
             {
              "frame": {
               "duration": 1000,
               "redraw": true
              },
              "title_text": "CO2 Emissions (kt) by Country Map - 2010"
             }
            ],
            "label": "2010",
            "method": "update"
           },
           {
            "args": [
             {
              "visible": [
               false,
               false,
               false,
               false,
               false,
               false,
               false,
               false,
               false,
               false,
               false,
               true,
               false,
               false,
               false,
               false,
               false,
               false,
               false,
               false
              ]
             },
             {
              "frame": {
               "duration": 1000,
               "redraw": true
              },
              "title_text": "CO2 Emissions (kt) by Country Map - 2011"
             }
            ],
            "label": "2011",
            "method": "update"
           },
           {
            "args": [
             {
              "visible": [
               false,
               false,
               false,
               false,
               false,
               false,
               false,
               false,
               false,
               false,
               false,
               false,
               true,
               false,
               false,
               false,
               false,
               false,
               false,
               false
              ]
             },
             {
              "frame": {
               "duration": 1000,
               "redraw": true
              },
              "title_text": "CO2 Emissions (kt) by Country Map - 2012"
             }
            ],
            "label": "2012",
            "method": "update"
           },
           {
            "args": [
             {
              "visible": [
               false,
               false,
               false,
               false,
               false,
               false,
               false,
               false,
               false,
               false,
               false,
               false,
               false,
               true,
               false,
               false,
               false,
               false,
               false,
               false
              ]
             },
             {
              "frame": {
               "duration": 1000,
               "redraw": true
              },
              "title_text": "CO2 Emissions (kt) by Country Map - 2013"
             }
            ],
            "label": "2013",
            "method": "update"
           },
           {
            "args": [
             {
              "visible": [
               false,
               false,
               false,
               false,
               false,
               false,
               false,
               false,
               false,
               false,
               false,
               false,
               false,
               false,
               true,
               false,
               false,
               false,
               false,
               false
              ]
             },
             {
              "frame": {
               "duration": 1000,
               "redraw": true
              },
              "title_text": "CO2 Emissions (kt) by Country Map - 2014"
             }
            ],
            "label": "2014",
            "method": "update"
           },
           {
            "args": [
             {
              "visible": [
               false,
               false,
               false,
               false,
               false,
               false,
               false,
               false,
               false,
               false,
               false,
               false,
               false,
               false,
               false,
               true,
               false,
               false,
               false,
               false
              ]
             },
             {
              "frame": {
               "duration": 1000,
               "redraw": true
              },
              "title_text": "CO2 Emissions (kt) by Country Map - 2015"
             }
            ],
            "label": "2015",
            "method": "update"
           },
           {
            "args": [
             {
              "visible": [
               false,
               false,
               false,
               false,
               false,
               false,
               false,
               false,
               false,
               false,
               false,
               false,
               false,
               false,
               false,
               false,
               true,
               false,
               false,
               false
              ]
             },
             {
              "frame": {
               "duration": 1000,
               "redraw": true
              },
              "title_text": "CO2 Emissions (kt) by Country Map - 2016"
             }
            ],
            "label": "2016",
            "method": "update"
           },
           {
            "args": [
             {
              "visible": [
               false,
               false,
               false,
               false,
               false,
               false,
               false,
               false,
               false,
               false,
               false,
               false,
               false,
               false,
               false,
               false,
               false,
               true,
               false,
               false
              ]
             },
             {
              "frame": {
               "duration": 1000,
               "redraw": true
              },
              "title_text": "CO2 Emissions (kt) by Country Map - 2017"
             }
            ],
            "label": "2017",
            "method": "update"
           },
           {
            "args": [
             {
              "visible": [
               false,
               false,
               false,
               false,
               false,
               false,
               false,
               false,
               false,
               false,
               false,
               false,
               false,
               false,
               false,
               false,
               false,
               false,
               true,
               false
              ]
             },
             {
              "frame": {
               "duration": 1000,
               "redraw": true
              },
              "title_text": "CO2 Emissions (kt) by Country Map - 2018"
             }
            ],
            "label": "2018",
            "method": "update"
           },
           {
            "args": [
             {
              "visible": [
               false,
               false,
               false,
               false,
               false,
               false,
               false,
               false,
               false,
               false,
               false,
               false,
               false,
               false,
               false,
               false,
               false,
               false,
               false,
               true
              ]
             },
             {
              "frame": {
               "duration": 1000,
               "redraw": true
              },
              "title_text": "CO2 Emissions (kt) by Country Map - 2019"
             }
            ],
            "label": "2019",
            "method": "update"
           }
          ]
         }
        ],
        "template": {
         "data": {
          "bar": [
           {
            "error_x": {
             "color": "#2a3f5f"
            },
            "error_y": {
             "color": "#2a3f5f"
            },
            "marker": {
             "line": {
              "color": "white",
              "width": 0.5
             },
             "pattern": {
              "fillmode": "overlay",
              "size": 10,
              "solidity": 0.2
             }
            },
            "type": "bar"
           }
          ],
          "barpolar": [
           {
            "marker": {
             "line": {
              "color": "white",
              "width": 0.5
             },
             "pattern": {
              "fillmode": "overlay",
              "size": 10,
              "solidity": 0.2
             }
            },
            "type": "barpolar"
           }
          ],
          "carpet": [
           {
            "aaxis": {
             "endlinecolor": "#2a3f5f",
             "gridcolor": "#C8D4E3",
             "linecolor": "#C8D4E3",
             "minorgridcolor": "#C8D4E3",
             "startlinecolor": "#2a3f5f"
            },
            "baxis": {
             "endlinecolor": "#2a3f5f",
             "gridcolor": "#C8D4E3",
             "linecolor": "#C8D4E3",
             "minorgridcolor": "#C8D4E3",
             "startlinecolor": "#2a3f5f"
            },
            "type": "carpet"
           }
          ],
          "choropleth": [
           {
            "colorbar": {
             "outlinewidth": 0,
             "ticks": ""
            },
            "type": "choropleth"
           }
          ],
          "contour": [
           {
            "colorbar": {
             "outlinewidth": 0,
             "ticks": ""
            },
            "colorscale": [
             [
              0,
              "#0d0887"
             ],
             [
              0.1111111111111111,
              "#46039f"
             ],
             [
              0.2222222222222222,
              "#7201a8"
             ],
             [
              0.3333333333333333,
              "#9c179e"
             ],
             [
              0.4444444444444444,
              "#bd3786"
             ],
             [
              0.5555555555555556,
              "#d8576b"
             ],
             [
              0.6666666666666666,
              "#ed7953"
             ],
             [
              0.7777777777777778,
              "#fb9f3a"
             ],
             [
              0.8888888888888888,
              "#fdca26"
             ],
             [
              1,
              "#f0f921"
             ]
            ],
            "type": "contour"
           }
          ],
          "contourcarpet": [
           {
            "colorbar": {
             "outlinewidth": 0,
             "ticks": ""
            },
            "type": "contourcarpet"
           }
          ],
          "heatmap": [
           {
            "colorbar": {
             "outlinewidth": 0,
             "ticks": ""
            },
            "colorscale": [
             [
              0,
              "#0d0887"
             ],
             [
              0.1111111111111111,
              "#46039f"
             ],
             [
              0.2222222222222222,
              "#7201a8"
             ],
             [
              0.3333333333333333,
              "#9c179e"
             ],
             [
              0.4444444444444444,
              "#bd3786"
             ],
             [
              0.5555555555555556,
              "#d8576b"
             ],
             [
              0.6666666666666666,
              "#ed7953"
             ],
             [
              0.7777777777777778,
              "#fb9f3a"
             ],
             [
              0.8888888888888888,
              "#fdca26"
             ],
             [
              1,
              "#f0f921"
             ]
            ],
            "type": "heatmap"
           }
          ],
          "heatmapgl": [
           {
            "colorbar": {
             "outlinewidth": 0,
             "ticks": ""
            },
            "colorscale": [
             [
              0,
              "#0d0887"
             ],
             [
              0.1111111111111111,
              "#46039f"
             ],
             [
              0.2222222222222222,
              "#7201a8"
             ],
             [
              0.3333333333333333,
              "#9c179e"
             ],
             [
              0.4444444444444444,
              "#bd3786"
             ],
             [
              0.5555555555555556,
              "#d8576b"
             ],
             [
              0.6666666666666666,
              "#ed7953"
             ],
             [
              0.7777777777777778,
              "#fb9f3a"
             ],
             [
              0.8888888888888888,
              "#fdca26"
             ],
             [
              1,
              "#f0f921"
             ]
            ],
            "type": "heatmapgl"
           }
          ],
          "histogram": [
           {
            "marker": {
             "pattern": {
              "fillmode": "overlay",
              "size": 10,
              "solidity": 0.2
             }
            },
            "type": "histogram"
           }
          ],
          "histogram2d": [
           {
            "colorbar": {
             "outlinewidth": 0,
             "ticks": ""
            },
            "colorscale": [
             [
              0,
              "#0d0887"
             ],
             [
              0.1111111111111111,
              "#46039f"
             ],
             [
              0.2222222222222222,
              "#7201a8"
             ],
             [
              0.3333333333333333,
              "#9c179e"
             ],
             [
              0.4444444444444444,
              "#bd3786"
             ],
             [
              0.5555555555555556,
              "#d8576b"
             ],
             [
              0.6666666666666666,
              "#ed7953"
             ],
             [
              0.7777777777777778,
              "#fb9f3a"
             ],
             [
              0.8888888888888888,
              "#fdca26"
             ],
             [
              1,
              "#f0f921"
             ]
            ],
            "type": "histogram2d"
           }
          ],
          "histogram2dcontour": [
           {
            "colorbar": {
             "outlinewidth": 0,
             "ticks": ""
            },
            "colorscale": [
             [
              0,
              "#0d0887"
             ],
             [
              0.1111111111111111,
              "#46039f"
             ],
             [
              0.2222222222222222,
              "#7201a8"
             ],
             [
              0.3333333333333333,
              "#9c179e"
             ],
             [
              0.4444444444444444,
              "#bd3786"
             ],
             [
              0.5555555555555556,
              "#d8576b"
             ],
             [
              0.6666666666666666,
              "#ed7953"
             ],
             [
              0.7777777777777778,
              "#fb9f3a"
             ],
             [
              0.8888888888888888,
              "#fdca26"
             ],
             [
              1,
              "#f0f921"
             ]
            ],
            "type": "histogram2dcontour"
           }
          ],
          "mesh3d": [
           {
            "colorbar": {
             "outlinewidth": 0,
             "ticks": ""
            },
            "type": "mesh3d"
           }
          ],
          "parcoords": [
           {
            "line": {
             "colorbar": {
              "outlinewidth": 0,
              "ticks": ""
             }
            },
            "type": "parcoords"
           }
          ],
          "pie": [
           {
            "automargin": true,
            "type": "pie"
           }
          ],
          "scatter": [
           {
            "fillpattern": {
             "fillmode": "overlay",
             "size": 10,
             "solidity": 0.2
            },
            "type": "scatter"
           }
          ],
          "scatter3d": [
           {
            "line": {
             "colorbar": {
              "outlinewidth": 0,
              "ticks": ""
             }
            },
            "marker": {
             "colorbar": {
              "outlinewidth": 0,
              "ticks": ""
             }
            },
            "type": "scatter3d"
           }
          ],
          "scattercarpet": [
           {
            "marker": {
             "colorbar": {
              "outlinewidth": 0,
              "ticks": ""
             }
            },
            "type": "scattercarpet"
           }
          ],
          "scattergeo": [
           {
            "marker": {
             "colorbar": {
              "outlinewidth": 0,
              "ticks": ""
             }
            },
            "type": "scattergeo"
           }
          ],
          "scattergl": [
           {
            "marker": {
             "colorbar": {
              "outlinewidth": 0,
              "ticks": ""
             }
            },
            "type": "scattergl"
           }
          ],
          "scattermapbox": [
           {
            "marker": {
             "colorbar": {
              "outlinewidth": 0,
              "ticks": ""
             }
            },
            "type": "scattermapbox"
           }
          ],
          "scatterpolar": [
           {
            "marker": {
             "colorbar": {
              "outlinewidth": 0,
              "ticks": ""
             }
            },
            "type": "scatterpolar"
           }
          ],
          "scatterpolargl": [
           {
            "marker": {
             "colorbar": {
              "outlinewidth": 0,
              "ticks": ""
             }
            },
            "type": "scatterpolargl"
           }
          ],
          "scatterternary": [
           {
            "marker": {
             "colorbar": {
              "outlinewidth": 0,
              "ticks": ""
             }
            },
            "type": "scatterternary"
           }
          ],
          "surface": [
           {
            "colorbar": {
             "outlinewidth": 0,
             "ticks": ""
            },
            "colorscale": [
             [
              0,
              "#0d0887"
             ],
             [
              0.1111111111111111,
              "#46039f"
             ],
             [
              0.2222222222222222,
              "#7201a8"
             ],
             [
              0.3333333333333333,
              "#9c179e"
             ],
             [
              0.4444444444444444,
              "#bd3786"
             ],
             [
              0.5555555555555556,
              "#d8576b"
             ],
             [
              0.6666666666666666,
              "#ed7953"
             ],
             [
              0.7777777777777778,
              "#fb9f3a"
             ],
             [
              0.8888888888888888,
              "#fdca26"
             ],
             [
              1,
              "#f0f921"
             ]
            ],
            "type": "surface"
           }
          ],
          "table": [
           {
            "cells": {
             "fill": {
              "color": "#EBF0F8"
             },
             "line": {
              "color": "white"
             }
            },
            "header": {
             "fill": {
              "color": "#C8D4E3"
             },
             "line": {
              "color": "white"
             }
            },
            "type": "table"
           }
          ]
         },
         "layout": {
          "annotationdefaults": {
           "arrowcolor": "#2a3f5f",
           "arrowhead": 0,
           "arrowwidth": 1
          },
          "autotypenumbers": "strict",
          "coloraxis": {
           "colorbar": {
            "outlinewidth": 0,
            "ticks": ""
           }
          },
          "colorscale": {
           "diverging": [
            [
             0,
             "#8e0152"
            ],
            [
             0.1,
             "#c51b7d"
            ],
            [
             0.2,
             "#de77ae"
            ],
            [
             0.3,
             "#f1b6da"
            ],
            [
             0.4,
             "#fde0ef"
            ],
            [
             0.5,
             "#f7f7f7"
            ],
            [
             0.6,
             "#e6f5d0"
            ],
            [
             0.7,
             "#b8e186"
            ],
            [
             0.8,
             "#7fbc41"
            ],
            [
             0.9,
             "#4d9221"
            ],
            [
             1,
             "#276419"
            ]
           ],
           "sequential": [
            [
             0,
             "#0d0887"
            ],
            [
             0.1111111111111111,
             "#46039f"
            ],
            [
             0.2222222222222222,
             "#7201a8"
            ],
            [
             0.3333333333333333,
             "#9c179e"
            ],
            [
             0.4444444444444444,
             "#bd3786"
            ],
            [
             0.5555555555555556,
             "#d8576b"
            ],
            [
             0.6666666666666666,
             "#ed7953"
            ],
            [
             0.7777777777777778,
             "#fb9f3a"
            ],
            [
             0.8888888888888888,
             "#fdca26"
            ],
            [
             1,
             "#f0f921"
            ]
           ],
           "sequentialminus": [
            [
             0,
             "#0d0887"
            ],
            [
             0.1111111111111111,
             "#46039f"
            ],
            [
             0.2222222222222222,
             "#7201a8"
            ],
            [
             0.3333333333333333,
             "#9c179e"
            ],
            [
             0.4444444444444444,
             "#bd3786"
            ],
            [
             0.5555555555555556,
             "#d8576b"
            ],
            [
             0.6666666666666666,
             "#ed7953"
            ],
            [
             0.7777777777777778,
             "#fb9f3a"
            ],
            [
             0.8888888888888888,
             "#fdca26"
            ],
            [
             1,
             "#f0f921"
            ]
           ]
          },
          "colorway": [
           "#636efa",
           "#EF553B",
           "#00cc96",
           "#ab63fa",
           "#FFA15A",
           "#19d3f3",
           "#FF6692",
           "#B6E880",
           "#FF97FF",
           "#FECB52"
          ],
          "font": {
           "color": "#2a3f5f"
          },
          "geo": {
           "bgcolor": "white",
           "lakecolor": "white",
           "landcolor": "white",
           "showlakes": true,
           "showland": true,
           "subunitcolor": "#C8D4E3"
          },
          "hoverlabel": {
           "align": "left"
          },
          "hovermode": "closest",
          "mapbox": {
           "style": "light"
          },
          "paper_bgcolor": "white",
          "plot_bgcolor": "white",
          "polar": {
           "angularaxis": {
            "gridcolor": "#EBF0F8",
            "linecolor": "#EBF0F8",
            "ticks": ""
           },
           "bgcolor": "white",
           "radialaxis": {
            "gridcolor": "#EBF0F8",
            "linecolor": "#EBF0F8",
            "ticks": ""
           }
          },
          "scene": {
           "xaxis": {
            "backgroundcolor": "white",
            "gridcolor": "#DFE8F3",
            "gridwidth": 2,
            "linecolor": "#EBF0F8",
            "showbackground": true,
            "ticks": "",
            "zerolinecolor": "#EBF0F8"
           },
           "yaxis": {
            "backgroundcolor": "white",
            "gridcolor": "#DFE8F3",
            "gridwidth": 2,
            "linecolor": "#EBF0F8",
            "showbackground": true,
            "ticks": "",
            "zerolinecolor": "#EBF0F8"
           },
           "zaxis": {
            "backgroundcolor": "white",
            "gridcolor": "#DFE8F3",
            "gridwidth": 2,
            "linecolor": "#EBF0F8",
            "showbackground": true,
            "ticks": "",
            "zerolinecolor": "#EBF0F8"
           }
          },
          "shapedefaults": {
           "line": {
            "color": "#2a3f5f"
           }
          },
          "ternary": {
           "aaxis": {
            "gridcolor": "#DFE8F3",
            "linecolor": "#A2B1C6",
            "ticks": ""
           },
           "baxis": {
            "gridcolor": "#DFE8F3",
            "linecolor": "#A2B1C6",
            "ticks": ""
           },
           "bgcolor": "white",
           "caxis": {
            "gridcolor": "#DFE8F3",
            "linecolor": "#A2B1C6",
            "ticks": ""
           }
          },
          "title": {
           "x": 0.05
          },
          "xaxis": {
           "automargin": true,
           "gridcolor": "#EBF0F8",
           "linecolor": "#EBF0F8",
           "ticks": "",
           "title": {
            "standoff": 15
           },
           "zerolinecolor": "#EBF0F8",
           "zerolinewidth": 2
          },
          "yaxis": {
           "automargin": true,
           "gridcolor": "#EBF0F8",
           "linecolor": "#EBF0F8",
           "ticks": "",
           "title": {
            "standoff": 15
           },
           "zerolinecolor": "#EBF0F8",
           "zerolinewidth": 2
          }
         }
        },
        "title": {
         "font": {
          "size": 24
         },
         "text": "CO2 Emissions (kt) by Country",
         "x": 0.5
        },
        "width": 1000
       }
      }
     },
     "metadata": {},
     "output_type": "display_data"
    }
   ],
   "source": [
    "# Plot globe chart\n",
    "for i in select_col:\n",
    "    column_name = i\n",
    "    print(column_name)\n",
    "    plot_world_map(column_name)"
   ]
  }
 ],
 "metadata": {
  "kernelspec": {
   "display_name": "IPCC",
   "language": "python",
   "name": "python3"
  },
  "language_info": {
   "codemirror_mode": {
    "name": "ipython",
    "version": 3
   },
   "file_extension": ".py",
   "mimetype": "text/x-python",
   "name": "python",
   "nbconvert_exporter": "python",
   "pygments_lexer": "ipython3",
   "version": "3.8.17"
  }
 },
 "nbformat": 4,
 "nbformat_minor": 2
}
